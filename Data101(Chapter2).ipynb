{
  "nbformat": 4,
  "nbformat_minor": 0,
  "metadata": {
    "colab": {
      "name": "Data101(Chapter2).ipynb",
      "provenance": [],
      "include_colab_link": true
    },
    "kernelspec": {
      "name": "python3",
      "display_name": "Python 3"
    },
    "language_info": {
      "name": "python"
    }
  },
  "cells": [
    {
      "cell_type": "markdown",
      "metadata": {
        "id": "view-in-github",
        "colab_type": "text"
      },
      "source": [
        "<a href=\"https://colab.research.google.com/github/Chanunchida-May/DWDM21/blob/main/Data101(Chapter2).ipynb\" target=\"_parent\"><img src=\"https://colab.research.google.com/assets/colab-badge.svg\" alt=\"Open In Colab\"/></a>"
      ]
    },
    {
      "cell_type": "markdown",
      "metadata": {
        "id": "SXWX3_KIz3lq"
      },
      "source": [
        "ข้อความที่อยู่ใน text box จะเป็นภาษา Markdown"
      ]
    },
    {
      "cell_type": "markdown",
      "metadata": {
        "id": "7wlWBZsauAfL"
      },
      "source": [
        "ข้อดีหนึ่งของ python คือมี package สำหรับงานต่างๆมากมาย\n",
        "\n",
        "ซึ่ง pandas เป็น package สำหรับทำงานกับข้อมูลที่อยู่ในรูปแบบตาราง\n",
        "\n",
        "โดย Pandas จะเรียกตารางนั้นว่า dataframe"
      ]
    },
    {
      "cell_type": "code",
      "metadata": {
        "id": "jyIndrHStz2K"
      },
      "source": [
        "import pandas #วิธีเรียกใช้ package คือ import ตามด้วยชื่อ package"
      ],
      "execution_count": null,
      "outputs": []
    },
    {
      "cell_type": "code",
      "metadata": {
        "id": "J4WGsC7Ht69v"
      },
      "source": [
        "import pandas as pd # เหมือนกับข้างบนเเต่ว่า ตั้งชื่อให้ package ที่โหลดมาใหม่ว่า pd\n"
      ],
      "execution_count": null,
      "outputs": []
    },
    {
      "cell_type": "markdown",
      "metadata": {
        "id": "frXfKg4iu2Jv"
      },
      "source": [
        "ไฟล์ .csv (csv = comma separated values) เป็นไฟล์หลักที่เราจะได้ใช้กันในวิชานี้ \n",
        "\n"
      ]
    },
    {
      "cell_type": "code",
      "metadata": {
        "id": "Y1yvxyr9t9yC"
      },
      "source": [
        "data_df = pd.read_csv('data.csv')"
      ],
      "execution_count": null,
      "outputs": []
    },
    {
      "cell_type": "code",
      "metadata": {
        "colab": {
          "base_uri": "https://localhost:8080/",
          "height": 141
        },
        "id": "tJqNjrpvt92u",
        "outputId": "879717e8-f3f5-44d5-e208-744507c0dd44"
      },
      "source": [
        "data_df"
      ],
      "execution_count": null,
      "outputs": [
        {
          "output_type": "execute_result",
          "data": {
            "text/html": [
              "<div>\n",
              "<style scoped>\n",
              "    .dataframe tbody tr th:only-of-type {\n",
              "        vertical-align: middle;\n",
              "    }\n",
              "\n",
              "    .dataframe tbody tr th {\n",
              "        vertical-align: top;\n",
              "    }\n",
              "\n",
              "    .dataframe thead th {\n",
              "        text-align: right;\n",
              "    }\n",
              "</style>\n",
              "<table border=\"1\" class=\"dataframe\">\n",
              "  <thead>\n",
              "    <tr style=\"text-align: right;\">\n",
              "      <th></th>\n",
              "      <th>\\tname</th>\n",
              "      <th>age</th>\n",
              "      <th>city</th>\n",
              "    </tr>\n",
              "  </thead>\n",
              "  <tbody>\n",
              "    <tr>\n",
              "      <th>0</th>\n",
              "      <td>0\\tTom</td>\n",
              "      <td>27</td>\n",
              "      <td>Khon Kaen</td>\n",
              "    </tr>\n",
              "    <tr>\n",
              "      <th>1</th>\n",
              "      <td>1\\tPaul</td>\n",
              "      <td>15</td>\n",
              "      <td>Bangkok</td>\n",
              "    </tr>\n",
              "    <tr>\n",
              "      <th>2</th>\n",
              "      <td>2\\tSarah</td>\n",
              "      <td>49</td>\n",
              "      <td>London</td>\n",
              "    </tr>\n",
              "  </tbody>\n",
              "</table>\n",
              "</div>"
            ],
            "text/plain": [
              "     \\tname  age       city\n",
              "0    0\\tTom   27  Khon Kaen\n",
              "1   1\\tPaul   15    Bangkok\n",
              "2  2\\tSarah   49     London"
            ]
          },
          "metadata": {
            "tags": []
          },
          "execution_count": 9
        }
      ]
    },
    {
      "cell_type": "code",
      "metadata": {
        "colab": {
          "base_uri": "https://localhost:8080/",
          "height": 141
        },
        "id": "OoPRicJdt989",
        "outputId": "85bb6702-c4ae-4911-fb1d-9fd641d512c4"
      },
      "source": [
        "data_df2 = pandas.read_csv('data.csv')\n",
        "data_df2"
      ],
      "execution_count": null,
      "outputs": [
        {
          "output_type": "execute_result",
          "data": {
            "text/html": [
              "<div>\n",
              "<style scoped>\n",
              "    .dataframe tbody tr th:only-of-type {\n",
              "        vertical-align: middle;\n",
              "    }\n",
              "\n",
              "    .dataframe tbody tr th {\n",
              "        vertical-align: top;\n",
              "    }\n",
              "\n",
              "    .dataframe thead th {\n",
              "        text-align: right;\n",
              "    }\n",
              "</style>\n",
              "<table border=\"1\" class=\"dataframe\">\n",
              "  <thead>\n",
              "    <tr style=\"text-align: right;\">\n",
              "      <th></th>\n",
              "      <th>\\tname</th>\n",
              "      <th>age</th>\n",
              "      <th>city</th>\n",
              "    </tr>\n",
              "  </thead>\n",
              "  <tbody>\n",
              "    <tr>\n",
              "      <th>0</th>\n",
              "      <td>0\\tTom</td>\n",
              "      <td>27</td>\n",
              "      <td>Khon Kaen</td>\n",
              "    </tr>\n",
              "    <tr>\n",
              "      <th>1</th>\n",
              "      <td>1\\tPaul</td>\n",
              "      <td>15</td>\n",
              "      <td>Bangkok</td>\n",
              "    </tr>\n",
              "    <tr>\n",
              "      <th>2</th>\n",
              "      <td>2\\tSarah</td>\n",
              "      <td>49</td>\n",
              "      <td>London</td>\n",
              "    </tr>\n",
              "  </tbody>\n",
              "</table>\n",
              "</div>"
            ],
            "text/plain": [
              "     \\tname  age       city\n",
              "0    0\\tTom   27  Khon Kaen\n",
              "1   1\\tPaul   15    Bangkok\n",
              "2  2\\tSarah   49     London"
            ]
          },
          "metadata": {
            "tags": []
          },
          "execution_count": 10
        }
      ]
    },
    {
      "cell_type": "markdown",
      "metadata": {
        "id": "rPq--IWKyhrK"
      },
      "source": [
        "# Basic Python\n",
        "\n",
        "## variables"
      ]
    },
    {
      "cell_type": "markdown",
      "metadata": {
        "id": "PUe505fR1qAR"
      },
      "source": [
        "ข้อกำหนดในการตั้งชื่อตัวเเปร\n",
        "\n",
        "1.ชื่อห้ามมีเว้นวรรค\n",
        "\n",
        "2.พยายามใช้ภาษาอังกฤษ\n",
        "\n",
        "3..ตัวเล็กกับตัวใหญ่เเตกต่างกัน (case sensitive)\n",
        "\n",
        "4.ห้ามใช้ตัวเลขเป็นตัวหน้า"
      ]
    },
    {
      "cell_type": "code",
      "metadata": {
        "id": "EvNfqeqBt-BB"
      },
      "source": [
        "variable_a = 12   #การตั้งชื่อตัวเเปรห้ามมีเว้นวรรค\n",
        "variable_b = 'abcde' #' ' เรียกว่า quote\n",
        "variable_c = variable_a"
      ],
      "execution_count": null,
      "outputs": []
    },
    {
      "cell_type": "code",
      "metadata": {
        "colab": {
          "base_uri": "https://localhost:8080/"
        },
        "id": "YQuQhGB4yawB",
        "outputId": "c08b2903-e232-4fe7-aeed-cad23bcf19d1"
      },
      "source": [
        "variable_a"
      ],
      "execution_count": null,
      "outputs": [
        {
          "output_type": "execute_result",
          "data": {
            "text/plain": [
              "12"
            ]
          },
          "metadata": {
            "tags": []
          },
          "execution_count": 11
        }
      ]
    },
    {
      "cell_type": "code",
      "metadata": {
        "colab": {
          "base_uri": "https://localhost:8080/",
          "height": 35
        },
        "id": "q5MWSc2OyazK",
        "outputId": "2b3662b3-fe5b-43f7-e1e1-d8d43ed20097"
      },
      "source": [
        "variable_b"
      ],
      "execution_count": null,
      "outputs": [
        {
          "output_type": "execute_result",
          "data": {
            "application/vnd.google.colaboratory.intrinsic+json": {
              "type": "string"
            },
            "text/plain": [
              "'abcde'"
            ]
          },
          "metadata": {
            "tags": []
          },
          "execution_count": 12
        }
      ]
    },
    {
      "cell_type": "code",
      "metadata": {
        "colab": {
          "base_uri": "https://localhost:8080/"
        },
        "id": "qaK9-fK1ya2k",
        "outputId": "e6788a49-d05c-4037-defc-405d15ef8f89"
      },
      "source": [
        "variable_c"
      ],
      "execution_count": null,
      "outputs": [
        {
          "output_type": "execute_result",
          "data": {
            "text/plain": [
              "12"
            ]
          },
          "metadata": {
            "tags": []
          },
          "execution_count": 13
        }
      ]
    },
    {
      "cell_type": "code",
      "metadata": {
        "colab": {
          "base_uri": "https://localhost:8080/",
          "height": 128
        },
        "id": "pxKjpqhjya51",
        "outputId": "05f250a7-1547-4bd9-f3e0-b8e2b1602171"
      },
      "source": [
        "variable b = 6"
      ],
      "execution_count": null,
      "outputs": [
        {
          "output_type": "error",
          "ename": "SyntaxError",
          "evalue": "ignored",
          "traceback": [
            "\u001b[0;36m  File \u001b[0;32m\"<ipython-input-14-3c29cda956b9>\"\u001b[0;36m, line \u001b[0;32m1\u001b[0m\n\u001b[0;31m    variable b = 6\u001b[0m\n\u001b[0m             ^\u001b[0m\n\u001b[0;31mSyntaxError\u001b[0m\u001b[0;31m:\u001b[0m invalid syntax\n"
          ]
        }
      ]
    },
    {
      "cell_type": "code",
      "metadata": {
        "id": "mdS-E1_St-Ej"
      },
      "source": [
        "ตัวเเปร = 3 #colab ใช้ภาษาไทยเป็นชื่อตัวเเปรได้ เเต่ไม่ควรใช้ \n",
        "          #พยายามใช้ภาษาอังกฤษ"
      ],
      "execution_count": null,
      "outputs": []
    },
    {
      "cell_type": "code",
      "metadata": {
        "colab": {
          "base_uri": "https://localhost:8080/"
        },
        "id": "Vn7HJ_JIt-Hp",
        "outputId": "7de5e048-d07a-4659-eee4-ff7d866dd871"
      },
      "source": [
        "ตัวเเปร"
      ],
      "execution_count": null,
      "outputs": [
        {
          "output_type": "execute_result",
          "data": {
            "text/plain": [
              "3"
            ]
          },
          "metadata": {
            "tags": []
          },
          "execution_count": 17
        }
      ]
    },
    {
      "cell_type": "code",
      "metadata": {
        "colab": {
          "base_uri": "https://localhost:8080/"
        },
        "id": "nc-C5hSH2Tx3",
        "outputId": "050b0c10-7933-4dfc-c74e-dbc59ec9cf8b"
      },
      "source": [
        "#ตัวเล็กกับตัวใหญ่ เเตกต่างกัน (case sensitive)\n",
        "v_a = 1\n",
        "V_a = 2\n",
        "print(v_a)\n",
        "print(V_a)"
      ],
      "execution_count": null,
      "outputs": [
        {
          "output_type": "stream",
          "text": [
            "1\n",
            "2\n"
          ],
          "name": "stdout"
        }
      ]
    },
    {
      "cell_type": "code",
      "metadata": {
        "colab": {
          "base_uri": "https://localhost:8080/"
        },
        "id": "0N9TlMDj2cVC",
        "outputId": "388c8a0e-8e9c-4dd4-c966-d87311193dd5"
      },
      "source": [
        "#ตัวเล็กกับตัวใหญ่ เเตกต่างกัน (case sensitive)\n",
        "v_a = 1\n",
        "v_a = 2\n",
        "print(v_a)\n",
        "print(v_a)"
      ],
      "execution_count": null,
      "outputs": [
        {
          "output_type": "stream",
          "text": [
            "2\n",
            "2\n"
          ],
          "name": "stdout"
        }
      ]
    },
    {
      "cell_type": "code",
      "metadata": {
        "colab": {
          "base_uri": "https://localhost:8080/",
          "height": 128
        },
        "id": "ceYlGeAr2cSj",
        "outputId": "e8621af8-f0f8-4abe-ff76-ecdba40ed37e"
      },
      "source": [
        "#ห้ามใช้ตัวเลขเป็นตัวหน้า\n",
        "2=1"
      ],
      "execution_count": null,
      "outputs": [
        {
          "output_type": "error",
          "ename": "SyntaxError",
          "evalue": "ignored",
          "traceback": [
            "\u001b[0;36m  File \u001b[0;32m\"<ipython-input-22-9e861f116a98>\"\u001b[0;36m, line \u001b[0;32m2\u001b[0m\n\u001b[0;31m    2=1\u001b[0m\n\u001b[0m       ^\u001b[0m\n\u001b[0;31mSyntaxError\u001b[0m\u001b[0;31m:\u001b[0m can't assign to literal\n"
          ]
        }
      ]
    },
    {
      "cell_type": "code",
      "metadata": {
        "colab": {
          "base_uri": "https://localhost:8080/",
          "height": 128
        },
        "id": "5pmBIQIy2cPi",
        "outputId": "26d0efe0-2ee0-47bd-d5c9-eaca719514aa"
      },
      "source": [
        "2ab = 1"
      ],
      "execution_count": null,
      "outputs": [
        {
          "output_type": "error",
          "ename": "SyntaxError",
          "evalue": "ignored",
          "traceback": [
            "\u001b[0;36m  File \u001b[0;32m\"<ipython-input-23-5e626502b3e4>\"\u001b[0;36m, line \u001b[0;32m1\u001b[0m\n\u001b[0;31m    2ab = 1\u001b[0m\n\u001b[0m      ^\u001b[0m\n\u001b[0;31mSyntaxError\u001b[0m\u001b[0;31m:\u001b[0m invalid syntax\n"
          ]
        }
      ]
    },
    {
      "cell_type": "code",
      "metadata": {
        "id": "kK0cAMd42cM-"
      },
      "source": [
        "variable = 1"
      ],
      "execution_count": null,
      "outputs": []
    },
    {
      "cell_type": "code",
      "metadata": {
        "colab": {
          "base_uri": "https://localhost:8080/"
        },
        "id": "zpbjMBoI2cKQ",
        "outputId": "6401fca2-3181-4883-eafb-6a3cba30e996"
      },
      "source": [
        "print(variable)"
      ],
      "execution_count": null,
      "outputs": [
        {
          "output_type": "stream",
          "text": [
            "1\n"
          ],
          "name": "stdout"
        }
      ]
    },
    {
      "cell_type": "code",
      "metadata": {
        "id": "o2KHHlNt2cHK"
      },
      "source": [
        "variable_a = 12  \n",
        "variable_b = 'abcde' #' ' เรียกว่า quote\n",
        "variable_c = variable_a\n",
        "variable_d = -41.2\n",
        "variable_4 = \"KKU\" # \"เรียกว่า double quote\""
      ],
      "execution_count": null,
      "outputs": []
    },
    {
      "cell_type": "code",
      "metadata": {
        "colab": {
          "base_uri": "https://localhost:8080/"
        },
        "id": "fg0uk-Ys4SHg",
        "outputId": "79dacbef-16e0-4508-99ea-1ff4ae8bd355"
      },
      "source": [
        "variable_x =variable_c + variable_d\n",
        "print(variable_x)"
      ],
      "execution_count": null,
      "outputs": [
        {
          "output_type": "stream",
          "text": [
            "-29.200000000000003\n"
          ],
          "name": "stdout"
        }
      ]
    },
    {
      "cell_type": "code",
      "metadata": {
        "colab": {
          "base_uri": "https://localhost:8080/",
          "height": 161
        },
        "id": "PeWvEUmC41Me",
        "outputId": "8ab5d287-13ea-454f-d5f7-feb6a640db6b"
      },
      "source": [
        "variable_a + variable_b  #int กับ string ไม่สามารถบวกกันได้"
      ],
      "execution_count": null,
      "outputs": [
        {
          "output_type": "error",
          "ename": "TypeError",
          "evalue": "ignored",
          "traceback": [
            "\u001b[0;31m---------------------------------------------------------------------------\u001b[0m",
            "\u001b[0;31mTypeError\u001b[0m                                 Traceback (most recent call last)",
            "\u001b[0;32m<ipython-input-30-79991e87d1a0>\u001b[0m in \u001b[0;36m<module>\u001b[0;34m()\u001b[0m\n\u001b[0;32m----> 1\u001b[0;31m \u001b[0mvariable_a\u001b[0m \u001b[0;34m+\u001b[0m \u001b[0mvariable_b\u001b[0m  \u001b[0;31m#int กับ string ไม่สามารถบวกกันได้\u001b[0m\u001b[0;34m\u001b[0m\u001b[0;34m\u001b[0m\u001b[0m\n\u001b[0m",
            "\u001b[0;31mTypeError\u001b[0m: unsupported operand type(s) for +: 'int' and 'str'"
          ]
        }
      ]
    },
    {
      "cell_type": "code",
      "metadata": {
        "colab": {
          "base_uri": "https://localhost:8080/"
        },
        "id": "vf-iU0WI6Noi",
        "outputId": "4c85c1f6-219c-4fa8-bc3a-31bdb9a47a70"
      },
      "source": [
        "print(variable_b + variable_4)"
      ],
      "execution_count": null,
      "outputs": [
        {
          "output_type": "stream",
          "text": [
            "abcdeKKU\n"
          ],
          "name": "stdout"
        }
      ]
    },
    {
      "cell_type": "markdown",
      "metadata": {
        "id": "zEtif4Ru7B4o"
      },
      "source": [
        "## Casting int() float() str()"
      ]
    },
    {
      "cell_type": "code",
      "metadata": {
        "colab": {
          "base_uri": "https://localhost:8080/"
        },
        "id": "r3a_kwhV6W_y",
        "outputId": "5618cc17-93fa-4ad2-aee6-c3914c4461df"
      },
      "source": [
        "print(variable_x)\n",
        "print(int(variable_x))"
      ],
      "execution_count": null,
      "outputs": [
        {
          "output_type": "stream",
          "text": [
            "-29.200000000000003\n",
            "-29\n"
          ],
          "name": "stdout"
        }
      ]
    },
    {
      "cell_type": "code",
      "metadata": {
        "colab": {
          "base_uri": "https://localhost:8080/"
        },
        "id": "vIEBd8Cw6W9m",
        "outputId": "e391c7d7-53fe-4b47-d851-c13c16639484"
      },
      "source": [
        "V_X = str(variable_x)\n",
        "print(V_X)"
      ],
      "execution_count": null,
      "outputs": [
        {
          "output_type": "stream",
          "text": [
            "-29.200000000000003\n"
          ],
          "name": "stdout"
        }
      ]
    },
    {
      "cell_type": "code",
      "metadata": {
        "colab": {
          "base_uri": "https://localhost:8080/",
          "height": 161
        },
        "id": "WpNHMKU66W7B",
        "outputId": "cff0b2fd-3adb-48ce-8cc1-0ef4fc1de461"
      },
      "source": [
        "V_X + variable_a"
      ],
      "execution_count": null,
      "outputs": [
        {
          "output_type": "error",
          "ename": "TypeError",
          "evalue": "ignored",
          "traceback": [
            "\u001b[0;31m---------------------------------------------------------------------------\u001b[0m",
            "\u001b[0;31mTypeError\u001b[0m                                 Traceback (most recent call last)",
            "\u001b[0;32m<ipython-input-37-d83c0918f5c6>\u001b[0m in \u001b[0;36m<module>\u001b[0;34m()\u001b[0m\n\u001b[0;32m----> 1\u001b[0;31m \u001b[0mV_X\u001b[0m \u001b[0;34m+\u001b[0m \u001b[0mvariable_a\u001b[0m\u001b[0;34m\u001b[0m\u001b[0;34m\u001b[0m\u001b[0m\n\u001b[0m",
            "\u001b[0;31mTypeError\u001b[0m: can only concatenate str (not \"int\") to str"
          ]
        }
      ]
    },
    {
      "cell_type": "code",
      "metadata": {
        "colab": {
          "base_uri": "https://localhost:8080/",
          "height": 161
        },
        "id": "zjkcoJPm6W4l",
        "outputId": "4b4521fe-b8f3-4890-8c1d-05429a132209"
      },
      "source": [
        "variable_a + V_X"
      ],
      "execution_count": null,
      "outputs": [
        {
          "output_type": "error",
          "ename": "TypeError",
          "evalue": "ignored",
          "traceback": [
            "\u001b[0;31m---------------------------------------------------------------------------\u001b[0m",
            "\u001b[0;31mTypeError\u001b[0m                                 Traceback (most recent call last)",
            "\u001b[0;32m<ipython-input-27-9c7fa6bc8848>\u001b[0m in \u001b[0;36m<module>\u001b[0;34m()\u001b[0m\n\u001b[0;32m----> 1\u001b[0;31m \u001b[0mvariable_a\u001b[0m \u001b[0;34m+\u001b[0m \u001b[0mV_X\u001b[0m\u001b[0;34m\u001b[0m\u001b[0;34m\u001b[0m\u001b[0m\n\u001b[0m",
            "\u001b[0;31mTypeError\u001b[0m: unsupported operand type(s) for +: 'int' and 'str'"
          ]
        }
      ]
    },
    {
      "cell_type": "code",
      "metadata": {
        "colab": {
          "base_uri": "https://localhost:8080/",
          "height": 35
        },
        "id": "07MN2X0C6W2F",
        "outputId": "836bff31-fa55-4d27-ff2e-453c6ca0ef04"
      },
      "source": [
        "V_X"
      ],
      "execution_count": null,
      "outputs": [
        {
          "output_type": "execute_result",
          "data": {
            "application/vnd.google.colaboratory.intrinsic+json": {
              "type": "string"
            },
            "text/plain": [
              "'-29.200000000000003'"
            ]
          },
          "metadata": {
            "tags": []
          },
          "execution_count": 28
        }
      ]
    },
    {
      "cell_type": "code",
      "metadata": {
        "colab": {
          "base_uri": "https://localhost:8080/"
        },
        "id": "2G9QcWN_6Wzh",
        "outputId": "343aa958-fbcd-4065-93c6-5cdbfd40a766"
      },
      "source": [
        "float(V_X)"
      ],
      "execution_count": null,
      "outputs": [
        {
          "output_type": "execute_result",
          "data": {
            "text/plain": [
              "-29.200000000000003"
            ]
          },
          "metadata": {
            "tags": []
          },
          "execution_count": 29
        }
      ]
    },
    {
      "cell_type": "markdown",
      "metadata": {
        "id": "5vIN79ZZ9BvD"
      },
      "source": [
        "## Data Structure\n",
        "\n",
        "### list()"
      ]
    },
    {
      "cell_type": "code",
      "metadata": {
        "id": "ef6vW-wH6WxF"
      },
      "source": [
        "list_a = [1,2,0.2,'abs'] # [] square brackets\n",
        "list_b = [2,'xyz',list_a,[1,2,0.0]]"
      ],
      "execution_count": null,
      "outputs": []
    },
    {
      "cell_type": "code",
      "metadata": {
        "colab": {
          "base_uri": "https://localhost:8080/"
        },
        "id": "IW1pRd9G6Wuh",
        "outputId": "60242937-5170-4587-e981-709172cdc681"
      },
      "source": [
        "list_a"
      ],
      "execution_count": null,
      "outputs": [
        {
          "output_type": "execute_result",
          "data": {
            "text/plain": [
              "[1, 2, 0.2, 'abs']"
            ]
          },
          "metadata": {
            "tags": []
          },
          "execution_count": 31
        }
      ]
    },
    {
      "cell_type": "code",
      "metadata": {
        "colab": {
          "base_uri": "https://localhost:8080/"
        },
        "id": "QAcJ3Wnz9_uI",
        "outputId": "31474670-2b7c-405e-f3dd-4bf439a331bd"
      },
      "source": [
        "list_b"
      ],
      "execution_count": null,
      "outputs": [
        {
          "output_type": "execute_result",
          "data": {
            "text/plain": [
              "[2, 'xyz', [1, 2, 0.2, 'abs'], [1, 2, 0.0]]"
            ]
          },
          "metadata": {
            "tags": []
          },
          "execution_count": 32
        }
      ]
    },
    {
      "cell_type": "code",
      "metadata": {
        "colab": {
          "base_uri": "https://localhost:8080/"
        },
        "id": "2nTn054y-CQ7",
        "outputId": "f8c86040-e0ca-42e6-9740-4217be68618f"
      },
      "source": [
        "len(list_b) #lenมีสามาชิกกี่ตัว"
      ],
      "execution_count": null,
      "outputs": [
        {
          "output_type": "execute_result",
          "data": {
            "text/plain": [
              "4"
            ]
          },
          "metadata": {
            "tags": []
          },
          "execution_count": 33
        }
      ]
    },
    {
      "cell_type": "code",
      "metadata": {
        "colab": {
          "base_uri": "https://localhost:8080/"
        },
        "id": "jOqqyNh2-OWz",
        "outputId": "e1dfd41b-b1c0-4f1f-eea4-91fe772c7986"
      },
      "source": [
        "len(list_b)"
      ],
      "execution_count": null,
      "outputs": [
        {
          "output_type": "execute_result",
          "data": {
            "text/plain": [
              "4"
            ]
          },
          "metadata": {
            "tags": []
          },
          "execution_count": 34
        }
      ]
    },
    {
      "cell_type": "code",
      "metadata": {
        "colab": {
          "base_uri": "https://localhost:8080/"
        },
        "id": "IH8KFLRw-YGa",
        "outputId": "2c9cc4da-849a-406e-d0f3-09a51d8266f3"
      },
      "source": [
        "list_b[3] #ดูสมาชิกตัวที่3ว่ามีเลขอะไรบ้าง"
      ],
      "execution_count": null,
      "outputs": [
        {
          "output_type": "execute_result",
          "data": {
            "text/plain": [
              "[1, 2, 0.0]"
            ]
          },
          "metadata": {
            "tags": []
          },
          "execution_count": 35
        }
      ]
    },
    {
      "cell_type": "code",
      "metadata": {
        "colab": {
          "base_uri": "https://localhost:8080/"
        },
        "id": "icMWf66l-ek9",
        "outputId": "988fd027-e7f3-4f51-8c63-4296a6a07685"
      },
      "source": [
        "list_b[3][1] #ดูว่าlistตัวที่3 มีสมาชิกตัวที่1 คืออะไร นับเป็น(0,1,2)"
      ],
      "execution_count": null,
      "outputs": [
        {
          "output_type": "execute_result",
          "data": {
            "text/plain": [
              "2"
            ]
          },
          "metadata": {
            "tags": []
          },
          "execution_count": 36
        }
      ]
    },
    {
      "cell_type": "markdown",
      "metadata": {
        "id": "te9xLtl5_DDP"
      },
      "source": [
        "##String คือ list ของตัวหนังสือ"
      ]
    },
    {
      "cell_type": "code",
      "metadata": {
        "id": "BIwWMR2t-kmo"
      },
      "source": [
        "a = 'Stat KKU'"
      ],
      "execution_count": null,
      "outputs": []
    },
    {
      "cell_type": "code",
      "metadata": {
        "colab": {
          "base_uri": "https://localhost:8080/",
          "height": 35
        },
        "id": "Mw_SKcSA_Q0H",
        "outputId": "9ed1801c-26f1-4cd3-cd5f-c4c8f4142943"
      },
      "source": [
        "a[4]"
      ],
      "execution_count": null,
      "outputs": [
        {
          "output_type": "execute_result",
          "data": {
            "application/vnd.google.colaboratory.intrinsic+json": {
              "type": "string"
            },
            "text/plain": [
              "' '"
            ]
          },
          "metadata": {
            "tags": []
          },
          "execution_count": 38
        }
      ]
    },
    {
      "cell_type": "markdown",
      "metadata": {
        "id": "z3TqGsYs_hP7"
      },
      "source": [
        "###วิธีสร้าง list ว่าง"
      ]
    },
    {
      "cell_type": "code",
      "metadata": {
        "id": "FS09F0PH_Sd4"
      },
      "source": [
        "list_c = list() #เเบบที่ 1\n",
        "list_d = []  #เเบบที่ 2"
      ],
      "execution_count": null,
      "outputs": []
    },
    {
      "cell_type": "code",
      "metadata": {
        "colab": {
          "base_uri": "https://localhost:8080/"
        },
        "id": "DXoLE7Tz_wA1",
        "outputId": "8f9a6117-2cec-46b6-e902-dd34c637c2d5"
      },
      "source": [
        "list_c"
      ],
      "execution_count": null,
      "outputs": [
        {
          "output_type": "execute_result",
          "data": {
            "text/plain": [
              "[]"
            ]
          },
          "metadata": {
            "tags": []
          },
          "execution_count": 40
        }
      ]
    },
    {
      "cell_type": "code",
      "metadata": {
        "colab": {
          "base_uri": "https://localhost:8080/"
        },
        "id": "RB15oK9__7Zh",
        "outputId": "b46e5414-6222-4ed1-bc88-a5eebc8f46ce"
      },
      "source": [
        "list_d"
      ],
      "execution_count": null,
      "outputs": [
        {
          "output_type": "execute_result",
          "data": {
            "text/plain": [
              "[]"
            ]
          },
          "metadata": {
            "tags": []
          },
          "execution_count": 41
        }
      ]
    },
    {
      "cell_type": "markdown",
      "metadata": {
        "id": "JGrglkXBAUkP"
      },
      "source": [
        "###เติมค่าลงไปใน list (.append()) "
      ]
    },
    {
      "cell_type": "code",
      "metadata": {
        "id": "-QnJLEYj_92R"
      },
      "source": [
        "list_d.append('a')"
      ],
      "execution_count": null,
      "outputs": []
    },
    {
      "cell_type": "code",
      "metadata": {
        "colab": {
          "base_uri": "https://localhost:8080/"
        },
        "id": "6eHEfoTf_-5T",
        "outputId": "f7ca0c80-4885-472c-db9b-468165c93c02"
      },
      "source": [
        "list_d"
      ],
      "execution_count": null,
      "outputs": [
        {
          "output_type": "execute_result",
          "data": {
            "text/plain": [
              "['a']"
            ]
          },
          "metadata": {
            "tags": []
          },
          "execution_count": 43
        }
      ]
    },
    {
      "cell_type": "code",
      "metadata": {
        "id": "Ab3iUO9q_-2q"
      },
      "source": [
        "list_d.append(56)"
      ],
      "execution_count": null,
      "outputs": []
    },
    {
      "cell_type": "code",
      "metadata": {
        "colab": {
          "base_uri": "https://localhost:8080/"
        },
        "id": "qDd3YpgJ_-0J",
        "outputId": "e72042c9-c83e-4454-d87f-04fec68377a4"
      },
      "source": [
        "list_d"
      ],
      "execution_count": null,
      "outputs": [
        {
          "output_type": "execute_result",
          "data": {
            "text/plain": [
              "['a', 56]"
            ]
          },
          "metadata": {
            "tags": []
          },
          "execution_count": 45
        }
      ]
    },
    {
      "cell_type": "markdown",
      "metadata": {
        "id": "3Fu5khwUBFDE"
      },
      "source": [
        "การชี้ค่าใน list (indexing)\n",
        "\n",
        "1.ใช้ลำดับในการชี้\n",
        "\n",
        "2.ลำดับเริ่มจาก 0\n",
        "\n",
        "3.สามารถชี้จากข้งหลังได้โดยใช้ negative index"
      ]
    },
    {
      "cell_type": "code",
      "metadata": {
        "colab": {
          "base_uri": "https://localhost:8080/"
        },
        "id": "rcMUN5X3_-xq",
        "outputId": "b5d20bb4-b9b4-4172-e3fe-a459c701f8ae"
      },
      "source": [
        "list_b"
      ],
      "execution_count": null,
      "outputs": [
        {
          "output_type": "execute_result",
          "data": {
            "text/plain": [
              "[2, 'xyz', [1, 2, 0.2, 'abs'], [1, 2, 0.0]]"
            ]
          },
          "metadata": {
            "tags": []
          },
          "execution_count": 46
        }
      ]
    },
    {
      "cell_type": "code",
      "metadata": {
        "colab": {
          "base_uri": "https://localhost:8080/"
        },
        "id": "j7QbeFmC_-vt",
        "outputId": "3883d307-f0d6-4fd6-dcb0-8aeb28fc0eaa"
      },
      "source": [
        "list_b[-1] #การชี้list จากตัวที่อยู่หลังสุด(-4,-3,-2,-1)"
      ],
      "execution_count": null,
      "outputs": [
        {
          "output_type": "execute_result",
          "data": {
            "text/plain": [
              "[1, 2, 0.0]"
            ]
          },
          "metadata": {
            "tags": []
          },
          "execution_count": 47
        }
      ]
    },
    {
      "cell_type": "code",
      "metadata": {
        "colab": {
          "base_uri": "https://localhost:8080/"
        },
        "id": "YpElcXmv_-sY",
        "outputId": "39d9c3e8-8108-4e9b-ee15-be7b9b02ae98"
      },
      "source": [
        "list_b[-2]"
      ],
      "execution_count": null,
      "outputs": [
        {
          "output_type": "execute_result",
          "data": {
            "text/plain": [
              "[1, 2, 0.2, 'abs']"
            ]
          },
          "metadata": {
            "tags": []
          },
          "execution_count": 48
        }
      ]
    },
    {
      "cell_type": "markdown",
      "metadata": {
        "id": "_LHLetTXCLX5"
      },
      "source": [
        "### list slicing"
      ]
    },
    {
      "cell_type": "code",
      "metadata": {
        "id": "Vvj3ZemT_-pj"
      },
      "source": [
        "list_ex = [1,2,3,5,6,8,-1,20,50,0]"
      ],
      "execution_count": null,
      "outputs": []
    },
    {
      "cell_type": "markdown",
      "metadata": {
        "id": "HESCqm_dC4c0"
      },
      "source": [
        "###เราจะตัดlist โดยเอาตั้งเเต่ [ตัวหน้า:ตัวก่อนตัวหลัง] \n",
        "ถ้าเป็นสัญลักษณ์คณิตศาสตร์[ตัวหน้า:ตัวหลัง] -> [ตัวหน้า,ตัวหลัง)"
      ]
    },
    {
      "cell_type": "code",
      "metadata": {
        "colab": {
          "base_uri": "https://localhost:8080/"
        },
        "id": "8Uf7CC8oCYEk",
        "outputId": "0243845e-6080-49b1-b34a-74a307208dc3"
      },
      "source": [
        "list_ex[1:6] "
      ],
      "execution_count": null,
      "outputs": [
        {
          "output_type": "execute_result",
          "data": {
            "text/plain": [
              "[2, 3, 5, 6, 8]"
            ]
          },
          "metadata": {
            "tags": []
          },
          "execution_count": 50
        }
      ]
    },
    {
      "cell_type": "code",
      "metadata": {
        "colab": {
          "base_uri": "https://localhost:8080/"
        },
        "id": "nn1YzikcCj_2",
        "outputId": "3d114425-81d1-4f04-b62d-7e7ae13f8447"
      },
      "source": [
        "list_ex[4:]"
      ],
      "execution_count": null,
      "outputs": [
        {
          "output_type": "execute_result",
          "data": {
            "text/plain": [
              "[6, 8, -1, 20, 50, 0]"
            ]
          },
          "metadata": {
            "tags": []
          },
          "execution_count": 51
        }
      ]
    },
    {
      "cell_type": "code",
      "metadata": {
        "colab": {
          "base_uri": "https://localhost:8080/"
        },
        "id": "ztWw_d96DXFG",
        "outputId": "46fa17e4-aa45-4a3d-fbc5-80c6207c0fd8"
      },
      "source": [
        "list_ex[:6]"
      ],
      "execution_count": null,
      "outputs": [
        {
          "output_type": "execute_result",
          "data": {
            "text/plain": [
              "[1, 2, 3, 5, 6, 8]"
            ]
          },
          "metadata": {
            "tags": []
          },
          "execution_count": 52
        }
      ]
    },
    {
      "cell_type": "markdown",
      "metadata": {
        "id": "QyHrR4iOEPsV"
      },
      "source": [
        "[จุดเริ่มต้น:จุดสุดท้าย:step]"
      ]
    },
    {
      "cell_type": "code",
      "metadata": {
        "colab": {
          "base_uri": "https://localhost:8080/"
        },
        "id": "5GxmVqBdEY5F",
        "outputId": "03ec0979-20f3-4a06-e182-e5376c6e2199"
      },
      "source": [
        "list_ex"
      ],
      "execution_count": null,
      "outputs": [
        {
          "output_type": "execute_result",
          "data": {
            "text/plain": [
              "[1, 2, 3, 5, 6, 8, -1, 20, 50, 0]"
            ]
          },
          "metadata": {
            "tags": []
          },
          "execution_count": 53
        }
      ]
    },
    {
      "cell_type": "code",
      "metadata": {
        "colab": {
          "base_uri": "https://localhost:8080/"
        },
        "id": "flVrx_ocDXCY",
        "outputId": "206187d7-dc29-46f0-ee91-8370adad9f1a"
      },
      "source": [
        "list_ex[::2] #กำหนดstep ในการกระโดดได้"
      ],
      "execution_count": null,
      "outputs": [
        {
          "output_type": "execute_result",
          "data": {
            "text/plain": [
              "[1, 3, 6, -1, 50]"
            ]
          },
          "metadata": {
            "tags": []
          },
          "execution_count": 54
        }
      ]
    },
    {
      "cell_type": "code",
      "metadata": {
        "colab": {
          "base_uri": "https://localhost:8080/"
        },
        "id": "IgeiOj-rDW_G",
        "outputId": "a1a7a42f-db2c-4d83-d937-98b2e5b0998b"
      },
      "source": [
        "list_ex[::-1] #การกลับlist"
      ],
      "execution_count": null,
      "outputs": [
        {
          "output_type": "execute_result",
          "data": {
            "text/plain": [
              "[0, 50, 20, -1, 8, 6, 5, 3, 2, 1]"
            ]
          },
          "metadata": {
            "tags": []
          },
          "execution_count": 55
        }
      ]
    },
    {
      "cell_type": "code",
      "metadata": {
        "colab": {
          "base_uri": "https://localhost:8080/"
        },
        "id": "fTpnTn1HDW82",
        "outputId": "aa902981-5752-480c-ce2c-aeea61c1cce9"
      },
      "source": [
        "list_ex[::3]"
      ],
      "execution_count": null,
      "outputs": [
        {
          "output_type": "execute_result",
          "data": {
            "text/plain": [
              "[1, 5, -1, 0]"
            ]
          },
          "metadata": {
            "tags": []
          },
          "execution_count": 56
        }
      ]
    },
    {
      "cell_type": "code",
      "metadata": {
        "colab": {
          "base_uri": "https://localhost:8080/",
          "height": 35
        },
        "id": "M0fLEfzVDW68",
        "outputId": "f29e379a-331f-4530-f39b-260b15df364a"
      },
      "source": [
        "a"
      ],
      "execution_count": null,
      "outputs": [
        {
          "output_type": "execute_result",
          "data": {
            "application/vnd.google.colaboratory.intrinsic+json": {
              "type": "string"
            },
            "text/plain": [
              "'Stat KKU'"
            ]
          },
          "metadata": {
            "tags": []
          },
          "execution_count": 57
        }
      ]
    },
    {
      "cell_type": "code",
      "metadata": {
        "colab": {
          "base_uri": "https://localhost:8080/",
          "height": 35
        },
        "id": "TeFt9_RjDW3V",
        "outputId": "cb8e383b-43c8-47aa-94de-7592f0ccc34f"
      },
      "source": [
        "a[::2]"
      ],
      "execution_count": null,
      "outputs": [
        {
          "output_type": "execute_result",
          "data": {
            "application/vnd.google.colaboratory.intrinsic+json": {
              "type": "string"
            },
            "text/plain": [
              "'Sa K'"
            ]
          },
          "metadata": {
            "tags": []
          },
          "execution_count": 58
        }
      ]
    },
    {
      "cell_type": "code",
      "metadata": {
        "colab": {
          "base_uri": "https://localhost:8080/",
          "height": 35
        },
        "id": "3NqFtilCDW0X",
        "outputId": "0ab5d804-51b8-468c-efec-293b57209353"
      },
      "source": [
        "a[5:]"
      ],
      "execution_count": null,
      "outputs": [
        {
          "output_type": "execute_result",
          "data": {
            "application/vnd.google.colaboratory.intrinsic+json": {
              "type": "string"
            },
            "text/plain": [
              "'KKU'"
            ]
          },
          "metadata": {
            "tags": []
          },
          "execution_count": 59
        }
      ]
    },
    {
      "cell_type": "code",
      "metadata": {
        "colab": {
          "base_uri": "https://localhost:8080/",
          "height": 35
        },
        "id": "0GjKfcgQFZoa",
        "outputId": "bd326b1a-84f2-436b-9cd3-ae24bbd768f8"
      },
      "source": [
        "a[-3:]"
      ],
      "execution_count": null,
      "outputs": [
        {
          "output_type": "execute_result",
          "data": {
            "application/vnd.google.colaboratory.intrinsic+json": {
              "type": "string"
            },
            "text/plain": [
              "'KKU'"
            ]
          },
          "metadata": {
            "tags": []
          },
          "execution_count": 60
        }
      ]
    },
    {
      "cell_type": "code",
      "metadata": {
        "colab": {
          "base_uri": "https://localhost:8080/",
          "height": 35
        },
        "id": "4Y3zI7u0F3PS",
        "outputId": "a50c4d63-d8f5-4560-b807-69a9dffd6870"
      },
      "source": [
        "a[5:8]"
      ],
      "execution_count": null,
      "outputs": [
        {
          "output_type": "execute_result",
          "data": {
            "application/vnd.google.colaboratory.intrinsic+json": {
              "type": "string"
            },
            "text/plain": [
              "'KKU'"
            ]
          },
          "metadata": {
            "tags": []
          },
          "execution_count": 61
        }
      ]
    },
    {
      "cell_type": "code",
      "metadata": {
        "colab": {
          "base_uri": "https://localhost:8080/",
          "height": 35
        },
        "id": "53YVsajdGAkW",
        "outputId": "0fe57062-7694-4f9e-b636-1114a442de0c"
      },
      "source": [
        "a[5::]"
      ],
      "execution_count": null,
      "outputs": [
        {
          "output_type": "execute_result",
          "data": {
            "application/vnd.google.colaboratory.intrinsic+json": {
              "type": "string"
            },
            "text/plain": [
              "'KKU'"
            ]
          },
          "metadata": {
            "tags": []
          },
          "execution_count": 62
        }
      ]
    },
    {
      "cell_type": "code",
      "metadata": {
        "colab": {
          "base_uri": "https://localhost:8080/",
          "height": 35
        },
        "id": "LXlDrJdyGEqc",
        "outputId": "e37ca6e8-6c2e-4376-ba0d-4095f209745e"
      },
      "source": [
        "a[-3::]"
      ],
      "execution_count": null,
      "outputs": [
        {
          "output_type": "execute_result",
          "data": {
            "application/vnd.google.colaboratory.intrinsic+json": {
              "type": "string"
            },
            "text/plain": [
              "'KKU'"
            ]
          },
          "metadata": {
            "tags": []
          },
          "execution_count": 63
        }
      ]
    },
    {
      "cell_type": "code",
      "metadata": {
        "colab": {
          "base_uri": "https://localhost:8080/",
          "height": 35
        },
        "id": "3GHrw8XsGEm2",
        "outputId": "531d8ed7-9eac-4343-f91a-7f5628f5373b"
      },
      "source": [
        "a[-3::1]"
      ],
      "execution_count": null,
      "outputs": [
        {
          "output_type": "execute_result",
          "data": {
            "application/vnd.google.colaboratory.intrinsic+json": {
              "type": "string"
            },
            "text/plain": [
              "'KKU'"
            ]
          },
          "metadata": {
            "tags": []
          },
          "execution_count": 64
        }
      ]
    },
    {
      "cell_type": "markdown",
      "metadata": {
        "id": "h2E2dO81Grc8"
      },
      "source": [
        "### list + list "
      ]
    },
    {
      "cell_type": "code",
      "metadata": {
        "colab": {
          "base_uri": "https://localhost:8080/"
        },
        "id": "2-AGxIG6GEda",
        "outputId": "69ad0ee8-11fd-4403-8255-73324e51e6ee"
      },
      "source": [
        "print(list_a)\n",
        "print(list_b)"
      ],
      "execution_count": null,
      "outputs": [
        {
          "output_type": "stream",
          "text": [
            "[1, 2, 0.2, 'abs']\n",
            "[2, 'xyz', [1, 2, 0.2, 'abs'], [1, 2, 0.0]]\n"
          ],
          "name": "stdout"
        }
      ]
    },
    {
      "cell_type": "code",
      "metadata": {
        "colab": {
          "base_uri": "https://localhost:8080/"
        },
        "id": "hzWOKYPwGOQt",
        "outputId": "9501d1dc-8fe4-424b-c997-12ecad7c13f6"
      },
      "source": [
        "list_a + list_b"
      ],
      "execution_count": null,
      "outputs": [
        {
          "output_type": "execute_result",
          "data": {
            "text/plain": [
              "[1, 2, 0.2, 'abs', 2, 'xyz', [1, 2, 0.2, 'abs'], [1, 2, 0.0]]"
            ]
          },
          "metadata": {
            "tags": []
          },
          "execution_count": 66
        }
      ]
    },
    {
      "cell_type": "code",
      "metadata": {
        "colab": {
          "base_uri": "https://localhost:8080/"
        },
        "id": "QrKNgMysGOLI",
        "outputId": "71020aab-74e8-4b95-c66c-e9eef1f9d7cf"
      },
      "source": [
        "list_b + list_a  "
      ],
      "execution_count": null,
      "outputs": [
        {
          "output_type": "execute_result",
          "data": {
            "text/plain": [
              "[2, 'xyz', [1, 2, 0.2, 'abs'], [1, 2, 0.0], 1, 2, 0.2, 'abs']"
            ]
          },
          "metadata": {
            "tags": []
          },
          "execution_count": 67
        }
      ]
    },
    {
      "cell_type": "markdown",
      "metadata": {
        "id": "UQDSArswLN0q"
      },
      "source": [
        "#format Srting "
      ]
    },
    {
      "cell_type": "markdown",
      "metadata": {
        "id": "aJBI8uTNLyUY"
      },
      "source": [
        "```prthon\n",
        "f'string{ตัวเเปร}'\n",
        "``` "
      ]
    },
    {
      "cell_type": "code",
      "metadata": {
        "colab": {
          "base_uri": "https://localhost:8080/",
          "height": 35
        },
        "id": "1uy9p3oMLT1R",
        "outputId": "5cc754f5-48a7-4d19-8f62-05e8d9187749"
      },
      "source": [
        "f'ตัวเเปร list_a มีค่าคือ {list_a}'"
      ],
      "execution_count": null,
      "outputs": [
        {
          "output_type": "execute_result",
          "data": {
            "application/vnd.google.colaboratory.intrinsic+json": {
              "type": "string"
            },
            "text/plain": [
              "\"ตัวเเปร list_a มีค่าคือ [1, 2, 0.2, 'abs']\""
            ]
          },
          "metadata": {
            "tags": []
          },
          "execution_count": 68
        }
      ]
    },
    {
      "cell_type": "markdown",
      "metadata": {
        "id": "B4vBoLg7HmNE"
      },
      "source": [
        "### Loop"
      ]
    },
    {
      "cell_type": "markdown",
      "metadata": {
        "id": "7EBEcQl8KbOs"
      },
      "source": [
        "```python\n",
        "for ตัวเเปรที่จะรับค่าจากลิสต์ in ลิตส์ที่จะนำมาวนลูป:\n",
        "    do someting\n",
        "```"
      ]
    },
    {
      "cell_type": "code",
      "metadata": {
        "colab": {
          "base_uri": "https://localhost:8080/"
        },
        "id": "Y6I2X_I8GOIX",
        "outputId": "c0ff9988-fb00-4492-e8cf-0115feb114e6"
      },
      "source": [
        "for i in [1,2,3,4,5]:\n",
        "    print(i+1)"
      ],
      "execution_count": 1,
      "outputs": [
        {
          "output_type": "stream",
          "text": [
            "2\n",
            "3\n",
            "4\n",
            "5\n",
            "6\n"
          ],
          "name": "stdout"
        }
      ]
    },
    {
      "cell_type": "code",
      "metadata": {
        "colab": {
          "base_uri": "https://localhost:8080/"
        },
        "id": "97aXeMPXDZ3H",
        "outputId": "be0fb9cf-c24d-4ee4-9ea9-b3e1924f2628"
      },
      "source": [
        "for i in [1,2,3,4,5]:\n",
        "    print(i+5)"
      ],
      "execution_count": 2,
      "outputs": [
        {
          "output_type": "stream",
          "text": [
            "6\n",
            "7\n",
            "8\n",
            "9\n",
            "10\n"
          ],
          "name": "stdout"
        }
      ]
    },
    {
      "cell_type": "code",
      "metadata": {
        "colab": {
          "base_uri": "https://localhost:8080/"
        },
        "id": "l7Hifq-VHVk5",
        "outputId": "53431f07-b7ab-467c-80d0-72df06b10be1"
      },
      "source": [
        "for x in  [1,2,3,4,5]:\n",
        "    print(f'ค่าตัวเเปร x คือ {x} เเละ x+2 = {x+2}') #การวนลูป 5 ครั้ง"
      ],
      "execution_count": 3,
      "outputs": [
        {
          "output_type": "stream",
          "text": [
            "ค่าตัวเเปร x คือ 1 เเละ x+2 = 3\n",
            "ค่าตัวเเปร x คือ 2 เเละ x+2 = 4\n",
            "ค่าตัวเเปร x คือ 3 เเละ x+2 = 5\n",
            "ค่าตัวเเปร x คือ 4 เเละ x+2 = 6\n",
            "ค่าตัวเเปร x คือ 5 เเละ x+2 = 7\n"
          ],
          "name": "stdout"
        }
      ]
    },
    {
      "cell_type": "code",
      "metadata": {
        "colab": {
          "base_uri": "https://localhost:8080/"
        },
        "id": "7rzDtZ47HViU",
        "outputId": "e252eea4-6d3c-47eb-9da6-78789536cf75"
      },
      "source": [
        "list5 = [1,2,3,4,5]\n",
        "for x in list5 :\n",
        "   print(f'ค่าตัวเเปร x คือ {x} เเละ x+2 = {x+2}')"
      ],
      "execution_count": 4,
      "outputs": [
        {
          "output_type": "stream",
          "text": [
            "ค่าตัวเเปร x คือ 1 เเละ x+2 = 3\n",
            "ค่าตัวเเปร x คือ 2 เเละ x+2 = 4\n",
            "ค่าตัวเเปร x คือ 3 เเละ x+2 = 5\n",
            "ค่าตัวเเปร x คือ 4 เเละ x+2 = 6\n",
            "ค่าตัวเเปร x คือ 5 เเละ x+2 = 7\n"
          ],
          "name": "stdout"
        }
      ]
    },
    {
      "cell_type": "code",
      "metadata": {
        "colab": {
          "base_uri": "https://localhost:8080/"
        },
        "id": "7Ko1DWv0HVfn",
        "outputId": "6bbecc5c-b594-4dda-ef7e-ca2a1209667b"
      },
      "source": [
        "list(range(10)) #สร้างlist ที่มีค่าเริ่มจาก0"
      ],
      "execution_count": 5,
      "outputs": [
        {
          "output_type": "execute_result",
          "data": {
            "text/plain": [
              "[0, 1, 2, 3, 4, 5, 6, 7, 8, 9]"
            ]
          },
          "metadata": {
            "tags": []
          },
          "execution_count": 5
        }
      ]
    },
    {
      "cell_type": "code",
      "metadata": {
        "colab": {
          "base_uri": "https://localhost:8080/"
        },
        "id": "-pcAG95vHVdM",
        "outputId": "f6bfa609-978c-458b-c7f8-f2f225ee5033"
      },
      "source": [
        "for i in range(2,7): #การสร้างlist ที่เริ่มจาก 2 เเต่ไม่เอาตัวสุดท้ายมา\n",
        "   print(i)"
      ],
      "execution_count": 6,
      "outputs": [
        {
          "output_type": "stream",
          "text": [
            "2\n",
            "3\n",
            "4\n",
            "5\n",
            "6\n"
          ],
          "name": "stdout"
        }
      ]
    },
    {
      "cell_type": "code",
      "metadata": {
        "colab": {
          "base_uri": "https://localhost:8080/"
        },
        "id": "nxlVKtgMHVat",
        "outputId": "9eb9e419-9288-4f6f-a221-bb7114383e1c"
      },
      "source": [
        "for i in range(2,7,2): #จุดเริ่มถึงจุดจบกระโดดทีละ 2\n",
        "   print(i)"
      ],
      "execution_count": 7,
      "outputs": [
        {
          "output_type": "stream",
          "text": [
            "2\n",
            "4\n",
            "6\n"
          ],
          "name": "stdout"
        }
      ]
    },
    {
      "cell_type": "code",
      "metadata": {
        "colab": {
          "base_uri": "https://localhost:8080/"
        },
        "id": "iBRebgKzHVXo",
        "outputId": "b1bba0c1-6a39-442c-d584-15730e47f27c"
      },
      "source": [
        "for i in range(5):\n",
        "   print('hahahaha') #วนลูป5รอบเเละเเสดงค่าออกมา"
      ],
      "execution_count": 8,
      "outputs": [
        {
          "output_type": "stream",
          "text": [
            "hahahaha\n",
            "hahahaha\n",
            "hahahaha\n",
            "hahahaha\n",
            "hahahaha\n"
          ],
          "name": "stdout"
        }
      ]
    },
    {
      "cell_type": "code",
      "metadata": {
        "colab": {
          "base_uri": "https://localhost:8080/"
        },
        "id": "6HatLuiCHVVE",
        "outputId": "e061ec15-7652-435c-c3f7-3222eb78422b"
      },
      "source": [
        "for i in range(5): #วนลูป 5 รอบ\n",
        "   print('hahahaha') \n",
        "   x = i + 3 #โดยค่า x เริ่มต้นตั้งเเต่ 3 \n",
        "   print(f'i={i} x={x}')"
      ],
      "execution_count": 9,
      "outputs": [
        {
          "output_type": "stream",
          "text": [
            "hahahaha\n",
            "i=0 x=3\n",
            "hahahaha\n",
            "i=1 x=4\n",
            "hahahaha\n",
            "i=2 x=5\n",
            "hahahaha\n",
            "i=3 x=6\n",
            "hahahaha\n",
            "i=4 x=7\n"
          ],
          "name": "stdout"
        }
      ]
    },
    {
      "cell_type": "code",
      "metadata": {
        "colab": {
          "base_uri": "https://localhost:8080/"
        },
        "id": "MxpV-s_JHVTg",
        "outputId": "4b812267-5a00-4be6-9726-1747b4f94da7"
      },
      "source": [
        "for i in range(5):\n",
        "   print('hahahaha')\n",
        "   x = i + 2 #เริ่มx ตั้งเเต่ 2 \n",
        "   print(f'i={i} x={x}')"
      ],
      "execution_count": 10,
      "outputs": [
        {
          "output_type": "stream",
          "text": [
            "hahahaha\n",
            "i=0 x=2\n",
            "hahahaha\n",
            "i=1 x=3\n",
            "hahahaha\n",
            "i=2 x=4\n",
            "hahahaha\n",
            "i=3 x=5\n",
            "hahahaha\n",
            "i=4 x=6\n"
          ],
          "name": "stdout"
        }
      ]
    },
    {
      "cell_type": "markdown",
      "metadata": {
        "id": "HuWj8ea3PH8X"
      },
      "source": [
        "### Nested loop \n",
        "\n",
        "###ลูปซ้อนลูปไปเรื่อยๆ"
      ]
    },
    {
      "cell_type": "code",
      "metadata": {
        "colab": {
          "base_uri": "https://localhost:8080/"
        },
        "id": "QtIC_YHFHVPY",
        "outputId": "015710a5-98b5-4bf5-a86c-2ccbd506941f"
      },
      "source": [
        "for i in range(3):\n",
        "   for j in range(4):\n",
        "      print(f'i = {i} j ={j} i+j= {i+j}') "
      ],
      "execution_count": 11,
      "outputs": [
        {
          "output_type": "stream",
          "text": [
            "i = 0 j =0 i+j= 0\n",
            "i = 0 j =1 i+j= 1\n",
            "i = 0 j =2 i+j= 2\n",
            "i = 0 j =3 i+j= 3\n",
            "i = 1 j =0 i+j= 1\n",
            "i = 1 j =1 i+j= 2\n",
            "i = 1 j =2 i+j= 3\n",
            "i = 1 j =3 i+j= 4\n",
            "i = 2 j =0 i+j= 2\n",
            "i = 2 j =1 i+j= 3\n",
            "i = 2 j =2 i+j= 4\n",
            "i = 2 j =3 i+j= 5\n"
          ],
          "name": "stdout"
        }
      ]
    },
    {
      "cell_type": "code",
      "metadata": {
        "colab": {
          "base_uri": "https://localhost:8080/"
        },
        "id": "vKdjd0y7HVNd",
        "outputId": "27fa2fd6-8c68-4612-e6a0-d2c5cddf901b"
      },
      "source": [
        "for i in range(1):\n",
        "   for j in range(2):\n",
        "      print(f'i = {i} j ={j} i+j= {i+j}')"
      ],
      "execution_count": 12,
      "outputs": [
        {
          "output_type": "stream",
          "text": [
            "i = 0 j =0 i+j= 0\n",
            "i = 0 j =1 i+j= 1\n"
          ],
          "name": "stdout"
        }
      ]
    },
    {
      "cell_type": "code",
      "metadata": {
        "colab": {
          "base_uri": "https://localhost:8080/"
        },
        "id": "35h5wqYCHVJj",
        "outputId": "7c9dc8de-d64f-4cd2-9bb8-d2d0a22e079e"
      },
      "source": [
        "for i in range(2):\n",
        "   for j in range(2):\n",
        "      print(f'i = {i} j ={j} i+j= {i+j}')"
      ],
      "execution_count": 13,
      "outputs": [
        {
          "output_type": "stream",
          "text": [
            "i = 0 j =0 i+j= 0\n",
            "i = 0 j =1 i+j= 1\n",
            "i = 1 j =0 i+j= 1\n",
            "i = 1 j =1 i+j= 2\n"
          ],
          "name": "stdout"
        }
      ]
    },
    {
      "cell_type": "code",
      "metadata": {
        "colab": {
          "base_uri": "https://localhost:8080/"
        },
        "id": "HjY5xmcAQWOg",
        "outputId": "bab16864-559b-4a7e-9330-bbe96490970b"
      },
      "source": [
        "for i in range(3):\n",
        "  print(f'now i = {i}')\n",
        "  print('start j loop')\n",
        "  for j in range(4):\n",
        "       print(f'i = {i} j ={j} i+j= {i+j}')\n",
        "  print('end j loop') "
      ],
      "execution_count": 14,
      "outputs": [
        {
          "output_type": "stream",
          "text": [
            "now i = 0\n",
            "start j loop\n",
            "i = 0 j =0 i+j= 0\n",
            "i = 0 j =1 i+j= 1\n",
            "i = 0 j =2 i+j= 2\n",
            "i = 0 j =3 i+j= 3\n",
            "end j loop\n",
            "now i = 1\n",
            "start j loop\n",
            "i = 1 j =0 i+j= 1\n",
            "i = 1 j =1 i+j= 2\n",
            "i = 1 j =2 i+j= 3\n",
            "i = 1 j =3 i+j= 4\n",
            "end j loop\n",
            "now i = 2\n",
            "start j loop\n",
            "i = 2 j =0 i+j= 2\n",
            "i = 2 j =1 i+j= 3\n",
            "i = 2 j =2 i+j= 4\n",
            "i = 2 j =3 i+j= 5\n",
            "end j loop\n"
          ],
          "name": "stdout"
        }
      ]
    },
    {
      "cell_type": "markdown",
      "metadata": {
        "id": "dchQ_8liFPno"
      },
      "source": [
        "### Condition (if statement)\n"
      ]
    },
    {
      "cell_type": "markdown",
      "metadata": {
        "id": "-PVx4HKDFaFV"
      },
      "source": [
        "```python\n",
        "if เงื่อนไขที่จะตรวจสอบ (โดยใช้สัญลักษณ์==,!=,<,>,<=,>=):\n",
        "   ถ้าเงื่อนไขเป็นจริง ทำงาน 1\n",
        "   ถ้าเงื่อนไขเป็นจริง ทำงาน 2\n",
        "```"
      ]
    },
    {
      "cell_type": "code",
      "metadata": {
        "id": "28mpB7DsRCa4",
        "colab": {
          "base_uri": "https://localhost:8080/"
        },
        "outputId": "b83e2a35-d745-4542-d59d-60e1ef78ccca"
      },
      "source": [
        "Stringx = 'cpekofmiejferifjmdmceojcmijvhugyjhfyiyfvkgo8gvjhffi78hioufctyguf7fikugbu'\n",
        "\n",
        "if len(Stringx) > 30:\n",
        "  print(f'{Stringx} is longer than 30 characters') "
      ],
      "execution_count": 15,
      "outputs": [
        {
          "output_type": "stream",
          "text": [
            "cpekofmiejferifjmdmceojcmijvhugyjhfyiyfvkgo8gvjhffi78hioufctyguf7fikugbu is longer than 30 characters\n"
          ],
          "name": "stdout"
        }
      ]
    },
    {
      "cell_type": "code",
      "metadata": {
        "id": "TAchuL2pAsKL"
      },
      "source": [
        "Stringx = 'cpekofmiejferifjmdmceojcmijv'\n",
        "\n",
        "if len(Stringx) > 100:\n",
        "  print(f'{Stringx} is longer than 30 characters') "
      ],
      "execution_count": 16,
      "outputs": []
    },
    {
      "cell_type": "markdown",
      "metadata": {
        "id": "tvsaAH6CHcXH"
      },
      "source": [
        "```python\n",
        "if เงื่อนไขที่จะตรวจสอบ (โดยใช้สัญลักษณ์==,!=,<,>,<=,>=):\n",
        "   ถ้าเงื่อนไขเป็นจริง ทำงาน 1\n",
        "   ถ้าเงื่อนไขเป็นจริง ทำงาน 2\n",
        "elif เงื่อนไขที่จะตรวจสอบต่อไปถ้าเงื่อนไขข้างบนไม่เป็นจริง:\n",
        "   ถ้าเงื่อนไขเป็นจริง ทำงาน a1\n",
        "   ถ้าเงื่อนไขเป็นจริง ทำงาน a2\n",
        "elif เงื่อนไขที่จะตรวจสอบต่อไปถ้าเงื่อนไขข้างบนไม่เป็นจริง:\n",
        "   ถ้าเงื่อนไขเป็นจริง ทำงาน b1\n",
        "   ถ้าเงื่อนไขเป็นจริง ทำงาน b2 \n",
        "\n",
        "else #ตรวจสอบเงื่อนไขข้างบนเเล้วไม่เป็นจริง\n",
        "   ทำงานที่ X \n",
        "```"
      ]
    },
    {
      "cell_type": "code",
      "metadata": {
        "colab": {
          "base_uri": "https://localhost:8080/"
        },
        "id": "cwe4r3rKAsGa",
        "outputId": "2728c8d3-c183-4875-ccde-426a5f7cddb8"
      },
      "source": [
        "Stringx = 'cpekofmiejferifjmdmceojcmijvukugo8guf9obh9p;bo8g'\n",
        "\n",
        "if len(Stringx) > 100:\n",
        "  print(f'{Stringx} is longer than 30 characters') \n",
        "else:\n",
        " print(f'{Stringx} in {len(Stringx)} characters long') #ดูว่าตัวหนังสือที่เราพิมพ์ถ้าไม่มีความยาวมากกว่าร้อยจะเเสดงผลเป็นตัวเลขออกมาคือ48"
      ],
      "execution_count": 17,
      "outputs": [
        {
          "output_type": "stream",
          "text": [
            "cpekofmiejferifjmdmceojcmijvukugo8guf9obh9p;bo8g in 48 characters long\n"
          ],
          "name": "stdout"
        }
      ]
    },
    {
      "cell_type": "code",
      "metadata": {
        "colab": {
          "base_uri": "https://localhost:8080/"
        },
        "id": "M8ETup61AsDX",
        "outputId": "1701c671-8b17-4425-e827-506380dd1030"
      },
      "source": [
        "Stringx = 'cpekofmiejferifjmdmceojcmijvhugyjhfyiyfvkgo8gvjhffi78hioufctyguf7fikugbu'\n",
        "\n",
        "if len(Stringx) < 100:\n",
        "  print(f'{Stringx} is longer than 100 characters') "
      ],
      "execution_count": 18,
      "outputs": [
        {
          "output_type": "stream",
          "text": [
            "cpekofmiejferifjmdmceojcmijvhugyjhfyiyfvkgo8gvjhffi78hioufctyguf7fikugbu is longer than 100 characters\n"
          ],
          "name": "stdout"
        }
      ]
    },
    {
      "cell_type": "code",
      "metadata": {
        "colab": {
          "base_uri": "https://localhost:8080/"
        },
        "id": "fFfMokn7LFEn",
        "outputId": "e20f1b2f-32f3-447e-9f42-220a090797f9"
      },
      "source": [
        "password = '12345'\n",
        "\n",
        "input_pass = '123'\n",
        "if input_pass == password:\n",
        "   print('Welcome!')\n",
        "elif len(input_pass) > len(password):\n",
        "   print('Too long, try again')\n",
        "elif len(input_pass) < len(password):\n",
        "   print('Too short , try again')\n",
        "else:\n",
        "   print('Wrong password , try again')"
      ],
      "execution_count": 19,
      "outputs": [
        {
          "output_type": "stream",
          "text": [
            "Too short , try again\n"
          ],
          "name": "stdout"
        }
      ]
    },
    {
      "cell_type": "markdown",
      "metadata": {
        "id": "4IT_3CXXK6cI"
      },
      "source": [
        "##Quiz 1 หา Min"
      ]
    },
    {
      "cell_type": "code",
      "metadata": {
        "id": "DFdkivqVNc8e"
      },
      "source": [
        "list_ex = [1,5,9,-19,-2,0] #หาค่าน้อยที่สุดใน list โดยไม่ใช้ function min commit ก่อน 10:30 : Quiz1)"
      ],
      "execution_count": 20,
      "outputs": []
    },
    {
      "cell_type": "code",
      "metadata": {
        "colab": {
          "base_uri": "https://localhost:8080/"
        },
        "id": "lXIXFyTfN159",
        "outputId": "a5500479-87b3-4e94-b31f-61c9bdea8d2e"
      },
      "source": [
        "len(list_ex)\n",
        " "
      ],
      "execution_count": 21,
      "outputs": [
        {
          "output_type": "execute_result",
          "data": {
            "text/plain": [
              "6"
            ]
          },
          "metadata": {
            "tags": []
          },
          "execution_count": 21
        }
      ]
    },
    {
      "cell_type": "code",
      "metadata": {
        "colab": {
          "base_uri": "https://localhost:8080/"
        },
        "id": "v9w9t1OORLvM",
        "outputId": "e9f794e1-ec83-4bd1-c269-ad77304b6308"
      },
      "source": [
        "list_ex[3:4:2]"
      ],
      "execution_count": 22,
      "outputs": [
        {
          "output_type": "execute_result",
          "data": {
            "text/plain": [
              "[-19]"
            ]
          },
          "metadata": {
            "tags": []
          },
          "execution_count": 22
        }
      ]
    },
    {
      "cell_type": "code",
      "metadata": {
        "colab": {
          "base_uri": "https://localhost:8080/"
        },
        "id": "qDaU0HDxQwbc",
        "outputId": "c5eb19ba-d9ba-4a9f-d619-03b5ed4a320a"
      },
      "source": [
        "min = 1000000\n",
        "print(list_ex)\n",
        "for i in list_ex:\n",
        "  print(f'now i = {i},min = {min}')\n",
        "  print('start condition')\n",
        "  if i < min: \n",
        "    print('i < min, update min -> {i}')\n",
        "    min = i \n",
        "  else:\n",
        "    print('i >= min , not update')\n",
        "    print('end condition , go to next i')\n",
        "\n",
        "print(min)\n"
      ],
      "execution_count": null,
      "outputs": [
        {
          "output_type": "stream",
          "text": [
            "[1, 5, 9, -19, -2, 0]\n",
            "now i = 1,min = 1000000\n",
            "start condition\n",
            "i < min, update min -> {i}\n",
            "now i = 5,min = 1\n",
            "start condition\n",
            "i >= min , not update\n",
            "end condition , go to next i\n",
            "now i = 9,min = 1\n",
            "start condition\n",
            "i >= min , not update\n",
            "end condition , go to next i\n",
            "now i = -19,min = 1\n",
            "start condition\n",
            "i < min, update min -> {i}\n",
            "now i = -2,min = -19\n",
            "start condition\n",
            "i >= min , not update\n",
            "end condition , go to next i\n",
            "now i = 0,min = -19\n",
            "start condition\n",
            "i >= min , not update\n",
            "end condition , go to next i\n",
            "-19\n"
          ],
          "name": "stdout"
        }
      ]
    },
    {
      "cell_type": "markdown",
      "metadata": {
        "id": "nIXydlaBLHWX"
      },
      "source": [
        "##HW ตัดเกรด"
      ]
    },
    {
      "cell_type": "code",
      "metadata": {
        "id": "NDvCZkUcAsA7"
      },
      "source": [
        "score = [49,65,70,95,82,55,89,20,77,77,81,59,10] #ตัดเกรด คะเเนนใน list score (ใช้ if กับ for)"
      ],
      "execution_count": 23,
      "outputs": []
    },
    {
      "cell_type": "code",
      "metadata": {
        "id": "6CFddeduAsAF",
        "colab": {
          "base_uri": "https://localhost:8080/"
        },
        "outputId": "9086145c-87cc-4185-9be9-f5c91833023d"
      },
      "source": [
        "print(score)\n",
        "for i in score:\n",
        "  if i >= 90: \n",
        "    print('เกรด A ')\n",
        "  elif i >=85:\n",
        "    print('เกรด B+')\n",
        "  elif i >=75:\n",
        "    print('เกรด B')\n",
        "  elif i >=70:\n",
        "    print('เกรด C+')\n",
        "  elif i >=60:\n",
        "    print('เกรด C')\n",
        "  elif i >=55:\n",
        "    print('เกรด D+')\n",
        "  elif i >=50:\n",
        "    print('เกรด D')  \n",
        "  else:\n",
        "    print('เกรด F')\n",
        "\n",
        "  "
      ],
      "execution_count": null,
      "outputs": [
        {
          "output_type": "stream",
          "text": [
            "[49, 65, 70, 95, 82, 55, 89, 20, 77, 77, 81, 59, 10]\n",
            "เกรด F\n",
            "เกรด C\n",
            "เกรด C+\n",
            "เกรด A \n",
            "เกรด B\n",
            "เกรด D+\n",
            "เกรด B+\n",
            "เกรด F\n",
            "เกรด B\n",
            "เกรด B\n",
            "เกรด B\n",
            "เกรด D+\n",
            "เกรด F\n"
          ],
          "name": "stdout"
        }
      ]
    },
    {
      "cell_type": "markdown",
      "metadata": {
        "id": "TBKtkvmCv9Oj"
      },
      "source": [
        "#Function\n",
        "\n",
        "```python\n",
        "def ชื่อฟังก์ชั่น(input1,input2,.....):\n",
        "  งานxxx\n",
        "  งานyyy\n",
        "  return output\n",
        "  ```\n",
        "\n",
        "  ![image.png](data:image/png;base64,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)\n",
        "\n",
        "  ส่วนประกอบสำคัญ\n",
        "  * input\n",
        "  * process(ไม่มีไม่ได้)\n",
        "  * output"
      ]
    },
    {
      "cell_type": "markdown",
      "metadata": {
        "id": "ovvxRpr4y3bJ"
      },
      "source": [
        "##Example 1 "
      ]
    },
    {
      "cell_type": "code",
      "metadata": {
        "id": "lo4ksimBAr4F"
      },
      "source": [
        "def grading(score):  #คีย์ลัดในการย่อหน้าบรรทัด คือ Ctrl+[, Ctrl+]\n",
        "  if score >= 90:\n",
        "      grade = 'A'\n",
        "  elif score >= 85:\n",
        "      grade = 'B+'\n",
        "  elif score >= 75:\n",
        "      grade = 'B'\n",
        "  elif score >= 70:\n",
        "      grade = 'C+'\n",
        "  elif score >= 60:\n",
        "      grade = 'C'\n",
        "  elif score >= 55:\n",
        "      grade = 'D+'\n",
        "  elif score >= 50:\n",
        "      grade = 'D'\n",
        "  else:\n",
        "      grade = 'F'\n",
        "  return grade"
      ],
      "execution_count": 33,
      "outputs": []
    },
    {
      "cell_type": "code",
      "metadata": {
        "id": "CAprKb8kAr0Q",
        "colab": {
          "base_uri": "https://localhost:8080/"
        },
        "outputId": "49ba8ea5-fc3c-47ab-c2ba-0822e1aa0c69"
      },
      "source": [
        "score = [49,65,70,95,82,55,89,20,77,77,81,59,10]\n",
        "for i in score:\n",
        "    print(f'คะแนน {i} ได้เกรด {grading(i)}')"
      ],
      "execution_count": 34,
      "outputs": [
        {
          "output_type": "stream",
          "text": [
            "คะแนน 49 ได้เกรด F\n",
            "คะแนน 65 ได้เกรด C\n",
            "คะแนน 70 ได้เกรด C+\n",
            "คะแนน 95 ได้เกรด A\n",
            "คะแนน 82 ได้เกรด B\n",
            "คะแนน 55 ได้เกรด D+\n",
            "คะแนน 89 ได้เกรด B+\n",
            "คะแนน 20 ได้เกรด F\n",
            "คะแนน 77 ได้เกรด B\n",
            "คะแนน 77 ได้เกรด B\n",
            "คะแนน 81 ได้เกรด B\n",
            "คะแนน 59 ได้เกรด D+\n",
            "คะแนน 10 ได้เกรด F\n"
          ],
          "name": "stdout"
        }
      ]
    },
    {
      "cell_type": "code",
      "metadata": {
        "id": "ksiPF_3hArrO"
      },
      "source": [
        "def grading_list(list_score):\n",
        "  grade_list = []\n",
        "  for score in list_score:\n",
        "    if score >= 90:\n",
        "       grade = 'A'\n",
        "    elif score >= 85:\n",
        "       grade = 'B+'\n",
        "    elif score >= 75:\n",
        "       grade = 'B'\n",
        "    elif score >= 70:\n",
        "       grade = 'C+'\n",
        "    elif score >= 60:\n",
        "       grade = 'C'\n",
        "    elif score >= 55:\n",
        "       grade = 'D+'\n",
        "    elif score >= 50:\n",
        "       grade = 'D'\n",
        "    else:\n",
        "      grade = 'F'\n",
        "    grade_list.append([score,grade])\n",
        "  return grade_list"
      ],
      "execution_count": 39,
      "outputs": []
    },
    {
      "cell_type": "code",
      "metadata": {
        "id": "m6f3U7tC28mv"
      },
      "source": [
        "g = grading_list(score)"
      ],
      "execution_count": 40,
      "outputs": []
    },
    {
      "cell_type": "code",
      "metadata": {
        "colab": {
          "base_uri": "https://localhost:8080/"
        },
        "id": "GGZXihHs28j1",
        "outputId": "0c7edf26-38df-4b48-80c4-f3918242e76f"
      },
      "source": [
        "g"
      ],
      "execution_count": 41,
      "outputs": [
        {
          "output_type": "execute_result",
          "data": {
            "text/plain": [
              "[[49, 'F'],\n",
              " [65, 'C'],\n",
              " [70, 'C+'],\n",
              " [95, 'A'],\n",
              " [82, 'B'],\n",
              " [55, 'D+'],\n",
              " [89, 'B+'],\n",
              " [20, 'F'],\n",
              " [77, 'B'],\n",
              " [77, 'B'],\n",
              " [81, 'B'],\n",
              " [59, 'D+'],\n",
              " [10, 'F']]"
            ]
          },
          "metadata": {
            "tags": []
          },
          "execution_count": 41
        }
      ]
    },
    {
      "cell_type": "code",
      "metadata": {
        "id": "zKXcOebd28hN"
      },
      "source": [
        "def grading2(score):  #เราสามารถพิม return ได้หลายครั้งได้\n",
        " if score >= 90:\n",
        "   return  'A'\n",
        " elif score >= 85:\n",
        "   return  'B+'\n",
        " elif score >= 75:\n",
        "   return  'B'\n",
        " elif score >= 70:\n",
        "   return  'C+'\n",
        " elif score >= 60:\n",
        "   return  'C'\n",
        " elif score >= 55:\n",
        "   return  'D+'\n",
        " elif score >= 50:\n",
        "   return  'D'\n",
        " else:\n",
        "   return  'F'"
      ],
      "execution_count": 48,
      "outputs": []
    },
    {
      "cell_type": "code",
      "metadata": {
        "colab": {
          "base_uri": "https://localhost:8080/"
        },
        "id": "ht8gtXyz28el",
        "outputId": "64d4f533-d67e-48ac-d719-b7963935bd89"
      },
      "source": [
        "score = [49,65,70,95,82,55,89,20,77,77,81,59,10]\n",
        "for i in score:\n",
        "    print(f'คะแนน {i} ได้เกรด {grading2(i)}')"
      ],
      "execution_count": 50,
      "outputs": [
        {
          "output_type": "stream",
          "text": [
            "คะแนน 49 ได้เกรด F\n",
            "คะแนน 65 ได้เกรด C\n",
            "คะแนน 70 ได้เกรด C+\n",
            "คะแนน 95 ได้เกรด A\n",
            "คะแนน 82 ได้เกรด B\n",
            "คะแนน 55 ได้เกรด D+\n",
            "คะแนน 89 ได้เกรด B+\n",
            "คะแนน 20 ได้เกรด F\n",
            "คะแนน 77 ได้เกรด B\n",
            "คะแนน 77 ได้เกรด B\n",
            "คะแนน 81 ได้เกรด B\n",
            "คะแนน 59 ได้เกรด D+\n",
            "คะแนน 10 ได้เกรด F\n"
          ],
          "name": "stdout"
        }
      ]
    },
    {
      "cell_type": "markdown",
      "metadata": {
        "id": "rF07WbLb9ArW"
      },
      "source": [
        "#Example 2 (ไม่มี input)"
      ]
    },
    {
      "cell_type": "code",
      "metadata": {
        "id": "L4a2MeIG28cN"
      },
      "source": [
        "def mypi():          #ไม่มีinputฟังก์ชั่นที่ใช้บ่อยๆ\n",
        "    return 3.14"
      ],
      "execution_count": 51,
      "outputs": []
    },
    {
      "cell_type": "code",
      "metadata": {
        "colab": {
          "base_uri": "https://localhost:8080/"
        },
        "id": "dZGb6KcM28ZE",
        "outputId": "d2304820-c2fb-4ee4-e113-58288a831ef9"
      },
      "source": [
        "r=10\n",
        "print(f'รัศมี={r} จะมีเส้นรอบวง={2*mypi()*r}')"
      ],
      "execution_count": 53,
      "outputs": [
        {
          "output_type": "stream",
          "text": [
            "รัศมี=10 จะมีเส้นรอบวง=62.800000000000004\n"
          ],
          "name": "stdout"
        }
      ]
    },
    {
      "cell_type": "markdown",
      "metadata": {
        "id": "Kqf0OosA-ASh"
      },
      "source": [
        "#Example 3 (ไม่มี output)"
      ]
    },
    {
      "cell_type": "code",
      "metadata": {
        "id": "ufhzU7_P81nM"
      },
      "source": [
        " def grading_nooutput(score):\n",
        "  if i >= 90: \n",
        "    print('เกรด A ')\n",
        "  elif i >=85:\n",
        "    print('เกรด B+')\n",
        "  elif i >=75:\n",
        "    print('เกรด B')\n",
        "  elif i >=70:\n",
        "    print('เกรด C+')\n",
        "  elif i >=60:\n",
        "    print('เกรด C')\n",
        "  elif i >=55:\n",
        "    print('เกรด D+')\n",
        "  elif i >=50:\n",
        "    print('เกรด D')  \n",
        "  else:\n",
        "    print('เกรด F')"
      ],
      "execution_count": 55,
      "outputs": []
    },
    {
      "cell_type": "code",
      "metadata": {
        "colab": {
          "base_uri": "https://localhost:8080/"
        },
        "id": "cdmeLBbb81kW",
        "outputId": "ee64e254-cd7f-4dfc-e94d-fc8e973b4997"
      },
      "source": [
        "score = [49,65,70,95,82,55,89,20,77,77,81,59,10]\n",
        "for i in score:\n",
        "    print(f'คะแนน {i}' , end= ' ')\n",
        "    grading_nooutput(i)"
      ],
      "execution_count": 58,
      "outputs": [
        {
          "output_type": "stream",
          "text": [
            "คะแนน 49 เกรด F\n",
            "คะแนน 65 เกรด C\n",
            "คะแนน 70 เกรด C+\n",
            "คะแนน 95 เกรด A \n",
            "คะแนน 82 เกรด B\n",
            "คะแนน 55 เกรด D+\n",
            "คะแนน 89 เกรด B+\n",
            "คะแนน 20 เกรด F\n",
            "คะแนน 77 เกรด B\n",
            "คะแนน 77 เกรด B\n",
            "คะแนน 81 เกรด B\n",
            "คะแนน 59 เกรด D+\n",
            "คะแนน 10 เกรด F\n"
          ],
          "name": "stdout"
        }
      ]
    },
    {
      "cell_type": "markdown",
      "metadata": {
        "id": "Vluo1qu6_cW-"
      },
      "source": [
        "#Example 3 (ไม่มี input เเละ output)"
      ]
    },
    {
      "cell_type": "code",
      "metadata": {
        "id": "QSjGbH4081iG"
      },
      "source": [
        "def draw_rect():\n",
        "    print('============')\n",
        "    print('/          /')\n",
        "    print('/          /')\n",
        "    print('============')"
      ],
      "execution_count": 59,
      "outputs": []
    },
    {
      "cell_type": "code",
      "metadata": {
        "colab": {
          "base_uri": "https://localhost:8080/"
        },
        "id": "MzhxpHr681e4",
        "outputId": "f3e8624d-c965-4946-bf16-0ca3cd2d74b9"
      },
      "source": [
        "draw_rect()\n",
        "draw_rect()"
      ],
      "execution_count": 60,
      "outputs": [
        {
          "output_type": "stream",
          "text": [
            "============\n",
            "/          /\n",
            "/          /\n",
            "============\n",
            "============\n",
            "/          /\n",
            "/          /\n",
            "============\n"
          ],
          "name": "stdout"
        }
      ]
    },
    {
      "cell_type": "markdown",
      "metadata": {
        "id": "qSPFgebnBLbl"
      },
      "source": [
        "#### ลักษณะของ input(parameter)\n",
        "\n",
        "\n",
        "\n",
        "*   จำเป็นต้องใส่\n",
        "*   ไม่จำเป็นต้องใส่\n",
        "\n"
      ]
    },
    {
      "cell_type": "code",
      "metadata": {
        "id": "5X3e989u81c_"
      },
      "source": [
        "def A(input1, input2= 3): #(ไม่จำเป็น,จำเป็น)\n",
        "    return input1+input2 #ตัวที่ไม่กำหนดdef เราจำเป็นต้องใส่inputให้ เพราะถ้าไม่ใส่จะรันผลออกมาไม่ได้"
      ],
      "execution_count": 63,
      "outputs": []
    },
    {
      "cell_type": "code",
      "metadata": {
        "colab": {
          "base_uri": "https://localhost:8080/"
        },
        "id": "t1y0aXJ981Zy",
        "outputId": "cdc53778-8add-4e49-a9f0-7a661ebeb025"
      },
      "source": [
        "A(1) "
      ],
      "execution_count": 64,
      "outputs": [
        {
          "output_type": "execute_result",
          "data": {
            "text/plain": [
              "4"
            ]
          },
          "metadata": {
            "tags": []
          },
          "execution_count": 64
        }
      ]
    },
    {
      "cell_type": "code",
      "metadata": {
        "colab": {
          "base_uri": "https://localhost:8080/"
        },
        "id": "GlvY8hL381XN",
        "outputId": "8f5a85c8-bc6a-4ece-c481-ebc58467f724"
      },
      "source": [
        "A(1,6)"
      ],
      "execution_count": 68,
      "outputs": [
        {
          "output_type": "execute_result",
          "data": {
            "text/plain": [
              "7"
            ]
          },
          "metadata": {
            "tags": []
          },
          "execution_count": 68
        }
      ]
    },
    {
      "cell_type": "code",
      "metadata": {
        "colab": {
          "base_uri": "https://localhost:8080/",
          "height": 162
        },
        "id": "biPZmi7v81Uk",
        "outputId": "cf38002a-ebeb-4808-ae09-701552319fc9"
      },
      "source": [
        "A()"
      ],
      "execution_count": 66,
      "outputs": [
        {
          "output_type": "error",
          "ename": "TypeError",
          "evalue": "ignored",
          "traceback": [
            "\u001b[0;31m---------------------------------------------------------------------------\u001b[0m",
            "\u001b[0;31mTypeError\u001b[0m                                 Traceback (most recent call last)",
            "\u001b[0;32m<ipython-input-66-6234893e030b>\u001b[0m in \u001b[0;36m<module>\u001b[0;34m()\u001b[0m\n\u001b[0;32m----> 1\u001b[0;31m \u001b[0mA\u001b[0m\u001b[0;34m(\u001b[0m\u001b[0;34m)\u001b[0m\u001b[0;34m\u001b[0m\u001b[0;34m\u001b[0m\u001b[0m\n\u001b[0m",
            "\u001b[0;31mTypeError\u001b[0m: A() missing 1 required positional argument: 'input1'"
          ]
        }
      ]
    },
    {
      "cell_type": "code",
      "metadata": {
        "id": "0zrknVX881SC"
      },
      "source": [
        "def printlove(input1, input2= 'Stat', input3 = 'KKU'): \n",
        "    print(f'{input1} love {input2} {input3}')"
      ],
      "execution_count": 72,
      "outputs": []
    },
    {
      "cell_type": "code",
      "metadata": {
        "colab": {
          "base_uri": "https://localhost:8080/"
        },
        "id": "HCSRVj-z81Pf",
        "outputId": "a503bb91-708c-4ab6-ea7a-7751231cb690"
      },
      "source": [
        "printlove('Chanunchida')"
      ],
      "execution_count": 73,
      "outputs": [
        {
          "output_type": "stream",
          "text": [
            "Chanunchida love Stat KKU\n"
          ],
          "name": "stdout"
        }
      ]
    },
    {
      "cell_type": "code",
      "metadata": {
        "colab": {
          "base_uri": "https://localhost:8080/"
        },
        "id": "Af-VNmz0DWOT",
        "outputId": "2310277e-7da9-49bd-c553-3eeeaa173573"
      },
      "source": [
        "printlove('Chanunchida','SI','Stat')"
      ],
      "execution_count": 74,
      "outputs": [
        {
          "output_type": "stream",
          "text": [
            "Chanunchida love SI Stat\n"
          ],
          "name": "stdout"
        }
      ]
    },
    {
      "cell_type": "code",
      "metadata": {
        "colab": {
          "base_uri": "https://localhost:8080/"
        },
        "id": "8S-4uqnLD0sb",
        "outputId": "7241847e-6667-4b4f-f5c7-565d35415824"
      },
      "source": [
        "printlove(input3= 'Chanunchida',input2= 'SI',input1= 'Stat')"
      ],
      "execution_count": 77,
      "outputs": [
        {
          "output_type": "stream",
          "text": [
            "Stat love SI Chanunchida\n"
          ],
          "name": "stdout"
        }
      ]
    },
    {
      "cell_type": "code",
      "metadata": {
        "colab": {
          "base_uri": "https://localhost:8080/",
          "height": 128
        },
        "id": "9rpmbrvWD39K",
        "outputId": "709f96e8-9307-4f9c-fb1d-8f916903e9ed"
      },
      "source": [
        "def printlove(input2= 'Stat',input1, input3 = 'KKU'):  #ต้องเอาinputที่ไม่มี = มาเรียงข้างหน้าก่อนเสมอ\n",
        "    print(f'{input1} love {input2} {input3}')"
      ],
      "execution_count": 76,
      "outputs": [
        {
          "output_type": "error",
          "ename": "SyntaxError",
          "evalue": "ignored",
          "traceback": [
            "\u001b[0;36m  File \u001b[0;32m\"<ipython-input-76-1b200d8c8431>\"\u001b[0;36m, line \u001b[0;32m1\u001b[0m\n\u001b[0;31m    def printlove(input2= 'Stat',input1, input3 = 'KKU'):\u001b[0m\n\u001b[0m                 ^\u001b[0m\n\u001b[0;31mSyntaxError\u001b[0m\u001b[0;31m:\u001b[0m non-default argument follows default argument\n"
          ]
        }
      ]
    },
    {
      "cell_type": "markdown",
      "metadata": {
        "id": "taTskphPFI1R"
      },
      "source": [
        "### Quiz4 ส่ง11.05(27/07/2021)\n",
        "\n",
        "สร้างฟังก์ชั่น\n",
        "\n",
        "\n",
        "*   วาดรูปต้นไม้\n",
        "*   วาดรูปบ้าน\n",
        "\n"
      ]
    },
    {
      "cell_type": "code",
      "metadata": {
        "id": "I-Jx_l4JD341"
      },
      "source": [
        "def draw_rect1():\n",
        "    print('   /\\\\------------------\\\\')\n",
        "    print('  /  \\\\------------------\\\\')\n",
        "    print(' /    \\\\----------------- \\\\')\n",
        "    print('/      \\\\------------------\\\\')\n",
        "    print('===========================')\n",
        "    print('|       |                  |')\n",
        "    print('|       |                  |')\n",
        "    print('|       |                  |')\n",
        "    print('|       |                  |')\n",
        "    print('===========================       |     |    ' )\n"
      ],
      "execution_count": 96,
      "outputs": []
    },
    {
      "cell_type": "code",
      "metadata": {
        "colab": {
          "base_uri": "https://localhost:8080/"
        },
        "id": "qsOdt0urD328",
        "outputId": "6f8b07ae-13e3-4a9a-cc33-43c717d7df12"
      },
      "source": [
        "draw_rect1()"
      ],
      "execution_count": 97,
      "outputs": [
        {
          "output_type": "stream",
          "text": [
            "   /\\------------------\\\n",
            "  /  \\------------------\\\n",
            " /    \\----------------- \\\n",
            "/      \\------------------\\\n",
            "===========================\n",
            "|       |                  |\n",
            "|       |                  |\n",
            "|       |                  |\n",
            "|       |                  |\n",
            "===========================       |     |    \n"
          ],
          "name": "stdout"
        }
      ]
    },
    {
      "cell_type": "code",
      "metadata": {
        "id": "a59BWbIDD3zY"
      },
      "source": [
        ""
      ],
      "execution_count": null,
      "outputs": []
    },
    {
      "cell_type": "code",
      "metadata": {
        "id": "49avpoSDD3wn"
      },
      "source": [
        ""
      ],
      "execution_count": null,
      "outputs": []
    }
  ]
}