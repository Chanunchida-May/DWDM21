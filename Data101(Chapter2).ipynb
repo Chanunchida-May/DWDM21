{
  "nbformat": 4,
  "nbformat_minor": 0,
  "metadata": {
    "colab": {
      "name": "Data101(Chapter2).ipynb",
      "provenance": [],
      "authorship_tag": "ABX9TyNJiYAxV7oiKUXG/b4NWbil",
      "include_colab_link": true
    },
    "kernelspec": {
      "name": "python3",
      "display_name": "Python 3"
    },
    "language_info": {
      "name": "python"
    }
  },
  "cells": [
    {
      "cell_type": "markdown",
      "metadata": {
        "id": "view-in-github",
        "colab_type": "text"
      },
      "source": [
        "<a href=\"https://colab.research.google.com/github/Chanunchida-May/DWDM21/blob/main/Data101(Chapter2).ipynb\" target=\"_parent\"><img src=\"https://colab.research.google.com/assets/colab-badge.svg\" alt=\"Open In Colab\"/></a>"
      ]
    },
    {
      "cell_type": "markdown",
      "metadata": {
        "id": "SXWX3_KIz3lq"
      },
      "source": [
        "ข้อความที่อยู่ใน text box จะเป็นภาษา Markdown"
      ]
    },
    {
      "cell_type": "markdown",
      "metadata": {
        "id": "7wlWBZsauAfL"
      },
      "source": [
        "ข้อดีหนึ่งของ python คือมี package สำหรับงานต่างๆมากมาย\n",
        "\n",
        "ซึ่ง pandas เป็น package สำหรับทำงานกับข้อมูลที่อยู่ในรูปแบบตาราง\n",
        "\n",
        "โดย Pandas จะเรียกตารางนั้นว่า dataframe"
      ]
    },
    {
      "cell_type": "code",
      "metadata": {
        "id": "jyIndrHStz2K"
      },
      "source": [
        "import pandas #วิธีเรียกใช้ package คือ import ตามด้วยชื่อ package"
      ],
      "execution_count": null,
      "outputs": []
    },
    {
      "cell_type": "code",
      "metadata": {
        "id": "J4WGsC7Ht69v"
      },
      "source": [
        "import pandas as pd # เหมือนกับข้างบนเเต่ว่า ตั้งชื่อให้ package ที่โหลดมาใหม่ว่า pd\n"
      ],
      "execution_count": null,
      "outputs": []
    },
    {
      "cell_type": "markdown",
      "metadata": {
        "id": "frXfKg4iu2Jv"
      },
      "source": [
        "ไฟล์ .csv (csv = comma separated values) เป็นไฟล์หลักที่เราจะได้ใช้กันในวิชานี้ \n",
        "\n"
      ]
    },
    {
      "cell_type": "code",
      "metadata": {
        "id": "Y1yvxyr9t9yC"
      },
      "source": [
        "data_df = pd.read_csv('data.csv')"
      ],
      "execution_count": null,
      "outputs": []
    },
    {
      "cell_type": "code",
      "metadata": {
        "colab": {
          "base_uri": "https://localhost:8080/",
          "height": 141
        },
        "id": "tJqNjrpvt92u",
        "outputId": "91f4d8f1-ac00-4e07-d95d-bc0596686109"
      },
      "source": [
        "data_df"
      ],
      "execution_count": null,
      "outputs": [
        {
          "output_type": "execute_result",
          "data": {
            "text/html": [
              "<div>\n",
              "<style scoped>\n",
              "    .dataframe tbody tr th:only-of-type {\n",
              "        vertical-align: middle;\n",
              "    }\n",
              "\n",
              "    .dataframe tbody tr th {\n",
              "        vertical-align: top;\n",
              "    }\n",
              "\n",
              "    .dataframe thead th {\n",
              "        text-align: right;\n",
              "    }\n",
              "</style>\n",
              "<table border=\"1\" class=\"dataframe\">\n",
              "  <thead>\n",
              "    <tr style=\"text-align: right;\">\n",
              "      <th></th>\n",
              "      <th>name</th>\n",
              "      <th>age</th>\n",
              "      <th>city</th>\n",
              "    </tr>\n",
              "  </thead>\n",
              "  <tbody>\n",
              "    <tr>\n",
              "      <th>0</th>\n",
              "      <td>Tom</td>\n",
              "      <td>27</td>\n",
              "      <td>Khon Kaen</td>\n",
              "    </tr>\n",
              "    <tr>\n",
              "      <th>1</th>\n",
              "      <td>Paul</td>\n",
              "      <td>15</td>\n",
              "      <td>Bangkok</td>\n",
              "    </tr>\n",
              "    <tr>\n",
              "      <th>2</th>\n",
              "      <td>Sarah</td>\n",
              "      <td>49</td>\n",
              "      <td>London</td>\n",
              "    </tr>\n",
              "  </tbody>\n",
              "</table>\n",
              "</div>"
            ],
            "text/plain": [
              "    name  age       city\n",
              "0    Tom   27  Khon Kaen\n",
              "1   Paul   15    Bangkok\n",
              "2  Sarah   49    London "
            ]
          },
          "metadata": {
            "tags": []
          },
          "execution_count": 5
        }
      ]
    },
    {
      "cell_type": "code",
      "metadata": {
        "colab": {
          "base_uri": "https://localhost:8080/",
          "height": 141
        },
        "id": "OoPRicJdt989",
        "outputId": "4d250024-a430-489a-c3ab-a514ca3a2b2f"
      },
      "source": [
        "data_df2 = pandas.read_csv('data.csv')\n",
        "data_df2"
      ],
      "execution_count": null,
      "outputs": [
        {
          "output_type": "execute_result",
          "data": {
            "text/html": [
              "<div>\n",
              "<style scoped>\n",
              "    .dataframe tbody tr th:only-of-type {\n",
              "        vertical-align: middle;\n",
              "    }\n",
              "\n",
              "    .dataframe tbody tr th {\n",
              "        vertical-align: top;\n",
              "    }\n",
              "\n",
              "    .dataframe thead th {\n",
              "        text-align: right;\n",
              "    }\n",
              "</style>\n",
              "<table border=\"1\" class=\"dataframe\">\n",
              "  <thead>\n",
              "    <tr style=\"text-align: right;\">\n",
              "      <th></th>\n",
              "      <th>name</th>\n",
              "      <th>age</th>\n",
              "      <th>city</th>\n",
              "    </tr>\n",
              "  </thead>\n",
              "  <tbody>\n",
              "    <tr>\n",
              "      <th>0</th>\n",
              "      <td>Tom</td>\n",
              "      <td>27</td>\n",
              "      <td>Khon Kaen</td>\n",
              "    </tr>\n",
              "    <tr>\n",
              "      <th>1</th>\n",
              "      <td>Paul</td>\n",
              "      <td>15</td>\n",
              "      <td>Bangkok</td>\n",
              "    </tr>\n",
              "    <tr>\n",
              "      <th>2</th>\n",
              "      <td>Sarah</td>\n",
              "      <td>49</td>\n",
              "      <td>London</td>\n",
              "    </tr>\n",
              "  </tbody>\n",
              "</table>\n",
              "</div>"
            ],
            "text/plain": [
              "    name  age       city\n",
              "0    Tom   27  Khon Kaen\n",
              "1   Paul   15    Bangkok\n",
              "2  Sarah   49    London "
            ]
          },
          "metadata": {
            "tags": []
          },
          "execution_count": 6
        }
      ]
    },
    {
      "cell_type": "markdown",
      "metadata": {
        "id": "rPq--IWKyhrK"
      },
      "source": [
        "# Basic Python\n",
        "\n",
        "## variables"
      ]
    },
    {
      "cell_type": "markdown",
      "metadata": {
        "id": "PUe505fR1qAR"
      },
      "source": [
        "ข้อกำหนดในการตั้งชื่อตัวเเปร\n",
        "\n",
        "1.ชื่อห้ามมีเว้นวรรค\n",
        "\n",
        "2.พยายามใช้ภาษาอังกฤษ\n",
        "\n",
        "3..ตัวเล็กกับตัวใหญ่เเตกต่างกัน (case sensitive)\n",
        "\n",
        "4.ห้ามใช้ตัวเลขเป็นตัวหน้า"
      ]
    },
    {
      "cell_type": "code",
      "metadata": {
        "id": "EvNfqeqBt-BB"
      },
      "source": [
        "variable_a = 12   #การตั้งชื่อตัวเเปรห้ามมีเว้นวรรค\n",
        "variable_b = 'abcde' #' ' เรียกว่า quote\n",
        "variable_c = variable_a"
      ],
      "execution_count": null,
      "outputs": []
    },
    {
      "cell_type": "code",
      "metadata": {
        "colab": {
          "base_uri": "https://localhost:8080/"
        },
        "id": "YQuQhGB4yawB",
        "outputId": "19578c51-d161-418d-a24b-1861433c48a9"
      },
      "source": [
        "variable_a"
      ],
      "execution_count": null,
      "outputs": [
        {
          "output_type": "execute_result",
          "data": {
            "text/plain": [
              "12"
            ]
          },
          "metadata": {
            "tags": []
          },
          "execution_count": 9
        }
      ]
    },
    {
      "cell_type": "code",
      "metadata": {
        "colab": {
          "base_uri": "https://localhost:8080/",
          "height": 35
        },
        "id": "q5MWSc2OyazK",
        "outputId": "b5b64974-9539-40a4-ce6b-b10cf9049e78"
      },
      "source": [
        "variable_b"
      ],
      "execution_count": null,
      "outputs": [
        {
          "output_type": "execute_result",
          "data": {
            "application/vnd.google.colaboratory.intrinsic+json": {
              "type": "string"
            },
            "text/plain": [
              "'abcde'"
            ]
          },
          "metadata": {
            "tags": []
          },
          "execution_count": 10
        }
      ]
    },
    {
      "cell_type": "code",
      "metadata": {
        "colab": {
          "base_uri": "https://localhost:8080/"
        },
        "id": "qaK9-fK1ya2k",
        "outputId": "b345d105-8900-4441-e961-5a7063bc3730"
      },
      "source": [
        "variable_c"
      ],
      "execution_count": null,
      "outputs": [
        {
          "output_type": "execute_result",
          "data": {
            "text/plain": [
              "12"
            ]
          },
          "metadata": {
            "tags": []
          },
          "execution_count": 11
        }
      ]
    },
    {
      "cell_type": "code",
      "metadata": {
        "colab": {
          "base_uri": "https://localhost:8080/",
          "height": 128
        },
        "id": "pxKjpqhjya51",
        "outputId": "3df44bf2-c577-41df-abfc-e77605b5241b"
      },
      "source": [
        "variable b = 6"
      ],
      "execution_count": null,
      "outputs": [
        {
          "output_type": "error",
          "ename": "SyntaxError",
          "evalue": "ignored",
          "traceback": [
            "\u001b[0;36m  File \u001b[0;32m\"<ipython-input-13-3c29cda956b9>\"\u001b[0;36m, line \u001b[0;32m1\u001b[0m\n\u001b[0;31m    variable b = 6\u001b[0m\n\u001b[0m             ^\u001b[0m\n\u001b[0;31mSyntaxError\u001b[0m\u001b[0;31m:\u001b[0m invalid syntax\n"
          ]
        }
      ]
    },
    {
      "cell_type": "code",
      "metadata": {
        "id": "mdS-E1_St-Ej"
      },
      "source": [
        "ตัวเเปร = 3 #colab ใช้ภาษาไทยเป็นชื่อตัวเเปรได้ เเต่ไม่ควรใช้ \n",
        "          #พยายามใช้ภาษาอังกฤษ"
      ],
      "execution_count": null,
      "outputs": []
    },
    {
      "cell_type": "code",
      "metadata": {
        "colab": {
          "base_uri": "https://localhost:8080/"
        },
        "id": "Vn7HJ_JIt-Hp",
        "outputId": "a1a85f6e-5f5e-4368-d665-67474ed804ca"
      },
      "source": [
        "ตัวเเปร"
      ],
      "execution_count": null,
      "outputs": [
        {
          "output_type": "execute_result",
          "data": {
            "text/plain": [
              "3"
            ]
          },
          "metadata": {
            "tags": []
          },
          "execution_count": 15
        }
      ]
    },
    {
      "cell_type": "code",
      "metadata": {
        "colab": {
          "base_uri": "https://localhost:8080/"
        },
        "id": "nc-C5hSH2Tx3",
        "outputId": "c8244851-1a3c-4c80-9674-00b9ae179a9a"
      },
      "source": [
        "#ตัวเล็กกับตัวใหญ่ เเตกต่างกัน (case sensitive)\n",
        "v_a = 1\n",
        "V_a = 2\n",
        "print(v_a)\n",
        "print(V_a)"
      ],
      "execution_count": null,
      "outputs": [
        {
          "output_type": "stream",
          "text": [
            "1\n",
            "2\n"
          ],
          "name": "stdout"
        }
      ]
    },
    {
      "cell_type": "code",
      "metadata": {
        "colab": {
          "base_uri": "https://localhost:8080/"
        },
        "id": "0N9TlMDj2cVC",
        "outputId": "5b4e5c79-c8f3-48b5-9ea0-b390d8f3280b"
      },
      "source": [
        "#ตัวเล็กกับตัวใหญ่ เเตกต่างกัน (case sensitive)\n",
        "v_a = 1\n",
        "v_a = 2\n",
        "print(v_a)\n",
        "print(v_a)"
      ],
      "execution_count": null,
      "outputs": [
        {
          "output_type": "stream",
          "text": [
            "2\n",
            "2\n"
          ],
          "name": "stdout"
        }
      ]
    },
    {
      "cell_type": "code",
      "metadata": {
        "colab": {
          "base_uri": "https://localhost:8080/",
          "height": 128
        },
        "id": "ceYlGeAr2cSj",
        "outputId": "e8621af8-f0f8-4abe-ff76-ecdba40ed37e"
      },
      "source": [
        "#ห้ามใช้ตัวเลขเป็นตัวหน้า\n",
        "2=1"
      ],
      "execution_count": null,
      "outputs": [
        {
          "output_type": "error",
          "ename": "SyntaxError",
          "evalue": "ignored",
          "traceback": [
            "\u001b[0;36m  File \u001b[0;32m\"<ipython-input-22-9e861f116a98>\"\u001b[0;36m, line \u001b[0;32m2\u001b[0m\n\u001b[0;31m    2=1\u001b[0m\n\u001b[0m       ^\u001b[0m\n\u001b[0;31mSyntaxError\u001b[0m\u001b[0;31m:\u001b[0m can't assign to literal\n"
          ]
        }
      ]
    },
    {
      "cell_type": "code",
      "metadata": {
        "colab": {
          "base_uri": "https://localhost:8080/",
          "height": 128
        },
        "id": "5pmBIQIy2cPi",
        "outputId": "26d0efe0-2ee0-47bd-d5c9-eaca719514aa"
      },
      "source": [
        "2ab = 1"
      ],
      "execution_count": null,
      "outputs": [
        {
          "output_type": "error",
          "ename": "SyntaxError",
          "evalue": "ignored",
          "traceback": [
            "\u001b[0;36m  File \u001b[0;32m\"<ipython-input-23-5e626502b3e4>\"\u001b[0;36m, line \u001b[0;32m1\u001b[0m\n\u001b[0;31m    2ab = 1\u001b[0m\n\u001b[0m      ^\u001b[0m\n\u001b[0;31mSyntaxError\u001b[0m\u001b[0;31m:\u001b[0m invalid syntax\n"
          ]
        }
      ]
    },
    {
      "cell_type": "code",
      "metadata": {
        "id": "kK0cAMd42cM-"
      },
      "source": [
        "variable = 1"
      ],
      "execution_count": null,
      "outputs": []
    },
    {
      "cell_type": "code",
      "metadata": {
        "colab": {
          "base_uri": "https://localhost:8080/"
        },
        "id": "zpbjMBoI2cKQ",
        "outputId": "a9ce183f-e3da-4b07-e203-0a89c35dcbaf"
      },
      "source": [
        "print(variable)"
      ],
      "execution_count": null,
      "outputs": [
        {
          "output_type": "stream",
          "text": [
            "1\n"
          ],
          "name": "stdout"
        }
      ]
    },
    {
      "cell_type": "code",
      "metadata": {
        "id": "o2KHHlNt2cHK"
      },
      "source": [
        "variable_a = 12  \n",
        "variable_b = 'abcde' #' ' เรียกว่า quote\n",
        "variable_c = variable_a\n",
        "variable_d = -41.2\n",
        "variable_4 = \"KKU\" # \"เรียกว่า double quote\""
      ],
      "execution_count": null,
      "outputs": []
    },
    {
      "cell_type": "code",
      "metadata": {
        "colab": {
          "base_uri": "https://localhost:8080/"
        },
        "id": "fg0uk-Ys4SHg",
        "outputId": "04d8c9c5-b304-47b9-f5cc-b177a4c416a4"
      },
      "source": [
        "variable_x =variable_c + variable_d\n",
        "print(variable_x)"
      ],
      "execution_count": null,
      "outputs": [
        {
          "output_type": "stream",
          "text": [
            "-29.200000000000003\n"
          ],
          "name": "stdout"
        }
      ]
    },
    {
      "cell_type": "code",
      "metadata": {
        "colab": {
          "base_uri": "https://localhost:8080/",
          "height": 161
        },
        "id": "PeWvEUmC41Me",
        "outputId": "8ab5d287-13ea-454f-d5f7-feb6a640db6b"
      },
      "source": [
        "variable_a + variable_b  #int กับ string ไม่สามารถบวกกันได้"
      ],
      "execution_count": null,
      "outputs": [
        {
          "output_type": "error",
          "ename": "TypeError",
          "evalue": "ignored",
          "traceback": [
            "\u001b[0;31m---------------------------------------------------------------------------\u001b[0m",
            "\u001b[0;31mTypeError\u001b[0m                                 Traceback (most recent call last)",
            "\u001b[0;32m<ipython-input-30-79991e87d1a0>\u001b[0m in \u001b[0;36m<module>\u001b[0;34m()\u001b[0m\n\u001b[0;32m----> 1\u001b[0;31m \u001b[0mvariable_a\u001b[0m \u001b[0;34m+\u001b[0m \u001b[0mvariable_b\u001b[0m  \u001b[0;31m#int กับ string ไม่สามารถบวกกันได้\u001b[0m\u001b[0;34m\u001b[0m\u001b[0;34m\u001b[0m\u001b[0m\n\u001b[0m",
            "\u001b[0;31mTypeError\u001b[0m: unsupported operand type(s) for +: 'int' and 'str'"
          ]
        }
      ]
    },
    {
      "cell_type": "code",
      "metadata": {
        "colab": {
          "base_uri": "https://localhost:8080/"
        },
        "id": "vf-iU0WI6Noi",
        "outputId": "fb7a5771-6ea8-4e0f-8fb6-4e92cac5c267"
      },
      "source": [
        "print(variable_b + variable_4)"
      ],
      "execution_count": null,
      "outputs": [
        {
          "output_type": "stream",
          "text": [
            "abcdeKKU\n"
          ],
          "name": "stdout"
        }
      ]
    },
    {
      "cell_type": "markdown",
      "metadata": {
        "id": "zEtif4Ru7B4o"
      },
      "source": [
        "## Casting int() float() str()"
      ]
    },
    {
      "cell_type": "code",
      "metadata": {
        "colab": {
          "base_uri": "https://localhost:8080/"
        },
        "id": "r3a_kwhV6W_y",
        "outputId": "302a17c7-8ac8-4a93-a7a3-bb46ca8c9cc1"
      },
      "source": [
        "print(variable_x)\n",
        "print(int(variable_x))"
      ],
      "execution_count": null,
      "outputs": [
        {
          "output_type": "stream",
          "text": [
            "-29.200000000000003\n",
            "-29\n"
          ],
          "name": "stdout"
        }
      ]
    },
    {
      "cell_type": "code",
      "metadata": {
        "colab": {
          "base_uri": "https://localhost:8080/"
        },
        "id": "vIEBd8Cw6W9m",
        "outputId": "9ef02a25-71b4-4718-b63f-6cd84505aa0b"
      },
      "source": [
        "V_X = str(variable_x)\n",
        "print(V_X)"
      ],
      "execution_count": null,
      "outputs": [
        {
          "output_type": "stream",
          "text": [
            "-29.200000000000003\n"
          ],
          "name": "stdout"
        }
      ]
    },
    {
      "cell_type": "code",
      "metadata": {
        "colab": {
          "base_uri": "https://localhost:8080/",
          "height": 161
        },
        "id": "WpNHMKU66W7B",
        "outputId": "cff0b2fd-3adb-48ce-8cc1-0ef4fc1de461"
      },
      "source": [
        "V_X + variable_a"
      ],
      "execution_count": null,
      "outputs": [
        {
          "output_type": "error",
          "ename": "TypeError",
          "evalue": "ignored",
          "traceback": [
            "\u001b[0;31m---------------------------------------------------------------------------\u001b[0m",
            "\u001b[0;31mTypeError\u001b[0m                                 Traceback (most recent call last)",
            "\u001b[0;32m<ipython-input-37-d83c0918f5c6>\u001b[0m in \u001b[0;36m<module>\u001b[0;34m()\u001b[0m\n\u001b[0;32m----> 1\u001b[0;31m \u001b[0mV_X\u001b[0m \u001b[0;34m+\u001b[0m \u001b[0mvariable_a\u001b[0m\u001b[0;34m\u001b[0m\u001b[0;34m\u001b[0m\u001b[0m\n\u001b[0m",
            "\u001b[0;31mTypeError\u001b[0m: can only concatenate str (not \"int\") to str"
          ]
        }
      ]
    },
    {
      "cell_type": "code",
      "metadata": {
        "colab": {
          "base_uri": "https://localhost:8080/",
          "height": 161
        },
        "id": "zjkcoJPm6W4l",
        "outputId": "ac98bbe3-8f12-4f25-c470-98f067f18c97"
      },
      "source": [
        "variable_a + V_X"
      ],
      "execution_count": null,
      "outputs": [
        {
          "output_type": "error",
          "ename": "TypeError",
          "evalue": "ignored",
          "traceback": [
            "\u001b[0;31m---------------------------------------------------------------------------\u001b[0m",
            "\u001b[0;31mTypeError\u001b[0m                                 Traceback (most recent call last)",
            "\u001b[0;32m<ipython-input-38-9c7fa6bc8848>\u001b[0m in \u001b[0;36m<module>\u001b[0;34m()\u001b[0m\n\u001b[0;32m----> 1\u001b[0;31m \u001b[0mvariable_a\u001b[0m \u001b[0;34m+\u001b[0m \u001b[0mV_X\u001b[0m\u001b[0;34m\u001b[0m\u001b[0;34m\u001b[0m\u001b[0m\n\u001b[0m",
            "\u001b[0;31mTypeError\u001b[0m: unsupported operand type(s) for +: 'int' and 'str'"
          ]
        }
      ]
    },
    {
      "cell_type": "code",
      "metadata": {
        "colab": {
          "base_uri": "https://localhost:8080/",
          "height": 35
        },
        "id": "07MN2X0C6W2F",
        "outputId": "4f1ec0c9-ec11-4ec7-f0db-f617d3915c88"
      },
      "source": [
        "V_X"
      ],
      "execution_count": null,
      "outputs": [
        {
          "output_type": "execute_result",
          "data": {
            "application/vnd.google.colaboratory.intrinsic+json": {
              "type": "string"
            },
            "text/plain": [
              "'-29.200000000000003'"
            ]
          },
          "metadata": {
            "tags": []
          },
          "execution_count": 39
        }
      ]
    },
    {
      "cell_type": "code",
      "metadata": {
        "colab": {
          "base_uri": "https://localhost:8080/"
        },
        "id": "2G9QcWN_6Wzh",
        "outputId": "6eebf094-60fe-4124-f755-f982076add69"
      },
      "source": [
        "float(V_X)"
      ],
      "execution_count": null,
      "outputs": [
        {
          "output_type": "execute_result",
          "data": {
            "text/plain": [
              "-29.200000000000003"
            ]
          },
          "metadata": {
            "tags": []
          },
          "execution_count": 40
        }
      ]
    },
    {
      "cell_type": "markdown",
      "metadata": {
        "id": "5vIN79ZZ9BvD"
      },
      "source": [
        "## Data Structure\n",
        "\n",
        "### list()"
      ]
    },
    {
      "cell_type": "code",
      "metadata": {
        "id": "ef6vW-wH6WxF"
      },
      "source": [
        "list_a = [1,2,0.2,'abs'] # [] square brackets\n",
        "list_b = [2,'xyz',list_a,[1,2,0.0]]"
      ],
      "execution_count": null,
      "outputs": []
    },
    {
      "cell_type": "code",
      "metadata": {
        "colab": {
          "base_uri": "https://localhost:8080/"
        },
        "id": "IW1pRd9G6Wuh",
        "outputId": "592c1a61-8bf2-44b6-b7fd-28bc8546b56c"
      },
      "source": [
        "list_a"
      ],
      "execution_count": null,
      "outputs": [
        {
          "output_type": "execute_result",
          "data": {
            "text/plain": [
              "[1, 2, 0.2, 'abs']"
            ]
          },
          "metadata": {
            "tags": []
          },
          "execution_count": 47
        }
      ]
    },
    {
      "cell_type": "code",
      "metadata": {
        "colab": {
          "base_uri": "https://localhost:8080/"
        },
        "id": "QAcJ3Wnz9_uI",
        "outputId": "4f9c5397-079c-42a9-83c7-7b545f4f60cd"
      },
      "source": [
        "list_b"
      ],
      "execution_count": null,
      "outputs": [
        {
          "output_type": "execute_result",
          "data": {
            "text/plain": [
              "[2, 'xyz', [1, 2, 0.2, 'abs'], [1, 2, 0.0]]"
            ]
          },
          "metadata": {
            "tags": []
          },
          "execution_count": 46
        }
      ]
    },
    {
      "cell_type": "code",
      "metadata": {
        "colab": {
          "base_uri": "https://localhost:8080/"
        },
        "id": "2nTn054y-CQ7",
        "outputId": "553834ae-9782-40f0-e8f9-9b031aac82c1"
      },
      "source": [
        "len(list_b) #lenมีสามาชิกกี่ตัว"
      ],
      "execution_count": null,
      "outputs": [
        {
          "output_type": "execute_result",
          "data": {
            "text/plain": [
              "4"
            ]
          },
          "metadata": {
            "tags": []
          },
          "execution_count": 49
        }
      ]
    },
    {
      "cell_type": "code",
      "metadata": {
        "colab": {
          "base_uri": "https://localhost:8080/"
        },
        "id": "jOqqyNh2-OWz",
        "outputId": "d894728a-bbad-4b48-a616-c9db7bc5f9c5"
      },
      "source": [
        "len(list_b)"
      ],
      "execution_count": null,
      "outputs": [
        {
          "output_type": "execute_result",
          "data": {
            "text/plain": [
              "4"
            ]
          },
          "metadata": {
            "tags": []
          },
          "execution_count": 50
        }
      ]
    },
    {
      "cell_type": "code",
      "metadata": {
        "colab": {
          "base_uri": "https://localhost:8080/"
        },
        "id": "IH8KFLRw-YGa",
        "outputId": "65e878f6-5f41-4f8f-c5b7-63d3a60f14b7"
      },
      "source": [
        "list_b[3] #ดูสมาชิกตัวที่3ว่ามีเลขอะไรบ้าง"
      ],
      "execution_count": null,
      "outputs": [
        {
          "output_type": "execute_result",
          "data": {
            "text/plain": [
              "[1, 2, 0.0]"
            ]
          },
          "metadata": {
            "tags": []
          },
          "execution_count": 51
        }
      ]
    },
    {
      "cell_type": "code",
      "metadata": {
        "colab": {
          "base_uri": "https://localhost:8080/"
        },
        "id": "icMWf66l-ek9",
        "outputId": "6de76ba6-59fe-4c79-acd8-07c01a6388b4"
      },
      "source": [
        "list_b[3][1] #ดูว่าlistตัวที่3 มีสมาชิกตัวที่1 คืออะไร นับเป็น(0,1,2)"
      ],
      "execution_count": null,
      "outputs": [
        {
          "output_type": "execute_result",
          "data": {
            "text/plain": [
              "2"
            ]
          },
          "metadata": {
            "tags": []
          },
          "execution_count": 53
        }
      ]
    },
    {
      "cell_type": "markdown",
      "metadata": {
        "id": "te9xLtl5_DDP"
      },
      "source": [
        "##String คือ list ของตัวหนังสือ"
      ]
    },
    {
      "cell_type": "code",
      "metadata": {
        "id": "BIwWMR2t-kmo"
      },
      "source": [
        "a = 'Stat KKU'"
      ],
      "execution_count": null,
      "outputs": []
    },
    {
      "cell_type": "code",
      "metadata": {
        "colab": {
          "base_uri": "https://localhost:8080/",
          "height": 35
        },
        "id": "Mw_SKcSA_Q0H",
        "outputId": "d72934c7-5454-47f6-8fd5-c27043479618"
      },
      "source": [
        "a[4]"
      ],
      "execution_count": null,
      "outputs": [
        {
          "output_type": "execute_result",
          "data": {
            "application/vnd.google.colaboratory.intrinsic+json": {
              "type": "string"
            },
            "text/plain": [
              "' '"
            ]
          },
          "metadata": {
            "tags": []
          },
          "execution_count": 55
        }
      ]
    },
    {
      "cell_type": "markdown",
      "metadata": {
        "id": "z3TqGsYs_hP7"
      },
      "source": [
        "###วิธีสร้าง list ว่าง"
      ]
    },
    {
      "cell_type": "code",
      "metadata": {
        "id": "FS09F0PH_Sd4"
      },
      "source": [
        "list_c = list() #เเบบที่ 1\n",
        "list_d = []  #เเบบที่ 2"
      ],
      "execution_count": null,
      "outputs": []
    },
    {
      "cell_type": "code",
      "metadata": {
        "colab": {
          "base_uri": "https://localhost:8080/"
        },
        "id": "DXoLE7Tz_wA1",
        "outputId": "c8917ca4-9265-448c-97fb-bf230fa29344"
      },
      "source": [
        "list_c"
      ],
      "execution_count": null,
      "outputs": [
        {
          "output_type": "execute_result",
          "data": {
            "text/plain": [
              "[]"
            ]
          },
          "metadata": {
            "tags": []
          },
          "execution_count": 57
        }
      ]
    },
    {
      "cell_type": "code",
      "metadata": {
        "colab": {
          "base_uri": "https://localhost:8080/"
        },
        "id": "RB15oK9__7Zh",
        "outputId": "c72486af-f9b2-4d29-a495-2b118e0a6f6f"
      },
      "source": [
        "list_d"
      ],
      "execution_count": null,
      "outputs": [
        {
          "output_type": "execute_result",
          "data": {
            "text/plain": [
              "[]"
            ]
          },
          "metadata": {
            "tags": []
          },
          "execution_count": 58
        }
      ]
    },
    {
      "cell_type": "markdown",
      "metadata": {
        "id": "JGrglkXBAUkP"
      },
      "source": [
        "###เติมค่าลงไปใน list (.append()) "
      ]
    },
    {
      "cell_type": "code",
      "metadata": {
        "id": "-QnJLEYj_92R"
      },
      "source": [
        "list_d.append('a')"
      ],
      "execution_count": null,
      "outputs": []
    },
    {
      "cell_type": "code",
      "metadata": {
        "colab": {
          "base_uri": "https://localhost:8080/"
        },
        "id": "6eHEfoTf_-5T",
        "outputId": "705a226b-de14-40f5-bea6-ee3269c7ca50"
      },
      "source": [
        "list_d"
      ],
      "execution_count": null,
      "outputs": [
        {
          "output_type": "execute_result",
          "data": {
            "text/plain": [
              "['a']"
            ]
          },
          "metadata": {
            "tags": []
          },
          "execution_count": 60
        }
      ]
    },
    {
      "cell_type": "code",
      "metadata": {
        "id": "Ab3iUO9q_-2q"
      },
      "source": [
        "list_d.append(56)"
      ],
      "execution_count": null,
      "outputs": []
    },
    {
      "cell_type": "code",
      "metadata": {
        "colab": {
          "base_uri": "https://localhost:8080/"
        },
        "id": "qDd3YpgJ_-0J",
        "outputId": "78e4aa3e-79c5-4ac1-aeb9-b745a85271b0"
      },
      "source": [
        "list_d"
      ],
      "execution_count": null,
      "outputs": [
        {
          "output_type": "execute_result",
          "data": {
            "text/plain": [
              "['a', 56]"
            ]
          },
          "metadata": {
            "tags": []
          },
          "execution_count": 62
        }
      ]
    },
    {
      "cell_type": "markdown",
      "metadata": {
        "id": "3Fu5khwUBFDE"
      },
      "source": [
        "การชี้ค่าใน list (indexing)\n",
        "\n",
        "1.ใช้ลำดับในการชี้\n",
        "\n",
        "2.ลำดับเริ่มจาก 0\n",
        "\n",
        "3.สามารถชี้จากข้งหลังได้โดยใช้ negative index"
      ]
    },
    {
      "cell_type": "code",
      "metadata": {
        "colab": {
          "base_uri": "https://localhost:8080/"
        },
        "id": "rcMUN5X3_-xq",
        "outputId": "1d633f61-9f76-4a7c-e3f4-2e70e799b5ab"
      },
      "source": [
        "list_b"
      ],
      "execution_count": null,
      "outputs": [
        {
          "output_type": "execute_result",
          "data": {
            "text/plain": [
              "[2, 'xyz', [1, 2, 0.2, 'abs'], [1, 2, 0.0]]"
            ]
          },
          "metadata": {
            "tags": []
          },
          "execution_count": 63
        }
      ]
    },
    {
      "cell_type": "code",
      "metadata": {
        "colab": {
          "base_uri": "https://localhost:8080/"
        },
        "id": "j7QbeFmC_-vt",
        "outputId": "b17d1282-7d39-4906-e1ed-6c85be809638"
      },
      "source": [
        "list_b[-1] #การชี้list จากตัวที่อยู่หลังสุด(-4,-3,-2,-1)"
      ],
      "execution_count": null,
      "outputs": [
        {
          "output_type": "execute_result",
          "data": {
            "text/plain": [
              "[1, 2, 0.0]"
            ]
          },
          "metadata": {
            "tags": []
          },
          "execution_count": 67
        }
      ]
    },
    {
      "cell_type": "code",
      "metadata": {
        "colab": {
          "base_uri": "https://localhost:8080/"
        },
        "id": "YpElcXmv_-sY",
        "outputId": "cb31c87c-1e87-40f4-baec-5d05a3f8eab9"
      },
      "source": [
        "list_b[-2]"
      ],
      "execution_count": null,
      "outputs": [
        {
          "output_type": "execute_result",
          "data": {
            "text/plain": [
              "[1, 2, 0.2, 'abs']"
            ]
          },
          "metadata": {
            "tags": []
          },
          "execution_count": 65
        }
      ]
    },
    {
      "cell_type": "markdown",
      "metadata": {
        "id": "_LHLetTXCLX5"
      },
      "source": [
        "### list slicing"
      ]
    },
    {
      "cell_type": "code",
      "metadata": {
        "id": "Vvj3ZemT_-pj"
      },
      "source": [
        "list_ex = [1,2,3,5,6,8,-1,20,50,0]"
      ],
      "execution_count": null,
      "outputs": []
    },
    {
      "cell_type": "markdown",
      "metadata": {
        "id": "HESCqm_dC4c0"
      },
      "source": [
        "###เราจะตัดlist โดยเอาตั้งเเต่ [ตัวหน้า:ตัวก่อนตัวหลัง] \n",
        "ถ้าเป็นสัญลักษณ์คณิตศาสตร์[ตัวหน้า:ตัวหลัง] -> [ตัวหน้า,ตัวหลัง)"
      ]
    },
    {
      "cell_type": "code",
      "metadata": {
        "colab": {
          "base_uri": "https://localhost:8080/"
        },
        "id": "8Uf7CC8oCYEk",
        "outputId": "bdf4fccb-5312-4dfb-867a-b01b722b8580"
      },
      "source": [
        "list_ex[1:6] "
      ],
      "execution_count": null,
      "outputs": [
        {
          "output_type": "execute_result",
          "data": {
            "text/plain": [
              "[2, 3, 5, 6, 8]"
            ]
          },
          "metadata": {
            "tags": []
          },
          "execution_count": 74
        }
      ]
    },
    {
      "cell_type": "code",
      "metadata": {
        "colab": {
          "base_uri": "https://localhost:8080/"
        },
        "id": "nn1YzikcCj_2",
        "outputId": "4d65a83f-271c-4820-8b29-7963d2d2eaa5"
      },
      "source": [
        "list_ex[4:]"
      ],
      "execution_count": null,
      "outputs": [
        {
          "output_type": "execute_result",
          "data": {
            "text/plain": [
              "[6, 8, -1, 20, 50, 0]"
            ]
          },
          "metadata": {
            "tags": []
          },
          "execution_count": 76
        }
      ]
    },
    {
      "cell_type": "code",
      "metadata": {
        "colab": {
          "base_uri": "https://localhost:8080/"
        },
        "id": "ztWw_d96DXFG",
        "outputId": "0ba23b68-2a76-44aa-d1fb-6d93aac1d62e"
      },
      "source": [
        "list_ex[:6]"
      ],
      "execution_count": null,
      "outputs": [
        {
          "output_type": "execute_result",
          "data": {
            "text/plain": [
              "[1, 2, 3, 5, 6, 8]"
            ]
          },
          "metadata": {
            "tags": []
          },
          "execution_count": 77
        }
      ]
    },
    {
      "cell_type": "markdown",
      "metadata": {
        "id": "QyHrR4iOEPsV"
      },
      "source": [
        "[จุดเริ่มต้น:จุดสุดท้าย:step]"
      ]
    },
    {
      "cell_type": "code",
      "metadata": {
        "colab": {
          "base_uri": "https://localhost:8080/"
        },
        "id": "5GxmVqBdEY5F",
        "outputId": "4da43533-90f1-4cba-9afe-d4e4dcc29035"
      },
      "source": [
        "list_ex"
      ],
      "execution_count": null,
      "outputs": [
        {
          "output_type": "execute_result",
          "data": {
            "text/plain": [
              "[1, 2, 3, 5, 6, 8, -1, 20, 50, 0]"
            ]
          },
          "metadata": {
            "tags": []
          },
          "execution_count": 80
        }
      ]
    },
    {
      "cell_type": "code",
      "metadata": {
        "colab": {
          "base_uri": "https://localhost:8080/"
        },
        "id": "flVrx_ocDXCY",
        "outputId": "7e5199b2-505b-4d58-c5e6-57c89796911f"
      },
      "source": [
        "list_ex[::2] #กำหนดstep ในการกระโดดได้"
      ],
      "execution_count": null,
      "outputs": [
        {
          "output_type": "execute_result",
          "data": {
            "text/plain": [
              "[1, 3, 6, -1, 50]"
            ]
          },
          "metadata": {
            "tags": []
          },
          "execution_count": 81
        }
      ]
    },
    {
      "cell_type": "code",
      "metadata": {
        "colab": {
          "base_uri": "https://localhost:8080/"
        },
        "id": "IgeiOj-rDW_G",
        "outputId": "dcf86671-c408-4100-e34e-532970f68f04"
      },
      "source": [
        "list_ex[::-1] #การกลับlist"
      ],
      "execution_count": null,
      "outputs": [
        {
          "output_type": "execute_result",
          "data": {
            "text/plain": [
              "[0, 50, 20, -1, 8, 6, 5, 3, 2, 1]"
            ]
          },
          "metadata": {
            "tags": []
          },
          "execution_count": 83
        }
      ]
    },
    {
      "cell_type": "code",
      "metadata": {
        "colab": {
          "base_uri": "https://localhost:8080/"
        },
        "id": "fTpnTn1HDW82",
        "outputId": "258351d1-fe13-4f63-beed-528575ed2434"
      },
      "source": [
        "list_ex[::3]"
      ],
      "execution_count": null,
      "outputs": [
        {
          "output_type": "execute_result",
          "data": {
            "text/plain": [
              "[1, 5, -1, 0]"
            ]
          },
          "metadata": {
            "tags": []
          },
          "execution_count": 84
        }
      ]
    },
    {
      "cell_type": "code",
      "metadata": {
        "colab": {
          "base_uri": "https://localhost:8080/",
          "height": 35
        },
        "id": "M0fLEfzVDW68",
        "outputId": "6271d51d-d658-4c08-908d-ad8a5eef3fc6"
      },
      "source": [
        "a"
      ],
      "execution_count": null,
      "outputs": [
        {
          "output_type": "execute_result",
          "data": {
            "application/vnd.google.colaboratory.intrinsic+json": {
              "type": "string"
            },
            "text/plain": [
              "'Stat KKU'"
            ]
          },
          "metadata": {
            "tags": []
          },
          "execution_count": 85
        }
      ]
    },
    {
      "cell_type": "code",
      "metadata": {
        "colab": {
          "base_uri": "https://localhost:8080/",
          "height": 35
        },
        "id": "TeFt9_RjDW3V",
        "outputId": "02bca54c-bea2-4f45-e311-2aff89d5ec83"
      },
      "source": [
        "a[::2]"
      ],
      "execution_count": null,
      "outputs": [
        {
          "output_type": "execute_result",
          "data": {
            "application/vnd.google.colaboratory.intrinsic+json": {
              "type": "string"
            },
            "text/plain": [
              "'Sa K'"
            ]
          },
          "metadata": {
            "tags": []
          },
          "execution_count": 86
        }
      ]
    },
    {
      "cell_type": "code",
      "metadata": {
        "colab": {
          "base_uri": "https://localhost:8080/",
          "height": 35
        },
        "id": "3NqFtilCDW0X",
        "outputId": "898b564b-053e-40c2-d226-dc8fe05db641"
      },
      "source": [
        "a[5:]"
      ],
      "execution_count": null,
      "outputs": [
        {
          "output_type": "execute_result",
          "data": {
            "application/vnd.google.colaboratory.intrinsic+json": {
              "type": "string"
            },
            "text/plain": [
              "'KKU'"
            ]
          },
          "metadata": {
            "tags": []
          },
          "execution_count": 95
        }
      ]
    },
    {
      "cell_type": "code",
      "metadata": {
        "colab": {
          "base_uri": "https://localhost:8080/",
          "height": 35
        },
        "id": "0GjKfcgQFZoa",
        "outputId": "44ec80b1-1cda-428b-e61b-bc394cadda7d"
      },
      "source": [
        "a[-3:]"
      ],
      "execution_count": null,
      "outputs": [
        {
          "output_type": "execute_result",
          "data": {
            "application/vnd.google.colaboratory.intrinsic+json": {
              "type": "string"
            },
            "text/plain": [
              "'KKU'"
            ]
          },
          "metadata": {
            "tags": []
          },
          "execution_count": 96
        }
      ]
    },
    {
      "cell_type": "code",
      "metadata": {
        "colab": {
          "base_uri": "https://localhost:8080/",
          "height": 35
        },
        "id": "4Y3zI7u0F3PS",
        "outputId": "1f863bff-a66d-463a-b62f-701a29c1e09a"
      },
      "source": [
        "a[5:8]"
      ],
      "execution_count": null,
      "outputs": [
        {
          "output_type": "execute_result",
          "data": {
            "application/vnd.google.colaboratory.intrinsic+json": {
              "type": "string"
            },
            "text/plain": [
              "'KKU'"
            ]
          },
          "metadata": {
            "tags": []
          },
          "execution_count": 97
        }
      ]
    },
    {
      "cell_type": "code",
      "metadata": {
        "colab": {
          "base_uri": "https://localhost:8080/",
          "height": 35
        },
        "id": "53YVsajdGAkW",
        "outputId": "10aefc79-72cc-4960-aa0a-683b6396894f"
      },
      "source": [
        "a[5::]"
      ],
      "execution_count": null,
      "outputs": [
        {
          "output_type": "execute_result",
          "data": {
            "application/vnd.google.colaboratory.intrinsic+json": {
              "type": "string"
            },
            "text/plain": [
              "'KKU'"
            ]
          },
          "metadata": {
            "tags": []
          },
          "execution_count": 98
        }
      ]
    },
    {
      "cell_type": "code",
      "metadata": {
        "colab": {
          "base_uri": "https://localhost:8080/",
          "height": 35
        },
        "id": "LXlDrJdyGEqc",
        "outputId": "3ec7adc1-456e-441e-cdb1-8f2c93fc8d38"
      },
      "source": [
        "a[-3::]"
      ],
      "execution_count": null,
      "outputs": [
        {
          "output_type": "execute_result",
          "data": {
            "application/vnd.google.colaboratory.intrinsic+json": {
              "type": "string"
            },
            "text/plain": [
              "'KKU'"
            ]
          },
          "metadata": {
            "tags": []
          },
          "execution_count": 100
        }
      ]
    },
    {
      "cell_type": "code",
      "metadata": {
        "colab": {
          "base_uri": "https://localhost:8080/",
          "height": 35
        },
        "id": "3GHrw8XsGEm2",
        "outputId": "a60e3d5f-d839-49b0-abfa-a5786726ba45"
      },
      "source": [
        "a[-3::1]"
      ],
      "execution_count": null,
      "outputs": [
        {
          "output_type": "execute_result",
          "data": {
            "application/vnd.google.colaboratory.intrinsic+json": {
              "type": "string"
            },
            "text/plain": [
              "'KKU'"
            ]
          },
          "metadata": {
            "tags": []
          },
          "execution_count": 101
        }
      ]
    },
    {
      "cell_type": "markdown",
      "metadata": {
        "id": "h2E2dO81Grc8"
      },
      "source": [
        "### list + list "
      ]
    },
    {
      "cell_type": "code",
      "metadata": {
        "colab": {
          "base_uri": "https://localhost:8080/"
        },
        "id": "2-AGxIG6GEda",
        "outputId": "b376f166-173c-4045-b73b-ddcc2ff88261"
      },
      "source": [
        "print(list_a)\n",
        "print(list_b)"
      ],
      "execution_count": null,
      "outputs": [
        {
          "output_type": "stream",
          "text": [
            "[1, 2, 0.2, 'abs']\n",
            "[2, 'xyz', [1, 2, 0.2, 'abs'], [1, 2, 0.0]]\n"
          ],
          "name": "stdout"
        }
      ]
    },
    {
      "cell_type": "code",
      "metadata": {
        "colab": {
          "base_uri": "https://localhost:8080/"
        },
        "id": "hzWOKYPwGOQt",
        "outputId": "d35d2507-e523-4c0c-8d8c-b5c69baffb3e"
      },
      "source": [
        "list_a + list_b"
      ],
      "execution_count": null,
      "outputs": [
        {
          "output_type": "execute_result",
          "data": {
            "text/plain": [
              "[1, 2, 0.2, 'abs', 2, 'xyz', [1, 2, 0.2, 'abs'], [1, 2, 0.0]]"
            ]
          },
          "metadata": {
            "tags": []
          },
          "execution_count": 103
        }
      ]
    },
    {
      "cell_type": "code",
      "metadata": {
        "colab": {
          "base_uri": "https://localhost:8080/"
        },
        "id": "QrKNgMysGOLI",
        "outputId": "6be23c3c-7b90-4d66-8143-983f6e76e193"
      },
      "source": [
        "list_b + list_a  "
      ],
      "execution_count": null,
      "outputs": [
        {
          "output_type": "execute_result",
          "data": {
            "text/plain": [
              "[2, 'xyz', [1, 2, 0.2, 'abs'], [1, 2, 0.0], 1, 2, 0.2, 'abs']"
            ]
          },
          "metadata": {
            "tags": []
          },
          "execution_count": 104
        }
      ]
    },
    {
      "cell_type": "markdown",
      "metadata": {
        "id": "UQDSArswLN0q"
      },
      "source": [
        "#format Srting "
      ]
    },
    {
      "cell_type": "markdown",
      "metadata": {
        "id": "aJBI8uTNLyUY"
      },
      "source": [
        "```prthon\n",
        "f'string{ตัวเเปร}'\n",
        "``` "
      ]
    },
    {
      "cell_type": "code",
      "metadata": {
        "colab": {
          "base_uri": "https://localhost:8080/",
          "height": 35
        },
        "id": "1uy9p3oMLT1R",
        "outputId": "409872b0-cfab-4a6b-ca35-f2b9899bff02"
      },
      "source": [
        "f'ตัวเเปร list_a มีค่าคือ {list_a}'"
      ],
      "execution_count": null,
      "outputs": [
        {
          "output_type": "execute_result",
          "data": {
            "application/vnd.google.colaboratory.intrinsic+json": {
              "type": "string"
            },
            "text/plain": [
              "\"ตัวเเปร list_a มีค่าคือ [1, 2, 0.2, 'abs']\""
            ]
          },
          "metadata": {
            "tags": []
          },
          "execution_count": 107
        }
      ]
    },
    {
      "cell_type": "markdown",
      "metadata": {
        "id": "B4vBoLg7HmNE"
      },
      "source": [
        "### Loop"
      ]
    },
    {
      "cell_type": "markdown",
      "metadata": {
        "id": "7EBEcQl8KbOs"
      },
      "source": [
        "```python\n",
        "for ตัวเเปรที่จะรับค่าจากลิสต์ in ลิตส์ที่จะนำมาวนลูป:\n",
        "    do someting\n",
        "```"
      ]
    },
    {
      "cell_type": "code",
      "metadata": {
        "colab": {
          "base_uri": "https://localhost:8080/"
        },
        "id": "Y6I2X_I8GOIX",
        "outputId": "e2f2c6c4-2da6-4ea6-89ac-0690d6b56d25"
      },
      "source": [
        "for i in [1,2,3,4,5]:\n",
        "    print(i+1)"
      ],
      "execution_count": null,
      "outputs": [
        {
          "output_type": "stream",
          "text": [
            "2\n",
            "3\n",
            "4\n",
            "5\n",
            "6\n"
          ],
          "name": "stdout"
        }
      ]
    },
    {
      "cell_type": "code",
      "metadata": {
        "colab": {
          "base_uri": "https://localhost:8080/"
        },
        "id": "l7Hifq-VHVk5",
        "outputId": "2b046966-05e6-4b8e-cf18-025422176691"
      },
      "source": [
        "for x in  [1,2,3,4,5]:\n",
        "    print(f'ค่าตัวเเปร x คือ {x} เเละ x+2 = {x+2}') #การวนลูป 5 ครั้ง"
      ],
      "execution_count": null,
      "outputs": [
        {
          "output_type": "stream",
          "text": [
            "ค่าตัวเเปร x คือ 1 เเละ x+2 = 3\n",
            "ค่าตัวเเปร x คือ 2 เเละ x+2 = 4\n",
            "ค่าตัวเเปร x คือ 3 เเละ x+2 = 5\n",
            "ค่าตัวเเปร x คือ 4 เเละ x+2 = 6\n",
            "ค่าตัวเเปร x คือ 5 เเละ x+2 = 7\n"
          ],
          "name": "stdout"
        }
      ]
    },
    {
      "cell_type": "code",
      "metadata": {
        "colab": {
          "base_uri": "https://localhost:8080/"
        },
        "id": "7rzDtZ47HViU",
        "outputId": "5a6614ad-e363-45c6-8df6-a1487022d129"
      },
      "source": [
        "list5 = [1,2,3,4,5]\n",
        "for x in list5 :\n",
        "   print(f'ค่าตัวเเปร x คือ {x} เเละ x+2 = {x+2}')"
      ],
      "execution_count": null,
      "outputs": [
        {
          "output_type": "stream",
          "text": [
            "ค่าตัวเเปร x คือ 1 เเละ x+2 = 3\n",
            "ค่าตัวเเปร x คือ 2 เเละ x+2 = 4\n",
            "ค่าตัวเเปร x คือ 3 เเละ x+2 = 5\n",
            "ค่าตัวเเปร x คือ 4 เเละ x+2 = 6\n",
            "ค่าตัวเเปร x คือ 5 เเละ x+2 = 7\n"
          ],
          "name": "stdout"
        }
      ]
    },
    {
      "cell_type": "code",
      "metadata": {
        "colab": {
          "base_uri": "https://localhost:8080/"
        },
        "id": "7Ko1DWv0HVfn",
        "outputId": "1ad23d0c-874b-4a60-faa0-d3af16e79db0"
      },
      "source": [
        "list(range(10)) #สร้างlist ที่มีค่าเริ่มจาก0"
      ],
      "execution_count": null,
      "outputs": [
        {
          "output_type": "execute_result",
          "data": {
            "text/plain": [
              "[0, 1, 2, 3, 4, 5, 6, 7, 8, 9]"
            ]
          },
          "metadata": {
            "tags": []
          },
          "execution_count": 112
        }
      ]
    },
    {
      "cell_type": "code",
      "metadata": {
        "colab": {
          "base_uri": "https://localhost:8080/"
        },
        "id": "-pcAG95vHVdM",
        "outputId": "2ff00d8f-d122-4e44-fc56-7139de681989"
      },
      "source": [
        "for i in range(2,7): #การสร้างlist ที่เริ่มจาก 2 เเต่ไม่เอาตัวสุดท้ายมา\n",
        "   print(i)"
      ],
      "execution_count": null,
      "outputs": [
        {
          "output_type": "stream",
          "text": [
            "2\n",
            "3\n",
            "4\n",
            "5\n",
            "6\n"
          ],
          "name": "stdout"
        }
      ]
    },
    {
      "cell_type": "code",
      "metadata": {
        "colab": {
          "base_uri": "https://localhost:8080/"
        },
        "id": "nxlVKtgMHVat",
        "outputId": "728f0bf9-c35d-4008-b907-7d79bba0114b"
      },
      "source": [
        "for i in range(2,7,2): #จุดเริ่มถึงจุดจบกระโดดทีละ 2\n",
        "   print(i)"
      ],
      "execution_count": null,
      "outputs": [
        {
          "output_type": "stream",
          "text": [
            "2\n",
            "4\n",
            "6\n"
          ],
          "name": "stdout"
        }
      ]
    },
    {
      "cell_type": "code",
      "metadata": {
        "colab": {
          "base_uri": "https://localhost:8080/"
        },
        "id": "iBRebgKzHVXo",
        "outputId": "3be1433f-0dbd-42cc-e291-3b1313978e8b"
      },
      "source": [
        "for i in range(5):\n",
        "   print('hahahaha') #วนลูป5รอบเเละเเสดงค่าออกมา"
      ],
      "execution_count": null,
      "outputs": [
        {
          "output_type": "stream",
          "text": [
            "hahahaha\n",
            "hahahaha\n",
            "hahahaha\n",
            "hahahaha\n",
            "hahahaha\n"
          ],
          "name": "stdout"
        }
      ]
    },
    {
      "cell_type": "code",
      "metadata": {
        "colab": {
          "base_uri": "https://localhost:8080/"
        },
        "id": "6HatLuiCHVVE",
        "outputId": "000e6365-00d9-4b6f-f36e-e5de4518b2ab"
      },
      "source": [
        "for i in range(5): #วนลูป 5 รอบ\n",
        "   print('hahahaha') \n",
        "   x = i + 3 #โดยค่า x เริ่มต้นตั้งเเต่ 3 \n",
        "   print(f'i={i} x={x}')"
      ],
      "execution_count": null,
      "outputs": [
        {
          "output_type": "stream",
          "text": [
            "hahahaha\n",
            "i=0 x=3\n",
            "hahahaha\n",
            "i=1 x=4\n",
            "hahahaha\n",
            "i=2 x=5\n",
            "hahahaha\n",
            "i=3 x=6\n",
            "hahahaha\n",
            "i=4 x=7\n"
          ],
          "name": "stdout"
        }
      ]
    },
    {
      "cell_type": "code",
      "metadata": {
        "colab": {
          "base_uri": "https://localhost:8080/"
        },
        "id": "MxpV-s_JHVTg",
        "outputId": "687ad251-1ec6-4a0c-aef2-7a14d7c5a6e4"
      },
      "source": [
        "for i in range(5):\n",
        "   print('hahahaha')\n",
        "   x = i + 2 #เริ่มx ตั้งเเต่ 2 \n",
        "   print(f'i={i} x={x}')"
      ],
      "execution_count": null,
      "outputs": [
        {
          "output_type": "stream",
          "text": [
            "hahahaha\n",
            "i=0 x=2\n",
            "hahahaha\n",
            "i=1 x=3\n",
            "hahahaha\n",
            "i=2 x=4\n",
            "hahahaha\n",
            "i=3 x=5\n",
            "hahahaha\n",
            "i=4 x=6\n"
          ],
          "name": "stdout"
        }
      ]
    },
    {
      "cell_type": "markdown",
      "metadata": {
        "id": "HuWj8ea3PH8X"
      },
      "source": [
        "### Nested loop \n",
        "\n",
        "###ลูปซ้อนลูปไปเรื่อยๆ"
      ]
    },
    {
      "cell_type": "code",
      "metadata": {
        "colab": {
          "base_uri": "https://localhost:8080/"
        },
        "id": "QtIC_YHFHVPY",
        "outputId": "f488fe26-8dee-45b3-a364-ce9dcaa73869"
      },
      "source": [
        "for i in range(3):\n",
        "   for j in range(4):\n",
        "      print(f'i = {i} j ={j} i+j= {i+j}') "
      ],
      "execution_count": 7,
      "outputs": [
        {
          "output_type": "stream",
          "text": [
            "i = 0 j =0 i+j= 0\n",
            "i = 0 j =1 i+j= 1\n",
            "i = 0 j =2 i+j= 2\n",
            "i = 0 j =3 i+j= 3\n",
            "i = 1 j =0 i+j= 1\n",
            "i = 1 j =1 i+j= 2\n",
            "i = 1 j =2 i+j= 3\n",
            "i = 1 j =3 i+j= 4\n",
            "i = 2 j =0 i+j= 2\n",
            "i = 2 j =1 i+j= 3\n",
            "i = 2 j =2 i+j= 4\n",
            "i = 2 j =3 i+j= 5\n"
          ],
          "name": "stdout"
        }
      ]
    },
    {
      "cell_type": "code",
      "metadata": {
        "colab": {
          "base_uri": "https://localhost:8080/"
        },
        "id": "vKdjd0y7HVNd",
        "outputId": "f2bd7f50-78c7-48fa-bb44-fb168e84bd99"
      },
      "source": [
        "for i in range(1):\n",
        "   for j in range(2):\n",
        "      print(f'i = {i} j ={j} i+j= {i+j}')"
      ],
      "execution_count": 8,
      "outputs": [
        {
          "output_type": "stream",
          "text": [
            "i = 0 j =0 i+j= 0\n",
            "i = 0 j =1 i+j= 1\n"
          ],
          "name": "stdout"
        }
      ]
    },
    {
      "cell_type": "code",
      "metadata": {
        "colab": {
          "base_uri": "https://localhost:8080/"
        },
        "id": "35h5wqYCHVJj",
        "outputId": "6e443963-9148-4d87-9783-6b3e4b022291"
      },
      "source": [
        "for i in range(2):\n",
        "   for j in range(2):\n",
        "      print(f'i = {i} j ={j} i+j= {i+j}')"
      ],
      "execution_count": 9,
      "outputs": [
        {
          "output_type": "stream",
          "text": [
            "i = 0 j =0 i+j= 0\n",
            "i = 0 j =1 i+j= 1\n",
            "i = 1 j =0 i+j= 1\n",
            "i = 1 j =1 i+j= 2\n"
          ],
          "name": "stdout"
        }
      ]
    },
    {
      "cell_type": "code",
      "metadata": {
        "colab": {
          "base_uri": "https://localhost:8080/"
        },
        "id": "HjY5xmcAQWOg",
        "outputId": "9365e801-7cb3-4bbb-bf38-baa2c1a39080"
      },
      "source": [
        "for i in range(3):\n",
        "  print(f'now i = {i}')\n",
        "  print('start j loop')\n",
        "  for j in range(4):\n",
        "       print(f'i = {i} j ={j} i+j= {i+j}')\n",
        "  print('end j loop') "
      ],
      "execution_count": 10,
      "outputs": [
        {
          "output_type": "stream",
          "text": [
            "now i = 0\n",
            "start j loop\n",
            "i = 0 j =0 i+j= 0\n",
            "i = 0 j =1 i+j= 1\n",
            "i = 0 j =2 i+j= 2\n",
            "i = 0 j =3 i+j= 3\n",
            "end j loop\n",
            "now i = 1\n",
            "start j loop\n",
            "i = 1 j =0 i+j= 1\n",
            "i = 1 j =1 i+j= 2\n",
            "i = 1 j =2 i+j= 3\n",
            "i = 1 j =3 i+j= 4\n",
            "end j loop\n",
            "now i = 2\n",
            "start j loop\n",
            "i = 2 j =0 i+j= 2\n",
            "i = 2 j =1 i+j= 3\n",
            "i = 2 j =2 i+j= 4\n",
            "i = 2 j =3 i+j= 5\n",
            "end j loop\n"
          ],
          "name": "stdout"
        }
      ]
    },
    {
      "cell_type": "code",
      "metadata": {
        "id": "28mpB7DsRCa4"
      },
      "source": [
        ""
      ],
      "execution_count": null,
      "outputs": []
    }
  ]
}