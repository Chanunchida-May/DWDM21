{
  "nbformat": 4,
  "nbformat_minor": 0,
  "metadata": {
    "colab": {
      "name": "Data101(Chapter2).ipynb",
      "provenance": [],
      "include_colab_link": true
    },
    "kernelspec": {
      "name": "python3",
      "display_name": "Python 3"
    },
    "language_info": {
      "name": "python"
    }
  },
  "cells": [
    {
      "cell_type": "markdown",
      "metadata": {
        "id": "view-in-github",
        "colab_type": "text"
      },
      "source": [
        "<a href=\"https://colab.research.google.com/github/Chanunchida-May/DWDM21/blob/main/Data101(Chapter2).ipynb\" target=\"_parent\"><img src=\"https://colab.research.google.com/assets/colab-badge.svg\" alt=\"Open In Colab\"/></a>"
      ]
    },
    {
      "cell_type": "markdown",
      "metadata": {
        "id": "SXWX3_KIz3lq"
      },
      "source": [
        "ข้อความที่อยู่ใน text box จะเป็นภาษา Markdown"
      ]
    },
    {
      "cell_type": "markdown",
      "metadata": {
        "id": "7wlWBZsauAfL"
      },
      "source": [
        "ข้อดีหนึ่งของ python คือมี package สำหรับงานต่างๆมากมาย\n",
        "\n",
        "ซึ่ง pandas เป็น package สำหรับทำงานกับข้อมูลที่อยู่ในรูปแบบตาราง\n",
        "\n",
        "โดย Pandas จะเรียกตารางนั้นว่า dataframe"
      ]
    },
    {
      "cell_type": "code",
      "metadata": {
        "id": "jyIndrHStz2K"
      },
      "source": [
        "import pandas #วิธีเรียกใช้ package คือ import ตามด้วยชื่อ package"
      ],
      "execution_count": 6,
      "outputs": []
    },
    {
      "cell_type": "code",
      "metadata": {
        "id": "J4WGsC7Ht69v"
      },
      "source": [
        "import pandas as pd # เหมือนกับข้างบนเเต่ว่า ตั้งชื่อให้ package ที่โหลดมาใหม่ว่า pd\n"
      ],
      "execution_count": 7,
      "outputs": []
    },
    {
      "cell_type": "markdown",
      "metadata": {
        "id": "frXfKg4iu2Jv"
      },
      "source": [
        "ไฟล์ .csv (csv = comma separated values) เป็นไฟล์หลักที่เราจะได้ใช้กันในวิชานี้ \n",
        "\n"
      ]
    },
    {
      "cell_type": "code",
      "metadata": {
        "id": "Y1yvxyr9t9yC"
      },
      "source": [
        "data_df = pd.read_csv('data.csv')"
      ],
      "execution_count": 8,
      "outputs": []
    },
    {
      "cell_type": "code",
      "metadata": {
        "colab": {
          "base_uri": "https://localhost:8080/",
          "height": 141
        },
        "id": "tJqNjrpvt92u",
        "outputId": "879717e8-f3f5-44d5-e208-744507c0dd44"
      },
      "source": [
        "data_df"
      ],
      "execution_count": 9,
      "outputs": [
        {
          "output_type": "execute_result",
          "data": {
            "text/html": [
              "<div>\n",
              "<style scoped>\n",
              "    .dataframe tbody tr th:only-of-type {\n",
              "        vertical-align: middle;\n",
              "    }\n",
              "\n",
              "    .dataframe tbody tr th {\n",
              "        vertical-align: top;\n",
              "    }\n",
              "\n",
              "    .dataframe thead th {\n",
              "        text-align: right;\n",
              "    }\n",
              "</style>\n",
              "<table border=\"1\" class=\"dataframe\">\n",
              "  <thead>\n",
              "    <tr style=\"text-align: right;\">\n",
              "      <th></th>\n",
              "      <th>\\tname</th>\n",
              "      <th>age</th>\n",
              "      <th>city</th>\n",
              "    </tr>\n",
              "  </thead>\n",
              "  <tbody>\n",
              "    <tr>\n",
              "      <th>0</th>\n",
              "      <td>0\\tTom</td>\n",
              "      <td>27</td>\n",
              "      <td>Khon Kaen</td>\n",
              "    </tr>\n",
              "    <tr>\n",
              "      <th>1</th>\n",
              "      <td>1\\tPaul</td>\n",
              "      <td>15</td>\n",
              "      <td>Bangkok</td>\n",
              "    </tr>\n",
              "    <tr>\n",
              "      <th>2</th>\n",
              "      <td>2\\tSarah</td>\n",
              "      <td>49</td>\n",
              "      <td>London</td>\n",
              "    </tr>\n",
              "  </tbody>\n",
              "</table>\n",
              "</div>"
            ],
            "text/plain": [
              "     \\tname  age       city\n",
              "0    0\\tTom   27  Khon Kaen\n",
              "1   1\\tPaul   15    Bangkok\n",
              "2  2\\tSarah   49     London"
            ]
          },
          "metadata": {
            "tags": []
          },
          "execution_count": 9
        }
      ]
    },
    {
      "cell_type": "code",
      "metadata": {
        "colab": {
          "base_uri": "https://localhost:8080/",
          "height": 141
        },
        "id": "OoPRicJdt989",
        "outputId": "85bb6702-c4ae-4911-fb1d-9fd641d512c4"
      },
      "source": [
        "data_df2 = pandas.read_csv('data.csv')\n",
        "data_df2"
      ],
      "execution_count": 10,
      "outputs": [
        {
          "output_type": "execute_result",
          "data": {
            "text/html": [
              "<div>\n",
              "<style scoped>\n",
              "    .dataframe tbody tr th:only-of-type {\n",
              "        vertical-align: middle;\n",
              "    }\n",
              "\n",
              "    .dataframe tbody tr th {\n",
              "        vertical-align: top;\n",
              "    }\n",
              "\n",
              "    .dataframe thead th {\n",
              "        text-align: right;\n",
              "    }\n",
              "</style>\n",
              "<table border=\"1\" class=\"dataframe\">\n",
              "  <thead>\n",
              "    <tr style=\"text-align: right;\">\n",
              "      <th></th>\n",
              "      <th>\\tname</th>\n",
              "      <th>age</th>\n",
              "      <th>city</th>\n",
              "    </tr>\n",
              "  </thead>\n",
              "  <tbody>\n",
              "    <tr>\n",
              "      <th>0</th>\n",
              "      <td>0\\tTom</td>\n",
              "      <td>27</td>\n",
              "      <td>Khon Kaen</td>\n",
              "    </tr>\n",
              "    <tr>\n",
              "      <th>1</th>\n",
              "      <td>1\\tPaul</td>\n",
              "      <td>15</td>\n",
              "      <td>Bangkok</td>\n",
              "    </tr>\n",
              "    <tr>\n",
              "      <th>2</th>\n",
              "      <td>2\\tSarah</td>\n",
              "      <td>49</td>\n",
              "      <td>London</td>\n",
              "    </tr>\n",
              "  </tbody>\n",
              "</table>\n",
              "</div>"
            ],
            "text/plain": [
              "     \\tname  age       city\n",
              "0    0\\tTom   27  Khon Kaen\n",
              "1   1\\tPaul   15    Bangkok\n",
              "2  2\\tSarah   49     London"
            ]
          },
          "metadata": {
            "tags": []
          },
          "execution_count": 10
        }
      ]
    },
    {
      "cell_type": "markdown",
      "metadata": {
        "id": "rPq--IWKyhrK"
      },
      "source": [
        "# Basic Python\n",
        "\n",
        "## variables"
      ]
    },
    {
      "cell_type": "markdown",
      "metadata": {
        "id": "PUe505fR1qAR"
      },
      "source": [
        "ข้อกำหนดในการตั้งชื่อตัวเเปร\n",
        "\n",
        "1.ชื่อห้ามมีเว้นวรรค\n",
        "\n",
        "2.พยายามใช้ภาษาอังกฤษ\n",
        "\n",
        "3..ตัวเล็กกับตัวใหญ่เเตกต่างกัน (case sensitive)\n",
        "\n",
        "4.ห้ามใช้ตัวเลขเป็นตัวหน้า"
      ]
    },
    {
      "cell_type": "code",
      "metadata": {
        "id": "EvNfqeqBt-BB"
      },
      "source": [
        "variable_a = 12   #การตั้งชื่อตัวเเปรห้ามมีเว้นวรรค\n",
        "variable_b = 'abcde' #' ' เรียกว่า quote\n",
        "variable_c = variable_a"
      ],
      "execution_count": 5,
      "outputs": []
    },
    {
      "cell_type": "code",
      "metadata": {
        "colab": {
          "base_uri": "https://localhost:8080/"
        },
        "id": "YQuQhGB4yawB",
        "outputId": "c08b2903-e232-4fe7-aeed-cad23bcf19d1"
      },
      "source": [
        "variable_a"
      ],
      "execution_count": 11,
      "outputs": [
        {
          "output_type": "execute_result",
          "data": {
            "text/plain": [
              "12"
            ]
          },
          "metadata": {
            "tags": []
          },
          "execution_count": 11
        }
      ]
    },
    {
      "cell_type": "code",
      "metadata": {
        "colab": {
          "base_uri": "https://localhost:8080/",
          "height": 35
        },
        "id": "q5MWSc2OyazK",
        "outputId": "2b3662b3-fe5b-43f7-e1e1-d8d43ed20097"
      },
      "source": [
        "variable_b"
      ],
      "execution_count": 12,
      "outputs": [
        {
          "output_type": "execute_result",
          "data": {
            "application/vnd.google.colaboratory.intrinsic+json": {
              "type": "string"
            },
            "text/plain": [
              "'abcde'"
            ]
          },
          "metadata": {
            "tags": []
          },
          "execution_count": 12
        }
      ]
    },
    {
      "cell_type": "code",
      "metadata": {
        "colab": {
          "base_uri": "https://localhost:8080/"
        },
        "id": "qaK9-fK1ya2k",
        "outputId": "e6788a49-d05c-4037-defc-405d15ef8f89"
      },
      "source": [
        "variable_c"
      ],
      "execution_count": 13,
      "outputs": [
        {
          "output_type": "execute_result",
          "data": {
            "text/plain": [
              "12"
            ]
          },
          "metadata": {
            "tags": []
          },
          "execution_count": 13
        }
      ]
    },
    {
      "cell_type": "code",
      "metadata": {
        "colab": {
          "base_uri": "https://localhost:8080/",
          "height": 128
        },
        "id": "pxKjpqhjya51",
        "outputId": "05f250a7-1547-4bd9-f3e0-b8e2b1602171"
      },
      "source": [
        "variable b = 6"
      ],
      "execution_count": 14,
      "outputs": [
        {
          "output_type": "error",
          "ename": "SyntaxError",
          "evalue": "ignored",
          "traceback": [
            "\u001b[0;36m  File \u001b[0;32m\"<ipython-input-14-3c29cda956b9>\"\u001b[0;36m, line \u001b[0;32m1\u001b[0m\n\u001b[0;31m    variable b = 6\u001b[0m\n\u001b[0m             ^\u001b[0m\n\u001b[0;31mSyntaxError\u001b[0m\u001b[0;31m:\u001b[0m invalid syntax\n"
          ]
        }
      ]
    },
    {
      "cell_type": "code",
      "metadata": {
        "id": "mdS-E1_St-Ej"
      },
      "source": [
        "ตัวเเปร = 3 #colab ใช้ภาษาไทยเป็นชื่อตัวเเปรได้ เเต่ไม่ควรใช้ \n",
        "          #พยายามใช้ภาษาอังกฤษ"
      ],
      "execution_count": 16,
      "outputs": []
    },
    {
      "cell_type": "code",
      "metadata": {
        "colab": {
          "base_uri": "https://localhost:8080/"
        },
        "id": "Vn7HJ_JIt-Hp",
        "outputId": "7de5e048-d07a-4659-eee4-ff7d866dd871"
      },
      "source": [
        "ตัวเเปร"
      ],
      "execution_count": 17,
      "outputs": [
        {
          "output_type": "execute_result",
          "data": {
            "text/plain": [
              "3"
            ]
          },
          "metadata": {
            "tags": []
          },
          "execution_count": 17
        }
      ]
    },
    {
      "cell_type": "code",
      "metadata": {
        "colab": {
          "base_uri": "https://localhost:8080/"
        },
        "id": "nc-C5hSH2Tx3",
        "outputId": "050b0c10-7933-4dfc-c74e-dbc59ec9cf8b"
      },
      "source": [
        "#ตัวเล็กกับตัวใหญ่ เเตกต่างกัน (case sensitive)\n",
        "v_a = 1\n",
        "V_a = 2\n",
        "print(v_a)\n",
        "print(V_a)"
      ],
      "execution_count": 18,
      "outputs": [
        {
          "output_type": "stream",
          "text": [
            "1\n",
            "2\n"
          ],
          "name": "stdout"
        }
      ]
    },
    {
      "cell_type": "code",
      "metadata": {
        "colab": {
          "base_uri": "https://localhost:8080/"
        },
        "id": "0N9TlMDj2cVC",
        "outputId": "388c8a0e-8e9c-4dd4-c966-d87311193dd5"
      },
      "source": [
        "#ตัวเล็กกับตัวใหญ่ เเตกต่างกัน (case sensitive)\n",
        "v_a = 1\n",
        "v_a = 2\n",
        "print(v_a)\n",
        "print(v_a)"
      ],
      "execution_count": 19,
      "outputs": [
        {
          "output_type": "stream",
          "text": [
            "2\n",
            "2\n"
          ],
          "name": "stdout"
        }
      ]
    },
    {
      "cell_type": "code",
      "metadata": {
        "colab": {
          "base_uri": "https://localhost:8080/",
          "height": 128
        },
        "id": "ceYlGeAr2cSj",
        "outputId": "e8621af8-f0f8-4abe-ff76-ecdba40ed37e"
      },
      "source": [
        "#ห้ามใช้ตัวเลขเป็นตัวหน้า\n",
        "2=1"
      ],
      "execution_count": null,
      "outputs": [
        {
          "output_type": "error",
          "ename": "SyntaxError",
          "evalue": "ignored",
          "traceback": [
            "\u001b[0;36m  File \u001b[0;32m\"<ipython-input-22-9e861f116a98>\"\u001b[0;36m, line \u001b[0;32m2\u001b[0m\n\u001b[0;31m    2=1\u001b[0m\n\u001b[0m       ^\u001b[0m\n\u001b[0;31mSyntaxError\u001b[0m\u001b[0;31m:\u001b[0m can't assign to literal\n"
          ]
        }
      ]
    },
    {
      "cell_type": "code",
      "metadata": {
        "colab": {
          "base_uri": "https://localhost:8080/",
          "height": 128
        },
        "id": "5pmBIQIy2cPi",
        "outputId": "26d0efe0-2ee0-47bd-d5c9-eaca719514aa"
      },
      "source": [
        "2ab = 1"
      ],
      "execution_count": null,
      "outputs": [
        {
          "output_type": "error",
          "ename": "SyntaxError",
          "evalue": "ignored",
          "traceback": [
            "\u001b[0;36m  File \u001b[0;32m\"<ipython-input-23-5e626502b3e4>\"\u001b[0;36m, line \u001b[0;32m1\u001b[0m\n\u001b[0;31m    2ab = 1\u001b[0m\n\u001b[0m      ^\u001b[0m\n\u001b[0;31mSyntaxError\u001b[0m\u001b[0;31m:\u001b[0m invalid syntax\n"
          ]
        }
      ]
    },
    {
      "cell_type": "code",
      "metadata": {
        "id": "kK0cAMd42cM-"
      },
      "source": [
        "variable = 1"
      ],
      "execution_count": 20,
      "outputs": []
    },
    {
      "cell_type": "code",
      "metadata": {
        "colab": {
          "base_uri": "https://localhost:8080/"
        },
        "id": "zpbjMBoI2cKQ",
        "outputId": "6401fca2-3181-4883-eafb-6a3cba30e996"
      },
      "source": [
        "print(variable)"
      ],
      "execution_count": 21,
      "outputs": [
        {
          "output_type": "stream",
          "text": [
            "1\n"
          ],
          "name": "stdout"
        }
      ]
    },
    {
      "cell_type": "code",
      "metadata": {
        "id": "o2KHHlNt2cHK"
      },
      "source": [
        "variable_a = 12  \n",
        "variable_b = 'abcde' #' ' เรียกว่า quote\n",
        "variable_c = variable_a\n",
        "variable_d = -41.2\n",
        "variable_4 = \"KKU\" # \"เรียกว่า double quote\""
      ],
      "execution_count": 22,
      "outputs": []
    },
    {
      "cell_type": "code",
      "metadata": {
        "colab": {
          "base_uri": "https://localhost:8080/"
        },
        "id": "fg0uk-Ys4SHg",
        "outputId": "79dacbef-16e0-4508-99ea-1ff4ae8bd355"
      },
      "source": [
        "variable_x =variable_c + variable_d\n",
        "print(variable_x)"
      ],
      "execution_count": 23,
      "outputs": [
        {
          "output_type": "stream",
          "text": [
            "-29.200000000000003\n"
          ],
          "name": "stdout"
        }
      ]
    },
    {
      "cell_type": "code",
      "metadata": {
        "colab": {
          "base_uri": "https://localhost:8080/",
          "height": 161
        },
        "id": "PeWvEUmC41Me",
        "outputId": "8ab5d287-13ea-454f-d5f7-feb6a640db6b"
      },
      "source": [
        "variable_a + variable_b  #int กับ string ไม่สามารถบวกกันได้"
      ],
      "execution_count": null,
      "outputs": [
        {
          "output_type": "error",
          "ename": "TypeError",
          "evalue": "ignored",
          "traceback": [
            "\u001b[0;31m---------------------------------------------------------------------------\u001b[0m",
            "\u001b[0;31mTypeError\u001b[0m                                 Traceback (most recent call last)",
            "\u001b[0;32m<ipython-input-30-79991e87d1a0>\u001b[0m in \u001b[0;36m<module>\u001b[0;34m()\u001b[0m\n\u001b[0;32m----> 1\u001b[0;31m \u001b[0mvariable_a\u001b[0m \u001b[0;34m+\u001b[0m \u001b[0mvariable_b\u001b[0m  \u001b[0;31m#int กับ string ไม่สามารถบวกกันได้\u001b[0m\u001b[0;34m\u001b[0m\u001b[0;34m\u001b[0m\u001b[0m\n\u001b[0m",
            "\u001b[0;31mTypeError\u001b[0m: unsupported operand type(s) for +: 'int' and 'str'"
          ]
        }
      ]
    },
    {
      "cell_type": "code",
      "metadata": {
        "colab": {
          "base_uri": "https://localhost:8080/"
        },
        "id": "vf-iU0WI6Noi",
        "outputId": "4c85c1f6-219c-4fa8-bc3a-31bdb9a47a70"
      },
      "source": [
        "print(variable_b + variable_4)"
      ],
      "execution_count": 24,
      "outputs": [
        {
          "output_type": "stream",
          "text": [
            "abcdeKKU\n"
          ],
          "name": "stdout"
        }
      ]
    },
    {
      "cell_type": "markdown",
      "metadata": {
        "id": "zEtif4Ru7B4o"
      },
      "source": [
        "## Casting int() float() str()"
      ]
    },
    {
      "cell_type": "code",
      "metadata": {
        "colab": {
          "base_uri": "https://localhost:8080/"
        },
        "id": "r3a_kwhV6W_y",
        "outputId": "5618cc17-93fa-4ad2-aee6-c3914c4461df"
      },
      "source": [
        "print(variable_x)\n",
        "print(int(variable_x))"
      ],
      "execution_count": 25,
      "outputs": [
        {
          "output_type": "stream",
          "text": [
            "-29.200000000000003\n",
            "-29\n"
          ],
          "name": "stdout"
        }
      ]
    },
    {
      "cell_type": "code",
      "metadata": {
        "colab": {
          "base_uri": "https://localhost:8080/"
        },
        "id": "vIEBd8Cw6W9m",
        "outputId": "e391c7d7-53fe-4b47-d851-c13c16639484"
      },
      "source": [
        "V_X = str(variable_x)\n",
        "print(V_X)"
      ],
      "execution_count": 26,
      "outputs": [
        {
          "output_type": "stream",
          "text": [
            "-29.200000000000003\n"
          ],
          "name": "stdout"
        }
      ]
    },
    {
      "cell_type": "code",
      "metadata": {
        "colab": {
          "base_uri": "https://localhost:8080/",
          "height": 161
        },
        "id": "WpNHMKU66W7B",
        "outputId": "cff0b2fd-3adb-48ce-8cc1-0ef4fc1de461"
      },
      "source": [
        "V_X + variable_a"
      ],
      "execution_count": null,
      "outputs": [
        {
          "output_type": "error",
          "ename": "TypeError",
          "evalue": "ignored",
          "traceback": [
            "\u001b[0;31m---------------------------------------------------------------------------\u001b[0m",
            "\u001b[0;31mTypeError\u001b[0m                                 Traceback (most recent call last)",
            "\u001b[0;32m<ipython-input-37-d83c0918f5c6>\u001b[0m in \u001b[0;36m<module>\u001b[0;34m()\u001b[0m\n\u001b[0;32m----> 1\u001b[0;31m \u001b[0mV_X\u001b[0m \u001b[0;34m+\u001b[0m \u001b[0mvariable_a\u001b[0m\u001b[0;34m\u001b[0m\u001b[0;34m\u001b[0m\u001b[0m\n\u001b[0m",
            "\u001b[0;31mTypeError\u001b[0m: can only concatenate str (not \"int\") to str"
          ]
        }
      ]
    },
    {
      "cell_type": "code",
      "metadata": {
        "colab": {
          "base_uri": "https://localhost:8080/",
          "height": 161
        },
        "id": "zjkcoJPm6W4l",
        "outputId": "4b4521fe-b8f3-4890-8c1d-05429a132209"
      },
      "source": [
        "variable_a + V_X"
      ],
      "execution_count": 27,
      "outputs": [
        {
          "output_type": "error",
          "ename": "TypeError",
          "evalue": "ignored",
          "traceback": [
            "\u001b[0;31m---------------------------------------------------------------------------\u001b[0m",
            "\u001b[0;31mTypeError\u001b[0m                                 Traceback (most recent call last)",
            "\u001b[0;32m<ipython-input-27-9c7fa6bc8848>\u001b[0m in \u001b[0;36m<module>\u001b[0;34m()\u001b[0m\n\u001b[0;32m----> 1\u001b[0;31m \u001b[0mvariable_a\u001b[0m \u001b[0;34m+\u001b[0m \u001b[0mV_X\u001b[0m\u001b[0;34m\u001b[0m\u001b[0;34m\u001b[0m\u001b[0m\n\u001b[0m",
            "\u001b[0;31mTypeError\u001b[0m: unsupported operand type(s) for +: 'int' and 'str'"
          ]
        }
      ]
    },
    {
      "cell_type": "code",
      "metadata": {
        "colab": {
          "base_uri": "https://localhost:8080/",
          "height": 35
        },
        "id": "07MN2X0C6W2F",
        "outputId": "836bff31-fa55-4d27-ff2e-453c6ca0ef04"
      },
      "source": [
        "V_X"
      ],
      "execution_count": 28,
      "outputs": [
        {
          "output_type": "execute_result",
          "data": {
            "application/vnd.google.colaboratory.intrinsic+json": {
              "type": "string"
            },
            "text/plain": [
              "'-29.200000000000003'"
            ]
          },
          "metadata": {
            "tags": []
          },
          "execution_count": 28
        }
      ]
    },
    {
      "cell_type": "code",
      "metadata": {
        "colab": {
          "base_uri": "https://localhost:8080/"
        },
        "id": "2G9QcWN_6Wzh",
        "outputId": "343aa958-fbcd-4065-93c6-5cdbfd40a766"
      },
      "source": [
        "float(V_X)"
      ],
      "execution_count": 29,
      "outputs": [
        {
          "output_type": "execute_result",
          "data": {
            "text/plain": [
              "-29.200000000000003"
            ]
          },
          "metadata": {
            "tags": []
          },
          "execution_count": 29
        }
      ]
    },
    {
      "cell_type": "markdown",
      "metadata": {
        "id": "5vIN79ZZ9BvD"
      },
      "source": [
        "## Data Structure\n",
        "\n",
        "### list()"
      ]
    },
    {
      "cell_type": "code",
      "metadata": {
        "id": "ef6vW-wH6WxF"
      },
      "source": [
        "list_a = [1,2,0.2,'abs'] # [] square brackets\n",
        "list_b = [2,'xyz',list_a,[1,2,0.0]]"
      ],
      "execution_count": 30,
      "outputs": []
    },
    {
      "cell_type": "code",
      "metadata": {
        "colab": {
          "base_uri": "https://localhost:8080/"
        },
        "id": "IW1pRd9G6Wuh",
        "outputId": "60242937-5170-4587-e981-709172cdc681"
      },
      "source": [
        "list_a"
      ],
      "execution_count": 31,
      "outputs": [
        {
          "output_type": "execute_result",
          "data": {
            "text/plain": [
              "[1, 2, 0.2, 'abs']"
            ]
          },
          "metadata": {
            "tags": []
          },
          "execution_count": 31
        }
      ]
    },
    {
      "cell_type": "code",
      "metadata": {
        "colab": {
          "base_uri": "https://localhost:8080/"
        },
        "id": "QAcJ3Wnz9_uI",
        "outputId": "31474670-2b7c-405e-f3dd-4bf439a331bd"
      },
      "source": [
        "list_b"
      ],
      "execution_count": 32,
      "outputs": [
        {
          "output_type": "execute_result",
          "data": {
            "text/plain": [
              "[2, 'xyz', [1, 2, 0.2, 'abs'], [1, 2, 0.0]]"
            ]
          },
          "metadata": {
            "tags": []
          },
          "execution_count": 32
        }
      ]
    },
    {
      "cell_type": "code",
      "metadata": {
        "colab": {
          "base_uri": "https://localhost:8080/"
        },
        "id": "2nTn054y-CQ7",
        "outputId": "f8c86040-e0ca-42e6-9740-4217be68618f"
      },
      "source": [
        "len(list_b) #lenมีสามาชิกกี่ตัว"
      ],
      "execution_count": 33,
      "outputs": [
        {
          "output_type": "execute_result",
          "data": {
            "text/plain": [
              "4"
            ]
          },
          "metadata": {
            "tags": []
          },
          "execution_count": 33
        }
      ]
    },
    {
      "cell_type": "code",
      "metadata": {
        "colab": {
          "base_uri": "https://localhost:8080/"
        },
        "id": "jOqqyNh2-OWz",
        "outputId": "e1dfd41b-b1c0-4f1f-eea4-91fe772c7986"
      },
      "source": [
        "len(list_b)"
      ],
      "execution_count": 34,
      "outputs": [
        {
          "output_type": "execute_result",
          "data": {
            "text/plain": [
              "4"
            ]
          },
          "metadata": {
            "tags": []
          },
          "execution_count": 34
        }
      ]
    },
    {
      "cell_type": "code",
      "metadata": {
        "colab": {
          "base_uri": "https://localhost:8080/"
        },
        "id": "IH8KFLRw-YGa",
        "outputId": "2c9cc4da-849a-406e-d0f3-09a51d8266f3"
      },
      "source": [
        "list_b[3] #ดูสมาชิกตัวที่3ว่ามีเลขอะไรบ้าง"
      ],
      "execution_count": 35,
      "outputs": [
        {
          "output_type": "execute_result",
          "data": {
            "text/plain": [
              "[1, 2, 0.0]"
            ]
          },
          "metadata": {
            "tags": []
          },
          "execution_count": 35
        }
      ]
    },
    {
      "cell_type": "code",
      "metadata": {
        "colab": {
          "base_uri": "https://localhost:8080/"
        },
        "id": "icMWf66l-ek9",
        "outputId": "988fd027-e7f3-4f51-8c63-4296a6a07685"
      },
      "source": [
        "list_b[3][1] #ดูว่าlistตัวที่3 มีสมาชิกตัวที่1 คืออะไร นับเป็น(0,1,2)"
      ],
      "execution_count": 36,
      "outputs": [
        {
          "output_type": "execute_result",
          "data": {
            "text/plain": [
              "2"
            ]
          },
          "metadata": {
            "tags": []
          },
          "execution_count": 36
        }
      ]
    },
    {
      "cell_type": "markdown",
      "metadata": {
        "id": "te9xLtl5_DDP"
      },
      "source": [
        "##String คือ list ของตัวหนังสือ"
      ]
    },
    {
      "cell_type": "code",
      "metadata": {
        "id": "BIwWMR2t-kmo"
      },
      "source": [
        "a = 'Stat KKU'"
      ],
      "execution_count": 37,
      "outputs": []
    },
    {
      "cell_type": "code",
      "metadata": {
        "colab": {
          "base_uri": "https://localhost:8080/",
          "height": 35
        },
        "id": "Mw_SKcSA_Q0H",
        "outputId": "9ed1801c-26f1-4cd3-cd5f-c4c8f4142943"
      },
      "source": [
        "a[4]"
      ],
      "execution_count": 38,
      "outputs": [
        {
          "output_type": "execute_result",
          "data": {
            "application/vnd.google.colaboratory.intrinsic+json": {
              "type": "string"
            },
            "text/plain": [
              "' '"
            ]
          },
          "metadata": {
            "tags": []
          },
          "execution_count": 38
        }
      ]
    },
    {
      "cell_type": "markdown",
      "metadata": {
        "id": "z3TqGsYs_hP7"
      },
      "source": [
        "###วิธีสร้าง list ว่าง"
      ]
    },
    {
      "cell_type": "code",
      "metadata": {
        "id": "FS09F0PH_Sd4"
      },
      "source": [
        "list_c = list() #เเบบที่ 1\n",
        "list_d = []  #เเบบที่ 2"
      ],
      "execution_count": 39,
      "outputs": []
    },
    {
      "cell_type": "code",
      "metadata": {
        "colab": {
          "base_uri": "https://localhost:8080/"
        },
        "id": "DXoLE7Tz_wA1",
        "outputId": "8f9a6117-2cec-46b6-e902-dd34c637c2d5"
      },
      "source": [
        "list_c"
      ],
      "execution_count": 40,
      "outputs": [
        {
          "output_type": "execute_result",
          "data": {
            "text/plain": [
              "[]"
            ]
          },
          "metadata": {
            "tags": []
          },
          "execution_count": 40
        }
      ]
    },
    {
      "cell_type": "code",
      "metadata": {
        "colab": {
          "base_uri": "https://localhost:8080/"
        },
        "id": "RB15oK9__7Zh",
        "outputId": "b46e5414-6222-4ed1-bc88-a5eebc8f46ce"
      },
      "source": [
        "list_d"
      ],
      "execution_count": 41,
      "outputs": [
        {
          "output_type": "execute_result",
          "data": {
            "text/plain": [
              "[]"
            ]
          },
          "metadata": {
            "tags": []
          },
          "execution_count": 41
        }
      ]
    },
    {
      "cell_type": "markdown",
      "metadata": {
        "id": "JGrglkXBAUkP"
      },
      "source": [
        "###เติมค่าลงไปใน list (.append()) "
      ]
    },
    {
      "cell_type": "code",
      "metadata": {
        "id": "-QnJLEYj_92R"
      },
      "source": [
        "list_d.append('a')"
      ],
      "execution_count": 42,
      "outputs": []
    },
    {
      "cell_type": "code",
      "metadata": {
        "colab": {
          "base_uri": "https://localhost:8080/"
        },
        "id": "6eHEfoTf_-5T",
        "outputId": "f7ca0c80-4885-472c-db9b-468165c93c02"
      },
      "source": [
        "list_d"
      ],
      "execution_count": 43,
      "outputs": [
        {
          "output_type": "execute_result",
          "data": {
            "text/plain": [
              "['a']"
            ]
          },
          "metadata": {
            "tags": []
          },
          "execution_count": 43
        }
      ]
    },
    {
      "cell_type": "code",
      "metadata": {
        "id": "Ab3iUO9q_-2q"
      },
      "source": [
        "list_d.append(56)"
      ],
      "execution_count": 44,
      "outputs": []
    },
    {
      "cell_type": "code",
      "metadata": {
        "colab": {
          "base_uri": "https://localhost:8080/"
        },
        "id": "qDd3YpgJ_-0J",
        "outputId": "e72042c9-c83e-4454-d87f-04fec68377a4"
      },
      "source": [
        "list_d"
      ],
      "execution_count": 45,
      "outputs": [
        {
          "output_type": "execute_result",
          "data": {
            "text/plain": [
              "['a', 56]"
            ]
          },
          "metadata": {
            "tags": []
          },
          "execution_count": 45
        }
      ]
    },
    {
      "cell_type": "markdown",
      "metadata": {
        "id": "3Fu5khwUBFDE"
      },
      "source": [
        "การชี้ค่าใน list (indexing)\n",
        "\n",
        "1.ใช้ลำดับในการชี้\n",
        "\n",
        "2.ลำดับเริ่มจาก 0\n",
        "\n",
        "3.สามารถชี้จากข้งหลังได้โดยใช้ negative index"
      ]
    },
    {
      "cell_type": "code",
      "metadata": {
        "colab": {
          "base_uri": "https://localhost:8080/"
        },
        "id": "rcMUN5X3_-xq",
        "outputId": "b5d20bb4-b9b4-4172-e3fe-a459c701f8ae"
      },
      "source": [
        "list_b"
      ],
      "execution_count": 46,
      "outputs": [
        {
          "output_type": "execute_result",
          "data": {
            "text/plain": [
              "[2, 'xyz', [1, 2, 0.2, 'abs'], [1, 2, 0.0]]"
            ]
          },
          "metadata": {
            "tags": []
          },
          "execution_count": 46
        }
      ]
    },
    {
      "cell_type": "code",
      "metadata": {
        "colab": {
          "base_uri": "https://localhost:8080/"
        },
        "id": "j7QbeFmC_-vt",
        "outputId": "3883d307-f0d6-4fd6-dcb0-8aeb28fc0eaa"
      },
      "source": [
        "list_b[-1] #การชี้list จากตัวที่อยู่หลังสุด(-4,-3,-2,-1)"
      ],
      "execution_count": 47,
      "outputs": [
        {
          "output_type": "execute_result",
          "data": {
            "text/plain": [
              "[1, 2, 0.0]"
            ]
          },
          "metadata": {
            "tags": []
          },
          "execution_count": 47
        }
      ]
    },
    {
      "cell_type": "code",
      "metadata": {
        "colab": {
          "base_uri": "https://localhost:8080/"
        },
        "id": "YpElcXmv_-sY",
        "outputId": "39d9c3e8-8108-4e9b-ee15-be7b9b02ae98"
      },
      "source": [
        "list_b[-2]"
      ],
      "execution_count": 48,
      "outputs": [
        {
          "output_type": "execute_result",
          "data": {
            "text/plain": [
              "[1, 2, 0.2, 'abs']"
            ]
          },
          "metadata": {
            "tags": []
          },
          "execution_count": 48
        }
      ]
    },
    {
      "cell_type": "markdown",
      "metadata": {
        "id": "_LHLetTXCLX5"
      },
      "source": [
        "### list slicing"
      ]
    },
    {
      "cell_type": "code",
      "metadata": {
        "id": "Vvj3ZemT_-pj"
      },
      "source": [
        "list_ex = [1,2,3,5,6,8,-1,20,50,0]"
      ],
      "execution_count": 49,
      "outputs": []
    },
    {
      "cell_type": "markdown",
      "metadata": {
        "id": "HESCqm_dC4c0"
      },
      "source": [
        "###เราจะตัดlist โดยเอาตั้งเเต่ [ตัวหน้า:ตัวก่อนตัวหลัง] \n",
        "ถ้าเป็นสัญลักษณ์คณิตศาสตร์[ตัวหน้า:ตัวหลัง] -> [ตัวหน้า,ตัวหลัง)"
      ]
    },
    {
      "cell_type": "code",
      "metadata": {
        "colab": {
          "base_uri": "https://localhost:8080/"
        },
        "id": "8Uf7CC8oCYEk",
        "outputId": "0243845e-6080-49b1-b34a-74a307208dc3"
      },
      "source": [
        "list_ex[1:6] "
      ],
      "execution_count": 50,
      "outputs": [
        {
          "output_type": "execute_result",
          "data": {
            "text/plain": [
              "[2, 3, 5, 6, 8]"
            ]
          },
          "metadata": {
            "tags": []
          },
          "execution_count": 50
        }
      ]
    },
    {
      "cell_type": "code",
      "metadata": {
        "colab": {
          "base_uri": "https://localhost:8080/"
        },
        "id": "nn1YzikcCj_2",
        "outputId": "3d114425-81d1-4f04-b62d-7e7ae13f8447"
      },
      "source": [
        "list_ex[4:]"
      ],
      "execution_count": 51,
      "outputs": [
        {
          "output_type": "execute_result",
          "data": {
            "text/plain": [
              "[6, 8, -1, 20, 50, 0]"
            ]
          },
          "metadata": {
            "tags": []
          },
          "execution_count": 51
        }
      ]
    },
    {
      "cell_type": "code",
      "metadata": {
        "colab": {
          "base_uri": "https://localhost:8080/"
        },
        "id": "ztWw_d96DXFG",
        "outputId": "46fa17e4-aa45-4a3d-fbc5-80c6207c0fd8"
      },
      "source": [
        "list_ex[:6]"
      ],
      "execution_count": 52,
      "outputs": [
        {
          "output_type": "execute_result",
          "data": {
            "text/plain": [
              "[1, 2, 3, 5, 6, 8]"
            ]
          },
          "metadata": {
            "tags": []
          },
          "execution_count": 52
        }
      ]
    },
    {
      "cell_type": "markdown",
      "metadata": {
        "id": "QyHrR4iOEPsV"
      },
      "source": [
        "[จุดเริ่มต้น:จุดสุดท้าย:step]"
      ]
    },
    {
      "cell_type": "code",
      "metadata": {
        "colab": {
          "base_uri": "https://localhost:8080/"
        },
        "id": "5GxmVqBdEY5F",
        "outputId": "03ec0979-20f3-4a06-e182-e5376c6e2199"
      },
      "source": [
        "list_ex"
      ],
      "execution_count": 53,
      "outputs": [
        {
          "output_type": "execute_result",
          "data": {
            "text/plain": [
              "[1, 2, 3, 5, 6, 8, -1, 20, 50, 0]"
            ]
          },
          "metadata": {
            "tags": []
          },
          "execution_count": 53
        }
      ]
    },
    {
      "cell_type": "code",
      "metadata": {
        "colab": {
          "base_uri": "https://localhost:8080/"
        },
        "id": "flVrx_ocDXCY",
        "outputId": "206187d7-dc29-46f0-ee91-8370adad9f1a"
      },
      "source": [
        "list_ex[::2] #กำหนดstep ในการกระโดดได้"
      ],
      "execution_count": 54,
      "outputs": [
        {
          "output_type": "execute_result",
          "data": {
            "text/plain": [
              "[1, 3, 6, -1, 50]"
            ]
          },
          "metadata": {
            "tags": []
          },
          "execution_count": 54
        }
      ]
    },
    {
      "cell_type": "code",
      "metadata": {
        "colab": {
          "base_uri": "https://localhost:8080/"
        },
        "id": "IgeiOj-rDW_G",
        "outputId": "a1a7a42f-db2c-4d83-d937-98b2e5b0998b"
      },
      "source": [
        "list_ex[::-1] #การกลับlist"
      ],
      "execution_count": 55,
      "outputs": [
        {
          "output_type": "execute_result",
          "data": {
            "text/plain": [
              "[0, 50, 20, -1, 8, 6, 5, 3, 2, 1]"
            ]
          },
          "metadata": {
            "tags": []
          },
          "execution_count": 55
        }
      ]
    },
    {
      "cell_type": "code",
      "metadata": {
        "colab": {
          "base_uri": "https://localhost:8080/"
        },
        "id": "fTpnTn1HDW82",
        "outputId": "aa902981-5752-480c-ce2c-aeea61c1cce9"
      },
      "source": [
        "list_ex[::3]"
      ],
      "execution_count": 56,
      "outputs": [
        {
          "output_type": "execute_result",
          "data": {
            "text/plain": [
              "[1, 5, -1, 0]"
            ]
          },
          "metadata": {
            "tags": []
          },
          "execution_count": 56
        }
      ]
    },
    {
      "cell_type": "code",
      "metadata": {
        "colab": {
          "base_uri": "https://localhost:8080/",
          "height": 35
        },
        "id": "M0fLEfzVDW68",
        "outputId": "f29e379a-331f-4530-f39b-260b15df364a"
      },
      "source": [
        "a"
      ],
      "execution_count": 57,
      "outputs": [
        {
          "output_type": "execute_result",
          "data": {
            "application/vnd.google.colaboratory.intrinsic+json": {
              "type": "string"
            },
            "text/plain": [
              "'Stat KKU'"
            ]
          },
          "metadata": {
            "tags": []
          },
          "execution_count": 57
        }
      ]
    },
    {
      "cell_type": "code",
      "metadata": {
        "colab": {
          "base_uri": "https://localhost:8080/",
          "height": 35
        },
        "id": "TeFt9_RjDW3V",
        "outputId": "cb8e383b-43c8-47aa-94de-7592f0ccc34f"
      },
      "source": [
        "a[::2]"
      ],
      "execution_count": 58,
      "outputs": [
        {
          "output_type": "execute_result",
          "data": {
            "application/vnd.google.colaboratory.intrinsic+json": {
              "type": "string"
            },
            "text/plain": [
              "'Sa K'"
            ]
          },
          "metadata": {
            "tags": []
          },
          "execution_count": 58
        }
      ]
    },
    {
      "cell_type": "code",
      "metadata": {
        "colab": {
          "base_uri": "https://localhost:8080/",
          "height": 35
        },
        "id": "3NqFtilCDW0X",
        "outputId": "0ab5d804-51b8-468c-efec-293b57209353"
      },
      "source": [
        "a[5:]"
      ],
      "execution_count": 59,
      "outputs": [
        {
          "output_type": "execute_result",
          "data": {
            "application/vnd.google.colaboratory.intrinsic+json": {
              "type": "string"
            },
            "text/plain": [
              "'KKU'"
            ]
          },
          "metadata": {
            "tags": []
          },
          "execution_count": 59
        }
      ]
    },
    {
      "cell_type": "code",
      "metadata": {
        "colab": {
          "base_uri": "https://localhost:8080/",
          "height": 35
        },
        "id": "0GjKfcgQFZoa",
        "outputId": "bd326b1a-84f2-436b-9cd3-ae24bbd768f8"
      },
      "source": [
        "a[-3:]"
      ],
      "execution_count": 60,
      "outputs": [
        {
          "output_type": "execute_result",
          "data": {
            "application/vnd.google.colaboratory.intrinsic+json": {
              "type": "string"
            },
            "text/plain": [
              "'KKU'"
            ]
          },
          "metadata": {
            "tags": []
          },
          "execution_count": 60
        }
      ]
    },
    {
      "cell_type": "code",
      "metadata": {
        "colab": {
          "base_uri": "https://localhost:8080/",
          "height": 35
        },
        "id": "4Y3zI7u0F3PS",
        "outputId": "a50c4d63-d8f5-4560-b807-69a9dffd6870"
      },
      "source": [
        "a[5:8]"
      ],
      "execution_count": 61,
      "outputs": [
        {
          "output_type": "execute_result",
          "data": {
            "application/vnd.google.colaboratory.intrinsic+json": {
              "type": "string"
            },
            "text/plain": [
              "'KKU'"
            ]
          },
          "metadata": {
            "tags": []
          },
          "execution_count": 61
        }
      ]
    },
    {
      "cell_type": "code",
      "metadata": {
        "colab": {
          "base_uri": "https://localhost:8080/",
          "height": 35
        },
        "id": "53YVsajdGAkW",
        "outputId": "0fe57062-7694-4f9e-b636-1114a442de0c"
      },
      "source": [
        "a[5::]"
      ],
      "execution_count": 62,
      "outputs": [
        {
          "output_type": "execute_result",
          "data": {
            "application/vnd.google.colaboratory.intrinsic+json": {
              "type": "string"
            },
            "text/plain": [
              "'KKU'"
            ]
          },
          "metadata": {
            "tags": []
          },
          "execution_count": 62
        }
      ]
    },
    {
      "cell_type": "code",
      "metadata": {
        "colab": {
          "base_uri": "https://localhost:8080/",
          "height": 35
        },
        "id": "LXlDrJdyGEqc",
        "outputId": "e37ca6e8-6c2e-4376-ba0d-4095f209745e"
      },
      "source": [
        "a[-3::]"
      ],
      "execution_count": 63,
      "outputs": [
        {
          "output_type": "execute_result",
          "data": {
            "application/vnd.google.colaboratory.intrinsic+json": {
              "type": "string"
            },
            "text/plain": [
              "'KKU'"
            ]
          },
          "metadata": {
            "tags": []
          },
          "execution_count": 63
        }
      ]
    },
    {
      "cell_type": "code",
      "metadata": {
        "colab": {
          "base_uri": "https://localhost:8080/",
          "height": 35
        },
        "id": "3GHrw8XsGEm2",
        "outputId": "531d8ed7-9eac-4343-f91a-7f5628f5373b"
      },
      "source": [
        "a[-3::1]"
      ],
      "execution_count": 64,
      "outputs": [
        {
          "output_type": "execute_result",
          "data": {
            "application/vnd.google.colaboratory.intrinsic+json": {
              "type": "string"
            },
            "text/plain": [
              "'KKU'"
            ]
          },
          "metadata": {
            "tags": []
          },
          "execution_count": 64
        }
      ]
    },
    {
      "cell_type": "markdown",
      "metadata": {
        "id": "h2E2dO81Grc8"
      },
      "source": [
        "### list + list "
      ]
    },
    {
      "cell_type": "code",
      "metadata": {
        "colab": {
          "base_uri": "https://localhost:8080/"
        },
        "id": "2-AGxIG6GEda",
        "outputId": "69ad0ee8-11fd-4403-8255-73324e51e6ee"
      },
      "source": [
        "print(list_a)\n",
        "print(list_b)"
      ],
      "execution_count": 65,
      "outputs": [
        {
          "output_type": "stream",
          "text": [
            "[1, 2, 0.2, 'abs']\n",
            "[2, 'xyz', [1, 2, 0.2, 'abs'], [1, 2, 0.0]]\n"
          ],
          "name": "stdout"
        }
      ]
    },
    {
      "cell_type": "code",
      "metadata": {
        "colab": {
          "base_uri": "https://localhost:8080/"
        },
        "id": "hzWOKYPwGOQt",
        "outputId": "9501d1dc-8fe4-424b-c997-12ecad7c13f6"
      },
      "source": [
        "list_a + list_b"
      ],
      "execution_count": 66,
      "outputs": [
        {
          "output_type": "execute_result",
          "data": {
            "text/plain": [
              "[1, 2, 0.2, 'abs', 2, 'xyz', [1, 2, 0.2, 'abs'], [1, 2, 0.0]]"
            ]
          },
          "metadata": {
            "tags": []
          },
          "execution_count": 66
        }
      ]
    },
    {
      "cell_type": "code",
      "metadata": {
        "colab": {
          "base_uri": "https://localhost:8080/"
        },
        "id": "QrKNgMysGOLI",
        "outputId": "71020aab-74e8-4b95-c66c-e9eef1f9d7cf"
      },
      "source": [
        "list_b + list_a  "
      ],
      "execution_count": 67,
      "outputs": [
        {
          "output_type": "execute_result",
          "data": {
            "text/plain": [
              "[2, 'xyz', [1, 2, 0.2, 'abs'], [1, 2, 0.0], 1, 2, 0.2, 'abs']"
            ]
          },
          "metadata": {
            "tags": []
          },
          "execution_count": 67
        }
      ]
    },
    {
      "cell_type": "markdown",
      "metadata": {
        "id": "UQDSArswLN0q"
      },
      "source": [
        "#format Srting "
      ]
    },
    {
      "cell_type": "markdown",
      "metadata": {
        "id": "aJBI8uTNLyUY"
      },
      "source": [
        "```prthon\n",
        "f'string{ตัวเเปร}'\n",
        "``` "
      ]
    },
    {
      "cell_type": "code",
      "metadata": {
        "colab": {
          "base_uri": "https://localhost:8080/",
          "height": 35
        },
        "id": "1uy9p3oMLT1R",
        "outputId": "5cc754f5-48a7-4d19-8f62-05e8d9187749"
      },
      "source": [
        "f'ตัวเเปร list_a มีค่าคือ {list_a}'"
      ],
      "execution_count": 68,
      "outputs": [
        {
          "output_type": "execute_result",
          "data": {
            "application/vnd.google.colaboratory.intrinsic+json": {
              "type": "string"
            },
            "text/plain": [
              "\"ตัวเเปร list_a มีค่าคือ [1, 2, 0.2, 'abs']\""
            ]
          },
          "metadata": {
            "tags": []
          },
          "execution_count": 68
        }
      ]
    },
    {
      "cell_type": "markdown",
      "metadata": {
        "id": "B4vBoLg7HmNE"
      },
      "source": [
        "### Loop"
      ]
    },
    {
      "cell_type": "markdown",
      "metadata": {
        "id": "7EBEcQl8KbOs"
      },
      "source": [
        "```python\n",
        "for ตัวเเปรที่จะรับค่าจากลิสต์ in ลิตส์ที่จะนำมาวนลูป:\n",
        "    do someting\n",
        "```"
      ]
    },
    {
      "cell_type": "code",
      "metadata": {
        "colab": {
          "base_uri": "https://localhost:8080/"
        },
        "id": "Y6I2X_I8GOIX",
        "outputId": "ebe78a98-d9e7-4646-abb5-3e75bc58d694"
      },
      "source": [
        "for i in [1,2,3,4,5]:\n",
        "    print(i+1)"
      ],
      "execution_count": 69,
      "outputs": [
        {
          "output_type": "stream",
          "text": [
            "2\n",
            "3\n",
            "4\n",
            "5\n",
            "6\n"
          ],
          "name": "stdout"
        }
      ]
    },
    {
      "cell_type": "code",
      "metadata": {
        "colab": {
          "base_uri": "https://localhost:8080/"
        },
        "id": "97aXeMPXDZ3H",
        "outputId": "84c78f1a-96fa-43c4-e5d3-4b070b81bad4"
      },
      "source": [
        "for i in [1,2,3,4,5]:\n",
        "    print(i+5)"
      ],
      "execution_count": 79,
      "outputs": [
        {
          "output_type": "stream",
          "text": [
            "6\n",
            "7\n",
            "8\n",
            "9\n",
            "10\n"
          ],
          "name": "stdout"
        }
      ]
    },
    {
      "cell_type": "code",
      "metadata": {
        "colab": {
          "base_uri": "https://localhost:8080/"
        },
        "id": "l7Hifq-VHVk5",
        "outputId": "fca6fef0-9402-403c-e3f5-d3e1dcb83d4c"
      },
      "source": [
        "for x in  [1,2,3,4,5]:\n",
        "    print(f'ค่าตัวเเปร x คือ {x} เเละ x+2 = {x+2}') #การวนลูป 5 ครั้ง"
      ],
      "execution_count": 70,
      "outputs": [
        {
          "output_type": "stream",
          "text": [
            "ค่าตัวเเปร x คือ 1 เเละ x+2 = 3\n",
            "ค่าตัวเเปร x คือ 2 เเละ x+2 = 4\n",
            "ค่าตัวเเปร x คือ 3 เเละ x+2 = 5\n",
            "ค่าตัวเเปร x คือ 4 เเละ x+2 = 6\n",
            "ค่าตัวเเปร x คือ 5 เเละ x+2 = 7\n"
          ],
          "name": "stdout"
        }
      ]
    },
    {
      "cell_type": "code",
      "metadata": {
        "colab": {
          "base_uri": "https://localhost:8080/"
        },
        "id": "7rzDtZ47HViU",
        "outputId": "aacee07d-387b-4f25-98c4-b2ae8dbf5741"
      },
      "source": [
        "list5 = [1,2,3,4,5]\n",
        "for x in list5 :\n",
        "   print(f'ค่าตัวเเปร x คือ {x} เเละ x+2 = {x+2}')"
      ],
      "execution_count": 71,
      "outputs": [
        {
          "output_type": "stream",
          "text": [
            "ค่าตัวเเปร x คือ 1 เเละ x+2 = 3\n",
            "ค่าตัวเเปร x คือ 2 เเละ x+2 = 4\n",
            "ค่าตัวเเปร x คือ 3 เเละ x+2 = 5\n",
            "ค่าตัวเเปร x คือ 4 เเละ x+2 = 6\n",
            "ค่าตัวเเปร x คือ 5 เเละ x+2 = 7\n"
          ],
          "name": "stdout"
        }
      ]
    },
    {
      "cell_type": "code",
      "metadata": {
        "colab": {
          "base_uri": "https://localhost:8080/"
        },
        "id": "7Ko1DWv0HVfn",
        "outputId": "64212f97-954e-4c8a-a843-344071c48279"
      },
      "source": [
        "list(range(10)) #สร้างlist ที่มีค่าเริ่มจาก0"
      ],
      "execution_count": 72,
      "outputs": [
        {
          "output_type": "execute_result",
          "data": {
            "text/plain": [
              "[0, 1, 2, 3, 4, 5, 6, 7, 8, 9]"
            ]
          },
          "metadata": {
            "tags": []
          },
          "execution_count": 72
        }
      ]
    },
    {
      "cell_type": "code",
      "metadata": {
        "colab": {
          "base_uri": "https://localhost:8080/"
        },
        "id": "-pcAG95vHVdM",
        "outputId": "859e3b3e-3c32-4b87-8b38-6c5ced9d0656"
      },
      "source": [
        "for i in range(2,7): #การสร้างlist ที่เริ่มจาก 2 เเต่ไม่เอาตัวสุดท้ายมา\n",
        "   print(i)"
      ],
      "execution_count": 73,
      "outputs": [
        {
          "output_type": "stream",
          "text": [
            "2\n",
            "3\n",
            "4\n",
            "5\n",
            "6\n"
          ],
          "name": "stdout"
        }
      ]
    },
    {
      "cell_type": "code",
      "metadata": {
        "colab": {
          "base_uri": "https://localhost:8080/"
        },
        "id": "nxlVKtgMHVat",
        "outputId": "b42e60e5-be11-4988-86a1-032b34f3b6eb"
      },
      "source": [
        "for i in range(2,7,2): #จุดเริ่มถึงจุดจบกระโดดทีละ 2\n",
        "   print(i)"
      ],
      "execution_count": 74,
      "outputs": [
        {
          "output_type": "stream",
          "text": [
            "2\n",
            "4\n",
            "6\n"
          ],
          "name": "stdout"
        }
      ]
    },
    {
      "cell_type": "code",
      "metadata": {
        "colab": {
          "base_uri": "https://localhost:8080/"
        },
        "id": "iBRebgKzHVXo",
        "outputId": "f3044e52-b182-49b1-cfd2-08c5cd84b2bb"
      },
      "source": [
        "for i in range(5):\n",
        "   print('hahahaha') #วนลูป5รอบเเละเเสดงค่าออกมา"
      ],
      "execution_count": 75,
      "outputs": [
        {
          "output_type": "stream",
          "text": [
            "hahahaha\n",
            "hahahaha\n",
            "hahahaha\n",
            "hahahaha\n",
            "hahahaha\n"
          ],
          "name": "stdout"
        }
      ]
    },
    {
      "cell_type": "code",
      "metadata": {
        "colab": {
          "base_uri": "https://localhost:8080/"
        },
        "id": "6HatLuiCHVVE",
        "outputId": "f2dd1710-cc79-4a64-a063-785be3e1ebfc"
      },
      "source": [
        "for i in range(5): #วนลูป 5 รอบ\n",
        "   print('hahahaha') \n",
        "   x = i + 3 #โดยค่า x เริ่มต้นตั้งเเต่ 3 \n",
        "   print(f'i={i} x={x}')"
      ],
      "execution_count": 76,
      "outputs": [
        {
          "output_type": "stream",
          "text": [
            "hahahaha\n",
            "i=0 x=3\n",
            "hahahaha\n",
            "i=1 x=4\n",
            "hahahaha\n",
            "i=2 x=5\n",
            "hahahaha\n",
            "i=3 x=6\n",
            "hahahaha\n",
            "i=4 x=7\n"
          ],
          "name": "stdout"
        }
      ]
    },
    {
      "cell_type": "code",
      "metadata": {
        "colab": {
          "base_uri": "https://localhost:8080/"
        },
        "id": "MxpV-s_JHVTg",
        "outputId": "ad3e181c-cc90-4211-fa69-5b82d4773357"
      },
      "source": [
        "for i in range(5):\n",
        "   print('hahahaha')\n",
        "   x = i + 2 #เริ่มx ตั้งเเต่ 2 \n",
        "   print(f'i={i} x={x}')"
      ],
      "execution_count": 77,
      "outputs": [
        {
          "output_type": "stream",
          "text": [
            "hahahaha\n",
            "i=0 x=2\n",
            "hahahaha\n",
            "i=1 x=3\n",
            "hahahaha\n",
            "i=2 x=4\n",
            "hahahaha\n",
            "i=3 x=5\n",
            "hahahaha\n",
            "i=4 x=6\n"
          ],
          "name": "stdout"
        }
      ]
    },
    {
      "cell_type": "markdown",
      "metadata": {
        "id": "HuWj8ea3PH8X"
      },
      "source": [
        "### Nested loop \n",
        "\n",
        "###ลูปซ้อนลูปไปเรื่อยๆ"
      ]
    },
    {
      "cell_type": "code",
      "metadata": {
        "colab": {
          "base_uri": "https://localhost:8080/"
        },
        "id": "QtIC_YHFHVPY",
        "outputId": "12e0a992-a86b-4ea2-b920-dd562d665327"
      },
      "source": [
        "for i in range(3):\n",
        "   for j in range(4):\n",
        "      print(f'i = {i} j ={j} i+j= {i+j}') "
      ],
      "execution_count": 4,
      "outputs": [
        {
          "output_type": "stream",
          "text": [
            "i = 0 j =0 i+j= 0\n",
            "i = 0 j =1 i+j= 1\n",
            "i = 0 j =2 i+j= 2\n",
            "i = 0 j =3 i+j= 3\n",
            "i = 1 j =0 i+j= 1\n",
            "i = 1 j =1 i+j= 2\n",
            "i = 1 j =2 i+j= 3\n",
            "i = 1 j =3 i+j= 4\n",
            "i = 2 j =0 i+j= 2\n",
            "i = 2 j =1 i+j= 3\n",
            "i = 2 j =2 i+j= 4\n",
            "i = 2 j =3 i+j= 5\n"
          ],
          "name": "stdout"
        }
      ]
    },
    {
      "cell_type": "code",
      "metadata": {
        "colab": {
          "base_uri": "https://localhost:8080/"
        },
        "id": "vKdjd0y7HVNd",
        "outputId": "74ea08c7-1578-4eab-92e6-fdaa084b8868"
      },
      "source": [
        "for i in range(1):\n",
        "   for j in range(2):\n",
        "      print(f'i = {i} j ={j} i+j= {i+j}')"
      ],
      "execution_count": 3,
      "outputs": [
        {
          "output_type": "stream",
          "text": [
            "i = 0 j =0 i+j= 0\n",
            "i = 0 j =1 i+j= 1\n"
          ],
          "name": "stdout"
        }
      ]
    },
    {
      "cell_type": "code",
      "metadata": {
        "colab": {
          "base_uri": "https://localhost:8080/"
        },
        "id": "35h5wqYCHVJj",
        "outputId": "a61128bd-6132-4eac-fc14-437ca5331417"
      },
      "source": [
        "for i in range(2):\n",
        "   for j in range(2):\n",
        "      print(f'i = {i} j ={j} i+j= {i+j}')"
      ],
      "execution_count": 2,
      "outputs": [
        {
          "output_type": "stream",
          "text": [
            "i = 0 j =0 i+j= 0\n",
            "i = 0 j =1 i+j= 1\n",
            "i = 1 j =0 i+j= 1\n",
            "i = 1 j =1 i+j= 2\n"
          ],
          "name": "stdout"
        }
      ]
    },
    {
      "cell_type": "code",
      "metadata": {
        "colab": {
          "base_uri": "https://localhost:8080/"
        },
        "id": "HjY5xmcAQWOg",
        "outputId": "9e2624d7-252e-4e2e-c1ed-377ab918b220"
      },
      "source": [
        "for i in range(3):\n",
        "  print(f'now i = {i}')\n",
        "  print('start j loop')\n",
        "  for j in range(4):\n",
        "       print(f'i = {i} j ={j} i+j= {i+j}')\n",
        "  print('end j loop') "
      ],
      "execution_count": 1,
      "outputs": [
        {
          "output_type": "stream",
          "text": [
            "now i = 0\n",
            "start j loop\n",
            "i = 0 j =0 i+j= 0\n",
            "i = 0 j =1 i+j= 1\n",
            "i = 0 j =2 i+j= 2\n",
            "i = 0 j =3 i+j= 3\n",
            "end j loop\n",
            "now i = 1\n",
            "start j loop\n",
            "i = 1 j =0 i+j= 1\n",
            "i = 1 j =1 i+j= 2\n",
            "i = 1 j =2 i+j= 3\n",
            "i = 1 j =3 i+j= 4\n",
            "end j loop\n",
            "now i = 2\n",
            "start j loop\n",
            "i = 2 j =0 i+j= 2\n",
            "i = 2 j =1 i+j= 3\n",
            "i = 2 j =2 i+j= 4\n",
            "i = 2 j =3 i+j= 5\n",
            "end j loop\n"
          ],
          "name": "stdout"
        }
      ]
    },
    {
      "cell_type": "markdown",
      "metadata": {
        "id": "dchQ_8liFPno"
      },
      "source": [
        "### Condition (if statement)\n"
      ]
    },
    {
      "cell_type": "markdown",
      "metadata": {
        "id": "-PVx4HKDFaFV"
      },
      "source": [
        "```python\n",
        "if เงื่อนไขที่จะตรวจสอบ (โดยใช้สัญลักษณ์==,!=,<,>,<=,>=):\n",
        "   ถ้าเงื่อนไขเป็นจริง ทำงาน 1\n",
        "   ถ้าเงื่อนไขเป็นจริง ทำงาน 2\n",
        "```"
      ]
    },
    {
      "cell_type": "code",
      "metadata": {
        "id": "28mpB7DsRCa4",
        "colab": {
          "base_uri": "https://localhost:8080/"
        },
        "outputId": "476d606b-367c-47f7-efc1-db23559a8e30"
      },
      "source": [
        "Stringx = 'cpekofmiejferifjmdmceojcmijvhugyjhfyiyfvkgo8gvjhffi78hioufctyguf7fikugbu'\n",
        "\n",
        "if len(Stringx) > 30:\n",
        "  print(f'{Stringx} is longer than 30 characters') "
      ],
      "execution_count": 84,
      "outputs": [
        {
          "output_type": "stream",
          "text": [
            "cpekofmiejferifjmdmceojcmijvhugyjhfyiyfvkgo8gvjhffi78hioufctyguf7fikugbu is longer than 30 characters\n"
          ],
          "name": "stdout"
        }
      ]
    },
    {
      "cell_type": "code",
      "metadata": {
        "id": "TAchuL2pAsKL"
      },
      "source": [
        "Stringx = 'cpekofmiejferifjmdmceojcmijv'\n",
        "\n",
        "if len(Stringx) > 100:\n",
        "  print(f'{Stringx} is longer than 30 characters') "
      ],
      "execution_count": 85,
      "outputs": []
    },
    {
      "cell_type": "markdown",
      "metadata": {
        "id": "tvsaAH6CHcXH"
      },
      "source": [
        "```python\n",
        "if เงื่อนไขที่จะตรวจสอบ (โดยใช้สัญลักษณ์==,!=,<,>,<=,>=):\n",
        "   ถ้าเงื่อนไขเป็นจริง ทำงาน 1\n",
        "   ถ้าเงื่อนไขเป็นจริง ทำงาน 2\n",
        "elif เงื่อนไขที่จะตรวจสอบต่อไปถ้าเงื่อนไขข้างบนไม่เป็นจริง:\n",
        "   ถ้าเงื่อนไขเป็นจริง ทำงาน a1\n",
        "   ถ้าเงื่อนไขเป็นจริง ทำงาน a2\n",
        "elif เงื่อนไขที่จะตรวจสอบต่อไปถ้าเงื่อนไขข้างบนไม่เป็นจริง:\n",
        "   ถ้าเงื่อนไขเป็นจริง ทำงาน b1\n",
        "   ถ้าเงื่อนไขเป็นจริง ทำงาน b2 \n",
        "\n",
        "else #ตรวจสอบเงื่อนไขข้างบนเเล้วไม่เป็นจริง\n",
        "   ทำงานที่ X \n",
        "```"
      ]
    },
    {
      "cell_type": "code",
      "metadata": {
        "colab": {
          "base_uri": "https://localhost:8080/"
        },
        "id": "cwe4r3rKAsGa",
        "outputId": "e2354376-734e-45ef-9f5b-9c1d0bc3d806"
      },
      "source": [
        "Stringx = 'cpekofmiejferifjmdmceojcmijvukugo8guf9obh9p;bo8g'\n",
        "\n",
        "if len(Stringx) > 100:\n",
        "  print(f'{Stringx} is longer than 30 characters') \n",
        "else:\n",
        " print(f'{Stringx} in {len(Stringx)} characters long') #ดูว่าตัวหนังสือที่เราพิมพ์ถ้าไม่มีความยาวมากกว่าร้อยจะเเสดงผลเป็นตัวเลขออกมาคือ48"
      ],
      "execution_count": 91,
      "outputs": [
        {
          "output_type": "stream",
          "text": [
            "cpekofmiejferifjmdmceojcmijvukugo8guf9obh9p;bo8g in 48 characters long\n"
          ],
          "name": "stdout"
        }
      ]
    },
    {
      "cell_type": "code",
      "metadata": {
        "colab": {
          "base_uri": "https://localhost:8080/"
        },
        "id": "M8ETup61AsDX",
        "outputId": "b7ec5f08-1933-44e1-c8c1-c01bc7682842"
      },
      "source": [
        "Stringx = 'cpekofmiejferifjmdmceojcmijvhugyjhfyiyfvkgo8gvjhffi78hioufctyguf7fikugbu'\n",
        "\n",
        "if len(Stringx) < 100:\n",
        "  print(f'{Stringx} is longer than 100 characters') "
      ],
      "execution_count": 96,
      "outputs": [
        {
          "output_type": "stream",
          "text": [
            "cpekofmiejferifjmdmceojcmijvhugyjhfyiyfvkgo8gvjhffi78hioufctyguf7fikugbu is longer than 100 characters\n"
          ],
          "name": "stdout"
        }
      ]
    },
    {
      "cell_type": "code",
      "metadata": {
        "colab": {
          "base_uri": "https://localhost:8080/"
        },
        "id": "fFfMokn7LFEn",
        "outputId": "21b5b206-bf9e-4de5-9077-d4f079c35066"
      },
      "source": [
        "password = '12345'\n",
        "\n",
        "input_pass = '123'\n",
        "if input_pass == password:\n",
        "   print('Welcome!')\n",
        "elif len(input_pass) > len(password):\n",
        "   print('Too long, try again')\n",
        "elif len(input_pass) < len(password):\n",
        "   print('Too short , try again')\n",
        "else:\n",
        "   print('Wrong password , try again')"
      ],
      "execution_count": 97,
      "outputs": [
        {
          "output_type": "stream",
          "text": [
            "Too short , try again\n"
          ],
          "name": "stdout"
        }
      ]
    },
    {
      "cell_type": "markdown",
      "metadata": {
        "id": "4IT_3CXXK6cI"
      },
      "source": [
        "##Quiz 1 หา Min"
      ]
    },
    {
      "cell_type": "code",
      "metadata": {
        "id": "DFdkivqVNc8e"
      },
      "source": [
        "list_ex = [1,5,9,-19,-2,0] #หาค่าน้อยที่สุดใน list โดยไม่ใช้ function min commit ก่อน 10:30 : Quiz1)"
      ],
      "execution_count": 102,
      "outputs": []
    },
    {
      "cell_type": "code",
      "metadata": {
        "colab": {
          "base_uri": "https://localhost:8080/"
        },
        "id": "lXIXFyTfN159",
        "outputId": "111fb705-2aa3-4bfb-8dda-88bb18cfd53d"
      },
      "source": [
        "len(list_ex)\n",
        " "
      ],
      "execution_count": 104,
      "outputs": [
        {
          "output_type": "execute_result",
          "data": {
            "text/plain": [
              "6"
            ]
          },
          "metadata": {
            "tags": []
          },
          "execution_count": 104
        }
      ]
    },
    {
      "cell_type": "code",
      "metadata": {
        "colab": {
          "base_uri": "https://localhost:8080/"
        },
        "id": "v9w9t1OORLvM",
        "outputId": "4ca56766-ef04-4375-fdfd-26a636a45c87"
      },
      "source": [
        "list_ex[3:4:2]"
      ],
      "execution_count": 106,
      "outputs": [
        {
          "output_type": "execute_result",
          "data": {
            "text/plain": [
              "[-19]"
            ]
          },
          "metadata": {
            "tags": []
          },
          "execution_count": 106
        }
      ]
    },
    {
      "cell_type": "code",
      "metadata": {
        "colab": {
          "base_uri": "https://localhost:8080/"
        },
        "id": "qDaU0HDxQwbc",
        "outputId": "c5eb19ba-d9ba-4a9f-d619-03b5ed4a320a"
      },
      "source": [
        "min = 1000000\n",
        "print(list_ex)\n",
        "for i in list_ex:\n",
        "  print(f'now i = {i},min = {min}')\n",
        "  print('start condition')\n",
        "  if i < min: \n",
        "    print('i < min, update min -> {i}')\n",
        "    min = i \n",
        "  else:\n",
        "    print('i >= min , not update')\n",
        "    print('end condition , go to next i')\n",
        "\n",
        "print(min)\n"
      ],
      "execution_count": 110,
      "outputs": [
        {
          "output_type": "stream",
          "text": [
            "[1, 5, 9, -19, -2, 0]\n",
            "now i = 1,min = 1000000\n",
            "start condition\n",
            "i < min, update min -> {i}\n",
            "now i = 5,min = 1\n",
            "start condition\n",
            "i >= min , not update\n",
            "end condition , go to next i\n",
            "now i = 9,min = 1\n",
            "start condition\n",
            "i >= min , not update\n",
            "end condition , go to next i\n",
            "now i = -19,min = 1\n",
            "start condition\n",
            "i < min, update min -> {i}\n",
            "now i = -2,min = -19\n",
            "start condition\n",
            "i >= min , not update\n",
            "end condition , go to next i\n",
            "now i = 0,min = -19\n",
            "start condition\n",
            "i >= min , not update\n",
            "end condition , go to next i\n",
            "-19\n"
          ],
          "name": "stdout"
        }
      ]
    },
    {
      "cell_type": "markdown",
      "metadata": {
        "id": "nIXydlaBLHWX"
      },
      "source": [
        "##HW ตัดเกรด"
      ]
    },
    {
      "cell_type": "code",
      "metadata": {
        "id": "NDvCZkUcAsA7"
      },
      "source": [
        "score = [49,65,70,95,82,55,89,20,77,77,81,59,10] #ตัดเกรด คะเเนนใน list score (ใช้ if กับ for)"
      ],
      "execution_count": 111,
      "outputs": []
    },
    {
      "cell_type": "code",
      "metadata": {
        "id": "6CFddeduAsAF"
      },
      "source": [
        ""
      ],
      "execution_count": null,
      "outputs": []
    },
    {
      "cell_type": "code",
      "metadata": {
        "id": "KUvE0vc4Ar9B"
      },
      "source": [
        ""
      ],
      "execution_count": null,
      "outputs": []
    },
    {
      "cell_type": "code",
      "metadata": {
        "id": "z-f2WrA4Ar6V"
      },
      "source": [
        ""
      ],
      "execution_count": null,
      "outputs": []
    },
    {
      "cell_type": "code",
      "metadata": {
        "id": "lo4ksimBAr4F"
      },
      "source": [
        ""
      ],
      "execution_count": null,
      "outputs": []
    },
    {
      "cell_type": "code",
      "metadata": {
        "id": "CAprKb8kAr0Q"
      },
      "source": [
        ""
      ],
      "execution_count": null,
      "outputs": []
    },
    {
      "cell_type": "code",
      "metadata": {
        "id": "BzTtEIK_Arx5"
      },
      "source": [
        ""
      ],
      "execution_count": null,
      "outputs": []
    },
    {
      "cell_type": "code",
      "metadata": {
        "id": "ksiPF_3hArrO"
      },
      "source": [
        ""
      ],
      "execution_count": null,
      "outputs": []
    }
  ]
}