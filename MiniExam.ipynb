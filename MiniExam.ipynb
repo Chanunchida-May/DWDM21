{
  "nbformat": 4,
  "nbformat_minor": 0,
  "metadata": {
    "colab": {
      "name": "MiniExam.ipynb",
      "provenance": [],
      "include_colab_link": true
    },
    "kernelspec": {
      "name": "python3",
      "display_name": "Python 3"
    },
    "language_info": {
      "name": "python"
    }
  },
  "cells": [
    {
      "cell_type": "markdown",
      "metadata": {
        "id": "view-in-github",
        "colab_type": "text"
      },
      "source": [
        "<a href=\"https://colab.research.google.com/github/Chanunchida-May/DWDM21/blob/main/MiniExam.ipynb\" target=\"_parent\"><img src=\"https://colab.research.google.com/assets/colab-badge.svg\" alt=\"Open In Colab\"/></a>"
      ]
    },
    {
      "cell_type": "markdown",
      "metadata": {
        "id": "iPx-P2JWSAwz"
      },
      "source": [
        "### ข้อสอบ\n",
        "\n",
        "จาก data ```flights.csv``` และ ```airports.csv``` ใน https://drive.google.com/drive/folders/1EFo1_uQgWkRiXjezL0T4YwteYrsqU5MV?usp=sharing\n",
        "0. หารัฐที่มีจำนวนเครื่องบินขาเข้ามากที่สุดและน้อยที่สุด\n",
        "1. หารัฐที่มีจำนวนเครื่องบินขาออกมากที่สุดและน้อยที่สุด\n",
        "2. วาด Histogram แสดงจำนวนเครื่องบินขาออกของแต่ละวันในสัปดาห์\n",
        "3. สายการบินไหนมีเที่ยวบินมากที่สุดและน้อยที่สุด\n",
        "4. สายการบินอะไรมีความล่าช้ามากที่สุดและน้อยที่สุด\n",
        "5. ช่วงเช้าหรือช่วงบ่ายมีเครื่องบินขาเข้ามากกว่ากัน\n",
        "\n",
        "ให้นักศึกษาทำข้อสอบ 2 ข้อจากที่แสดงข้างบนโดยกรอกรหัสนักศึกษาลงใน function ```gen_exams()``` แล้ว run เพื่อให้ได้ข้อสอบที่นักศึกษาต้องทำ 2 ข้อ (ข้อละ 3 คะแนน)\n",
        "และให้นักศึกษาคิดโจทย์เองอีก 1 ข้อ (4 คะแนน)\n"
      ]
    },
    {
      "cell_type": "code",
      "metadata": {
        "id": "ZfBK6J_JOObY"
      },
      "source": [
        "import pandas as pd"
      ],
      "execution_count": 16,
      "outputs": []
    },
    {
      "cell_type": "code",
      "metadata": {
        "colab": {
          "base_uri": "https://localhost:8080/"
        },
        "id": "FtfT3pF0PL2x",
        "outputId": "9304a738-4f7b-46d9-d153-21e0386dbaff"
      },
      "source": [
        "from google.colab import drive \n",
        "drive.mount('/content/drive')"
      ],
      "execution_count": 17,
      "outputs": [
        {
          "output_type": "stream",
          "name": "stdout",
          "text": [
            "Drive already mounted at /content/drive; to attempt to forcibly remount, call drive.mount(\"/content/drive\", force_remount=True).\n"
          ]
        }
      ]
    },
    {
      "cell_type": "code",
      "metadata": {
        "id": "XhB2n7PAPPfr"
      },
      "source": [
        "import os"
      ],
      "execution_count": 18,
      "outputs": []
    },
    {
      "cell_type": "code",
      "metadata": {
        "colab": {
          "base_uri": "https://localhost:8080/",
          "height": 423
        },
        "id": "rDBac0rqPpVY",
        "outputId": "eb57c314-dcba-48b9-b4f7-4ecb1a6241ec"
      },
      "source": [
        "flights = pd.read_csv('/content/drive/MyDrive/DWDM2021_DATA/flights.csv')\n",
        "flights"
      ],
      "execution_count": 19,
      "outputs": [
        {
          "output_type": "execute_result",
          "data": {
            "text/html": [
              "<div>\n",
              "<style scoped>\n",
              "    .dataframe tbody tr th:only-of-type {\n",
              "        vertical-align: middle;\n",
              "    }\n",
              "\n",
              "    .dataframe tbody tr th {\n",
              "        vertical-align: top;\n",
              "    }\n",
              "\n",
              "    .dataframe thead th {\n",
              "        text-align: right;\n",
              "    }\n",
              "</style>\n",
              "<table border=\"1\" class=\"dataframe\">\n",
              "  <thead>\n",
              "    <tr style=\"text-align: right;\">\n",
              "      <th></th>\n",
              "      <th>วันในเดือน</th>\n",
              "      <th>วันในสัปดาห์</th>\n",
              "      <th>สายการบิน</th>\n",
              "      <th>รหัสสนามบินต้นทาง</th>\n",
              "      <th>รหัสสนามบินปลายทาง</th>\n",
              "      <th>ความล่าช้าขาออก</th>\n",
              "      <th>ความล่าช้าขาเข้า</th>\n",
              "    </tr>\n",
              "  </thead>\n",
              "  <tbody>\n",
              "    <tr>\n",
              "      <th>0</th>\n",
              "      <td>19</td>\n",
              "      <td>5</td>\n",
              "      <td>DL</td>\n",
              "      <td>11433</td>\n",
              "      <td>13303</td>\n",
              "      <td>-3</td>\n",
              "      <td>1</td>\n",
              "    </tr>\n",
              "    <tr>\n",
              "      <th>1</th>\n",
              "      <td>19</td>\n",
              "      <td>5</td>\n",
              "      <td>DL</td>\n",
              "      <td>14869</td>\n",
              "      <td>12478</td>\n",
              "      <td>0</td>\n",
              "      <td>-8</td>\n",
              "    </tr>\n",
              "    <tr>\n",
              "      <th>2</th>\n",
              "      <td>19</td>\n",
              "      <td>5</td>\n",
              "      <td>DL</td>\n",
              "      <td>14057</td>\n",
              "      <td>14869</td>\n",
              "      <td>-4</td>\n",
              "      <td>-15</td>\n",
              "    </tr>\n",
              "    <tr>\n",
              "      <th>3</th>\n",
              "      <td>19</td>\n",
              "      <td>5</td>\n",
              "      <td>DL</td>\n",
              "      <td>15016</td>\n",
              "      <td>11433</td>\n",
              "      <td>28</td>\n",
              "      <td>24</td>\n",
              "    </tr>\n",
              "    <tr>\n",
              "      <th>4</th>\n",
              "      <td>19</td>\n",
              "      <td>5</td>\n",
              "      <td>DL</td>\n",
              "      <td>11193</td>\n",
              "      <td>12892</td>\n",
              "      <td>-6</td>\n",
              "      <td>-11</td>\n",
              "    </tr>\n",
              "    <tr>\n",
              "      <th>...</th>\n",
              "      <td>...</td>\n",
              "      <td>...</td>\n",
              "      <td>...</td>\n",
              "      <td>...</td>\n",
              "      <td>...</td>\n",
              "      <td>...</td>\n",
              "      <td>...</td>\n",
              "    </tr>\n",
              "    <tr>\n",
              "      <th>2702213</th>\n",
              "      <td>19</td>\n",
              "      <td>6</td>\n",
              "      <td>DL</td>\n",
              "      <td>13204</td>\n",
              "      <td>14869</td>\n",
              "      <td>1</td>\n",
              "      <td>-3</td>\n",
              "    </tr>\n",
              "    <tr>\n",
              "      <th>2702214</th>\n",
              "      <td>19</td>\n",
              "      <td>6</td>\n",
              "      <td>DL</td>\n",
              "      <td>10397</td>\n",
              "      <td>13495</td>\n",
              "      <td>-2</td>\n",
              "      <td>-3</td>\n",
              "    </tr>\n",
              "    <tr>\n",
              "      <th>2702215</th>\n",
              "      <td>19</td>\n",
              "      <td>6</td>\n",
              "      <td>DL</td>\n",
              "      <td>10140</td>\n",
              "      <td>10397</td>\n",
              "      <td>18</td>\n",
              "      <td>9</td>\n",
              "    </tr>\n",
              "    <tr>\n",
              "      <th>2702216</th>\n",
              "      <td>19</td>\n",
              "      <td>6</td>\n",
              "      <td>DL</td>\n",
              "      <td>10397</td>\n",
              "      <td>13244</td>\n",
              "      <td>10</td>\n",
              "      <td>7</td>\n",
              "    </tr>\n",
              "    <tr>\n",
              "      <th>2702217</th>\n",
              "      <td>19</td>\n",
              "      <td>6</td>\n",
              "      <td>DL</td>\n",
              "      <td>10397</td>\n",
              "      <td>13487</td>\n",
              "      <td>0</td>\n",
              "      <td>-13</td>\n",
              "    </tr>\n",
              "  </tbody>\n",
              "</table>\n",
              "<p>2702218 rows × 7 columns</p>\n",
              "</div>"
            ],
            "text/plain": [
              "         วันในเดือน  วันในสัปดาห์  ... ความล่าช้าขาออก  ความล่าช้าขาเข้า\n",
              "0                19             5  ...              -3                 1\n",
              "1                19             5  ...               0                -8\n",
              "2                19             5  ...              -4               -15\n",
              "3                19             5  ...              28                24\n",
              "4                19             5  ...              -6               -11\n",
              "...             ...           ...  ...             ...               ...\n",
              "2702213          19             6  ...               1                -3\n",
              "2702214          19             6  ...              -2                -3\n",
              "2702215          19             6  ...              18                 9\n",
              "2702216          19             6  ...              10                 7\n",
              "2702217          19             6  ...               0               -13\n",
              "\n",
              "[2702218 rows x 7 columns]"
            ]
          },
          "metadata": {},
          "execution_count": 19
        }
      ]
    },
    {
      "cell_type": "code",
      "metadata": {
        "colab": {
          "base_uri": "https://localhost:8080/",
          "height": 423
        },
        "id": "jmidVX90P1lF",
        "outputId": "1f24f640-8373-478c-faec-1f7e2931af25"
      },
      "source": [
        "airports = pd.read_csv('/content/drive/MyDrive/DWDM2021_DATA/airports.csv')\n",
        "airports"
      ],
      "execution_count": 26,
      "outputs": [
        {
          "output_type": "execute_result",
          "data": {
            "text/html": [
              "<div>\n",
              "<style scoped>\n",
              "    .dataframe tbody tr th:only-of-type {\n",
              "        vertical-align: middle;\n",
              "    }\n",
              "\n",
              "    .dataframe tbody tr th {\n",
              "        vertical-align: top;\n",
              "    }\n",
              "\n",
              "    .dataframe thead th {\n",
              "        text-align: right;\n",
              "    }\n",
              "</style>\n",
              "<table border=\"1\" class=\"dataframe\">\n",
              "  <thead>\n",
              "    <tr style=\"text-align: right;\">\n",
              "      <th></th>\n",
              "      <th>รหัสสนามบิน</th>\n",
              "      <th>เมือง</th>\n",
              "      <th>รัฐ</th>\n",
              "      <th>ชื่อสนามบิน</th>\n",
              "    </tr>\n",
              "  </thead>\n",
              "  <tbody>\n",
              "    <tr>\n",
              "      <th>0</th>\n",
              "      <td>10165</td>\n",
              "      <td>Adak Island</td>\n",
              "      <td>AK</td>\n",
              "      <td>Adak</td>\n",
              "    </tr>\n",
              "    <tr>\n",
              "      <th>1</th>\n",
              "      <td>10299</td>\n",
              "      <td>Anchorage</td>\n",
              "      <td>AK</td>\n",
              "      <td>Ted Stevens Anchorage International</td>\n",
              "    </tr>\n",
              "    <tr>\n",
              "      <th>2</th>\n",
              "      <td>10304</td>\n",
              "      <td>Aniak</td>\n",
              "      <td>AK</td>\n",
              "      <td>Aniak Airport</td>\n",
              "    </tr>\n",
              "    <tr>\n",
              "      <th>3</th>\n",
              "      <td>10754</td>\n",
              "      <td>Barrow</td>\n",
              "      <td>AK</td>\n",
              "      <td>Wiley Post/Will Rogers Memorial</td>\n",
              "    </tr>\n",
              "    <tr>\n",
              "      <th>4</th>\n",
              "      <td>10551</td>\n",
              "      <td>Bethel</td>\n",
              "      <td>AK</td>\n",
              "      <td>Bethel Airport</td>\n",
              "    </tr>\n",
              "    <tr>\n",
              "      <th>...</th>\n",
              "      <td>...</td>\n",
              "      <td>...</td>\n",
              "      <td>...</td>\n",
              "      <td>...</td>\n",
              "    </tr>\n",
              "    <tr>\n",
              "      <th>360</th>\n",
              "      <td>11233</td>\n",
              "      <td>Cheyenne</td>\n",
              "      <td>WY</td>\n",
              "      <td>Cheyenne Regional/Jerry Olson Field</td>\n",
              "    </tr>\n",
              "    <tr>\n",
              "      <th>361</th>\n",
              "      <td>11097</td>\n",
              "      <td>Cody</td>\n",
              "      <td>WY</td>\n",
              "      <td>Yellowstone Regional</td>\n",
              "    </tr>\n",
              "    <tr>\n",
              "      <th>362</th>\n",
              "      <td>11865</td>\n",
              "      <td>Gillette</td>\n",
              "      <td>WY</td>\n",
              "      <td>Gillette Campbell County</td>\n",
              "    </tr>\n",
              "    <tr>\n",
              "      <th>363</th>\n",
              "      <td>12441</td>\n",
              "      <td>Jackson</td>\n",
              "      <td>WY</td>\n",
              "      <td>Jackson Hole</td>\n",
              "    </tr>\n",
              "    <tr>\n",
              "      <th>364</th>\n",
              "      <td>14543</td>\n",
              "      <td>Rock Springs</td>\n",
              "      <td>WY</td>\n",
              "      <td>Rock Springs Sweetwater County</td>\n",
              "    </tr>\n",
              "  </tbody>\n",
              "</table>\n",
              "<p>365 rows × 4 columns</p>\n",
              "</div>"
            ],
            "text/plain": [
              "     รหัสสนามบิน         เมือง รัฐ                          ชื่อสนามบิน\n",
              "0          10165   Adak Island  AK                                 Adak\n",
              "1          10299     Anchorage  AK  Ted Stevens Anchorage International\n",
              "2          10304         Aniak  AK                        Aniak Airport\n",
              "3          10754        Barrow  AK      Wiley Post/Will Rogers Memorial\n",
              "4          10551        Bethel  AK                       Bethel Airport\n",
              "..           ...           ...  ..                                  ...\n",
              "360        11233      Cheyenne  WY  Cheyenne Regional/Jerry Olson Field\n",
              "361        11097          Cody  WY                 Yellowstone Regional\n",
              "362        11865      Gillette  WY             Gillette Campbell County\n",
              "363        12441       Jackson  WY                         Jackson Hole\n",
              "364        14543  Rock Springs  WY       Rock Springs Sweetwater County\n",
              "\n",
              "[365 rows x 4 columns]"
            ]
          },
          "metadata": {},
          "execution_count": 26
        }
      ]
    },
    {
      "cell_type": "code",
      "metadata": {
        "id": "9vzby99vRVDH"
      },
      "source": [
        "def gen_exams(ID):\n",
        "    import math\n",
        "    a = int(ID[-1])%6\n",
        "    b = int(ID[-1])%3\n",
        "    print(f'รหัสนักศึกษา {ID} ทำข้อ {a} และ {b if a != b else 5-b}')"
      ],
      "execution_count": 21,
      "outputs": []
    },
    {
      "cell_type": "markdown",
      "metadata": {
        "id": "SRkSOtmhbv5G"
      },
      "source": [
        "ตัวอย่างการ run"
      ]
    },
    {
      "cell_type": "code",
      "metadata": {
        "colab": {
          "base_uri": "https://localhost:8080/"
        },
        "id": "zQQAtm8fZPYE",
        "outputId": "3fd6e1bb-a97a-49ec-fa6b-99f80cc9e96b"
      },
      "source": [
        "gen_exams('623020516-1')"
      ],
      "execution_count": 23,
      "outputs": [
        {
          "output_type": "stream",
          "name": "stdout",
          "text": [
            "รหัสนักศึกษา 623020516-1 ทำข้อ 1 และ 4\n"
          ]
        }
      ]
    },
    {
      "cell_type": "code",
      "metadata": {
        "id": "7LwjKe-4TeqH",
        "outputId": "d8f9af86-57c6-48fb-c603-2f462051cd1c",
        "colab": {
          "base_uri": "https://localhost:8080/",
          "height": 423
        }
      },
      "source": [
        "merged = flights.merge(airports,how='left',left_on='รหัสสนามบินต้นทาง',right_on='รหัสสนามบิน') #รวมตารางของflightsเเละairports\n",
        "merged"
      ],
      "execution_count": 147,
      "outputs": [
        {
          "output_type": "execute_result",
          "data": {
            "text/html": [
              "<div>\n",
              "<style scoped>\n",
              "    .dataframe tbody tr th:only-of-type {\n",
              "        vertical-align: middle;\n",
              "    }\n",
              "\n",
              "    .dataframe tbody tr th {\n",
              "        vertical-align: top;\n",
              "    }\n",
              "\n",
              "    .dataframe thead th {\n",
              "        text-align: right;\n",
              "    }\n",
              "</style>\n",
              "<table border=\"1\" class=\"dataframe\">\n",
              "  <thead>\n",
              "    <tr style=\"text-align: right;\">\n",
              "      <th></th>\n",
              "      <th>วันในเดือน</th>\n",
              "      <th>วันในสัปดาห์</th>\n",
              "      <th>สายการบิน</th>\n",
              "      <th>รหัสสนามบินต้นทาง</th>\n",
              "      <th>รหัสสนามบินปลายทาง</th>\n",
              "      <th>ความล่าช้าขาออก</th>\n",
              "      <th>ความล่าช้าขาเข้า</th>\n",
              "      <th>รหัสสนามบิน</th>\n",
              "      <th>เมือง</th>\n",
              "      <th>รัฐ</th>\n",
              "      <th>ชื่อสนามบิน</th>\n",
              "    </tr>\n",
              "  </thead>\n",
              "  <tbody>\n",
              "    <tr>\n",
              "      <th>0</th>\n",
              "      <td>19</td>\n",
              "      <td>5</td>\n",
              "      <td>DL</td>\n",
              "      <td>11433</td>\n",
              "      <td>13303</td>\n",
              "      <td>-3</td>\n",
              "      <td>1</td>\n",
              "      <td>11433</td>\n",
              "      <td>Detroit</td>\n",
              "      <td>MI</td>\n",
              "      <td>Detroit Metro Wayne County</td>\n",
              "    </tr>\n",
              "    <tr>\n",
              "      <th>1</th>\n",
              "      <td>19</td>\n",
              "      <td>5</td>\n",
              "      <td>DL</td>\n",
              "      <td>14869</td>\n",
              "      <td>12478</td>\n",
              "      <td>0</td>\n",
              "      <td>-8</td>\n",
              "      <td>14869</td>\n",
              "      <td>Salt Lake City</td>\n",
              "      <td>UT</td>\n",
              "      <td>Salt Lake City International</td>\n",
              "    </tr>\n",
              "    <tr>\n",
              "      <th>2</th>\n",
              "      <td>19</td>\n",
              "      <td>5</td>\n",
              "      <td>DL</td>\n",
              "      <td>14057</td>\n",
              "      <td>14869</td>\n",
              "      <td>-4</td>\n",
              "      <td>-15</td>\n",
              "      <td>14057</td>\n",
              "      <td>Portland</td>\n",
              "      <td>OR</td>\n",
              "      <td>Portland International</td>\n",
              "    </tr>\n",
              "    <tr>\n",
              "      <th>3</th>\n",
              "      <td>19</td>\n",
              "      <td>5</td>\n",
              "      <td>DL</td>\n",
              "      <td>15016</td>\n",
              "      <td>11433</td>\n",
              "      <td>28</td>\n",
              "      <td>24</td>\n",
              "      <td>15016</td>\n",
              "      <td>St. Louis</td>\n",
              "      <td>MO</td>\n",
              "      <td>Lambert-St. Louis International</td>\n",
              "    </tr>\n",
              "    <tr>\n",
              "      <th>4</th>\n",
              "      <td>19</td>\n",
              "      <td>5</td>\n",
              "      <td>DL</td>\n",
              "      <td>11193</td>\n",
              "      <td>12892</td>\n",
              "      <td>-6</td>\n",
              "      <td>-11</td>\n",
              "      <td>11193</td>\n",
              "      <td>Cincinnati</td>\n",
              "      <td>OH</td>\n",
              "      <td>Cincinnati/Northern Kentucky International</td>\n",
              "    </tr>\n",
              "    <tr>\n",
              "      <th>...</th>\n",
              "      <td>...</td>\n",
              "      <td>...</td>\n",
              "      <td>...</td>\n",
              "      <td>...</td>\n",
              "      <td>...</td>\n",
              "      <td>...</td>\n",
              "      <td>...</td>\n",
              "      <td>...</td>\n",
              "      <td>...</td>\n",
              "      <td>...</td>\n",
              "      <td>...</td>\n",
              "    </tr>\n",
              "    <tr>\n",
              "      <th>2702213</th>\n",
              "      <td>19</td>\n",
              "      <td>6</td>\n",
              "      <td>DL</td>\n",
              "      <td>13204</td>\n",
              "      <td>14869</td>\n",
              "      <td>1</td>\n",
              "      <td>-3</td>\n",
              "      <td>13204</td>\n",
              "      <td>Orlando</td>\n",
              "      <td>FL</td>\n",
              "      <td>Orlando International</td>\n",
              "    </tr>\n",
              "    <tr>\n",
              "      <th>2702214</th>\n",
              "      <td>19</td>\n",
              "      <td>6</td>\n",
              "      <td>DL</td>\n",
              "      <td>10397</td>\n",
              "      <td>13495</td>\n",
              "      <td>-2</td>\n",
              "      <td>-3</td>\n",
              "      <td>10397</td>\n",
              "      <td>Atlanta</td>\n",
              "      <td>GA</td>\n",
              "      <td>Hartsfield-Jackson Atlanta International</td>\n",
              "    </tr>\n",
              "    <tr>\n",
              "      <th>2702215</th>\n",
              "      <td>19</td>\n",
              "      <td>6</td>\n",
              "      <td>DL</td>\n",
              "      <td>10140</td>\n",
              "      <td>10397</td>\n",
              "      <td>18</td>\n",
              "      <td>9</td>\n",
              "      <td>10140</td>\n",
              "      <td>Albuquerque</td>\n",
              "      <td>NM</td>\n",
              "      <td>Albuquerque International Sunport</td>\n",
              "    </tr>\n",
              "    <tr>\n",
              "      <th>2702216</th>\n",
              "      <td>19</td>\n",
              "      <td>6</td>\n",
              "      <td>DL</td>\n",
              "      <td>10397</td>\n",
              "      <td>13244</td>\n",
              "      <td>10</td>\n",
              "      <td>7</td>\n",
              "      <td>10397</td>\n",
              "      <td>Atlanta</td>\n",
              "      <td>GA</td>\n",
              "      <td>Hartsfield-Jackson Atlanta International</td>\n",
              "    </tr>\n",
              "    <tr>\n",
              "      <th>2702217</th>\n",
              "      <td>19</td>\n",
              "      <td>6</td>\n",
              "      <td>DL</td>\n",
              "      <td>10397</td>\n",
              "      <td>13487</td>\n",
              "      <td>0</td>\n",
              "      <td>-13</td>\n",
              "      <td>10397</td>\n",
              "      <td>Atlanta</td>\n",
              "      <td>GA</td>\n",
              "      <td>Hartsfield-Jackson Atlanta International</td>\n",
              "    </tr>\n",
              "  </tbody>\n",
              "</table>\n",
              "<p>2702218 rows × 11 columns</p>\n",
              "</div>"
            ],
            "text/plain": [
              "         วันในเดือน  ...                                 ชื่อสนามบิน\n",
              "0                19  ...                  Detroit Metro Wayne County\n",
              "1                19  ...                Salt Lake City International\n",
              "2                19  ...                      Portland International\n",
              "3                19  ...             Lambert-St. Louis International\n",
              "4                19  ...  Cincinnati/Northern Kentucky International\n",
              "...             ...  ...                                         ...\n",
              "2702213          19  ...                       Orlando International\n",
              "2702214          19  ...    Hartsfield-Jackson Atlanta International\n",
              "2702215          19  ...           Albuquerque International Sunport\n",
              "2702216          19  ...    Hartsfield-Jackson Atlanta International\n",
              "2702217          19  ...    Hartsfield-Jackson Atlanta International\n",
              "\n",
              "[2702218 rows x 11 columns]"
            ]
          },
          "metadata": {},
          "execution_count": 147
        }
      ]
    },
    {
      "cell_type": "code",
      "metadata": {
        "id": "MMlntW5ofAwb",
        "outputId": "9bb6e2f2-d09e-4d5f-ba01-4ee3bd42dd74",
        "colab": {
          "base_uri": "https://localhost:8080/"
        }
      },
      "source": [
        "merged.isnull().any() #ตรวจดูค่าmissing"
      ],
      "execution_count": 145,
      "outputs": [
        {
          "output_type": "execute_result",
          "data": {
            "text/plain": [
              "รหัสสนามบินต้นทาง    False\n",
              "รัฐ                  False\n",
              "dtype: bool"
            ]
          },
          "metadata": {},
          "execution_count": 145
        }
      ]
    },
    {
      "cell_type": "markdown",
      "metadata": {
        "id": "_-sCHke-QFf8"
      },
      "source": [
        "###1.หารัฐที่มีจำนวนเครื่องบินขาออกมากที่สุดและน้อยที่สุด"
      ]
    },
    {
      "cell_type": "code",
      "metadata": {
        "id": "-87zc_bMgMKC",
        "outputId": "b6bedf49-ce76-4ced-c899-84fd8a370a32",
        "colab": {
          "base_uri": "https://localhost:8080/"
        }
      },
      "source": [
        "merged['รหัสสนามบินต้นทาง'].max() #ดูจำนวนเครื่องบินขาออกที่มีค่ามากสุด"
      ],
      "execution_count": 140,
      "outputs": [
        {
          "output_type": "execute_result",
          "data": {
            "text/plain": [
              "15376"
            ]
          },
          "metadata": {},
          "execution_count": 140
        }
      ]
    },
    {
      "cell_type": "code",
      "metadata": {
        "id": "Be3X8V8dnOZ_",
        "outputId": "746837d3-902d-43f3-c676-a4fd5f187436",
        "colab": {
          "base_uri": "https://localhost:8080/",
          "height": 112
        }
      },
      "source": [
        "Flightsmax = merged.groupby('รัฐ').max().sort_values(by=['รหัสสนามบินต้นทาง'],ascending=False)\n",
        "Flightsmax.iloc[:1,:] "
      ],
      "execution_count": 141,
      "outputs": [
        {
          "output_type": "execute_result",
          "data": {
            "text/html": [
              "<div>\n",
              "<style scoped>\n",
              "    .dataframe tbody tr th:only-of-type {\n",
              "        vertical-align: middle;\n",
              "    }\n",
              "\n",
              "    .dataframe tbody tr th {\n",
              "        vertical-align: top;\n",
              "    }\n",
              "\n",
              "    .dataframe thead th {\n",
              "        text-align: right;\n",
              "    }\n",
              "</style>\n",
              "<table border=\"1\" class=\"dataframe\">\n",
              "  <thead>\n",
              "    <tr style=\"text-align: right;\">\n",
              "      <th></th>\n",
              "      <th>รหัสสนามบินต้นทาง</th>\n",
              "    </tr>\n",
              "    <tr>\n",
              "      <th>รัฐ</th>\n",
              "      <th></th>\n",
              "    </tr>\n",
              "  </thead>\n",
              "  <tbody>\n",
              "    <tr>\n",
              "      <th>AZ</th>\n",
              "      <td>15376</td>\n",
              "    </tr>\n",
              "  </tbody>\n",
              "</table>\n",
              "</div>"
            ],
            "text/plain": [
              "     รหัสสนามบินต้นทาง\n",
              "รัฐ                   \n",
              "AZ               15376"
            ]
          },
          "metadata": {},
          "execution_count": 141
        }
      ]
    },
    {
      "cell_type": "code",
      "metadata": {
        "id": "ZSuOlgW4iogZ",
        "outputId": "56ee7934-37ac-4347-9f3a-4c2216777ccc",
        "colab": {
          "base_uri": "https://localhost:8080/"
        }
      },
      "source": [
        "merged['รหัสสนามบินต้นทาง'].min() #ดูจำนวนเครื่องบินขาออกที่มีค่าน้อยสุด"
      ],
      "execution_count": 142,
      "outputs": [
        {
          "output_type": "execute_result",
          "data": {
            "text/plain": [
              "10140"
            ]
          },
          "metadata": {},
          "execution_count": 142
        }
      ]
    },
    {
      "cell_type": "code",
      "metadata": {
        "id": "YOYuMPvmn0_z",
        "outputId": "f15f2569-5a36-4c00-9ac7-e153942af164",
        "colab": {
          "base_uri": "https://localhost:8080/",
          "height": 112
        }
      },
      "source": [
        "Flightsmin = merged.groupby('รัฐ').min().sort_values(by=['รหัสสนามบินต้นทาง'],ascending=False) \n",
        "Flightsmin.iloc[-1:,:]"
      ],
      "execution_count": 143,
      "outputs": [
        {
          "output_type": "execute_result",
          "data": {
            "text/html": [
              "<div>\n",
              "<style scoped>\n",
              "    .dataframe tbody tr th:only-of-type {\n",
              "        vertical-align: middle;\n",
              "    }\n",
              "\n",
              "    .dataframe tbody tr th {\n",
              "        vertical-align: top;\n",
              "    }\n",
              "\n",
              "    .dataframe thead th {\n",
              "        text-align: right;\n",
              "    }\n",
              "</style>\n",
              "<table border=\"1\" class=\"dataframe\">\n",
              "  <thead>\n",
              "    <tr style=\"text-align: right;\">\n",
              "      <th></th>\n",
              "      <th>รหัสสนามบินต้นทาง</th>\n",
              "    </tr>\n",
              "    <tr>\n",
              "      <th>รัฐ</th>\n",
              "      <th></th>\n",
              "    </tr>\n",
              "  </thead>\n",
              "  <tbody>\n",
              "    <tr>\n",
              "      <th>NM</th>\n",
              "      <td>10140</td>\n",
              "    </tr>\n",
              "  </tbody>\n",
              "</table>\n",
              "</div>"
            ],
            "text/plain": [
              "     รหัสสนามบินต้นทาง\n",
              "รัฐ                   \n",
              "NM               10140"
            ]
          },
          "metadata": {},
          "execution_count": 143
        }
      ]
    },
    {
      "cell_type": "markdown",
      "metadata": {
        "id": "dsixIH0wRcGJ"
      },
      "source": [
        "###4.สายการบินอะไรมีความล่าช้ามากที่สุดและน้อยที่สุด"
      ]
    },
    {
      "cell_type": "code",
      "metadata": {
        "id": "rXFgwoidwpK3",
        "outputId": "8b342f23-97dc-4085-fe3b-d73fd2ab66c4",
        "colab": {
          "base_uri": "https://localhost:8080/",
          "height": 35
        }
      },
      "source": [
        "merged['สายการบิน'].max() #สายการบินที่มีความล่าช้าค่ามากสุด"
      ],
      "execution_count": 157,
      "outputs": [
        {
          "output_type": "execute_result",
          "data": {
            "application/vnd.google.colaboratory.intrinsic+json": {
              "type": "string"
            },
            "text/plain": [
              "'YV'"
            ]
          },
          "metadata": {},
          "execution_count": 157
        }
      ]
    },
    {
      "cell_type": "code",
      "metadata": {
        "id": "7nG62NuiwyET",
        "outputId": "9dc6ee06-1dae-4c12-face-9b956cd1657e",
        "colab": {
          "base_uri": "https://localhost:8080/",
          "height": 35
        }
      },
      "source": [
        "merged['สายการบิน'].min() #สายการบินที่มีความล่าช้าค่าน้อยสุด"
      ],
      "execution_count": 158,
      "outputs": [
        {
          "output_type": "execute_result",
          "data": {
            "application/vnd.google.colaboratory.intrinsic+json": {
              "type": "string"
            },
            "text/plain": [
              "'9E'"
            ]
          },
          "metadata": {},
          "execution_count": 158
        }
      ]
    },
    {
      "cell_type": "code",
      "metadata": {
        "id": "t_vHjI7du2FO",
        "outputId": "dc9d74b9-b986-4505-a7c8-9d6fc4f9a237",
        "colab": {
          "base_uri": "https://localhost:8080/",
          "height": 112
        }
      },
      "source": [
        "Flightsmax1 = merged.groupby('สายการบิน').max().sort_values(by=['รหัสสนามบินต้นทาง'],ascending=False) #ดูสายการบินว่าสายการบินไหนมีความล่าช้าน้อยที่สุด \n",
        "Flightsmax1.iloc[:1,:]"
      ],
      "execution_count": 156,
      "outputs": [
        {
          "output_type": "execute_result",
          "data": {
            "text/html": [
              "<div>\n",
              "<style scoped>\n",
              "    .dataframe tbody tr th:only-of-type {\n",
              "        vertical-align: middle;\n",
              "    }\n",
              "\n",
              "    .dataframe tbody tr th {\n",
              "        vertical-align: top;\n",
              "    }\n",
              "\n",
              "    .dataframe thead th {\n",
              "        text-align: right;\n",
              "    }\n",
              "</style>\n",
              "<table border=\"1\" class=\"dataframe\">\n",
              "  <thead>\n",
              "    <tr style=\"text-align: right;\">\n",
              "      <th></th>\n",
              "      <th>วันในเดือน</th>\n",
              "      <th>วันในสัปดาห์</th>\n",
              "      <th>รหัสสนามบินต้นทาง</th>\n",
              "      <th>รหัสสนามบินปลายทาง</th>\n",
              "      <th>ความล่าช้าขาออก</th>\n",
              "      <th>ความล่าช้าขาเข้า</th>\n",
              "      <th>รหัสสนามบิน</th>\n",
              "      <th>เมือง</th>\n",
              "      <th>รัฐ</th>\n",
              "      <th>ชื่อสนามบิน</th>\n",
              "    </tr>\n",
              "    <tr>\n",
              "      <th>สายการบิน</th>\n",
              "      <th></th>\n",
              "      <th></th>\n",
              "      <th></th>\n",
              "      <th></th>\n",
              "      <th></th>\n",
              "      <th></th>\n",
              "      <th></th>\n",
              "      <th></th>\n",
              "      <th></th>\n",
              "      <th></th>\n",
              "    </tr>\n",
              "  </thead>\n",
              "  <tbody>\n",
              "    <tr>\n",
              "      <th>9E</th>\n",
              "      <td>31</td>\n",
              "      <td>7</td>\n",
              "      <td>15376</td>\n",
              "      <td>15376</td>\n",
              "      <td>710</td>\n",
              "      <td>700</td>\n",
              "      <td>15376</td>\n",
              "      <td>Washington</td>\n",
              "      <td>WI</td>\n",
              "      <td>William P Hobby</td>\n",
              "    </tr>\n",
              "  </tbody>\n",
              "</table>\n",
              "</div>"
            ],
            "text/plain": [
              "           วันในเดือน  วันในสัปดาห์  ...  รัฐ      ชื่อสนามบิน\n",
              "สายการบิน                            ...                      \n",
              "9E                 31             7  ...   WI  William P Hobby\n",
              "\n",
              "[1 rows x 10 columns]"
            ]
          },
          "metadata": {},
          "execution_count": 156
        }
      ]
    },
    {
      "cell_type": "markdown",
      "metadata": {
        "id": "XSMF9sKAvKrj"
      },
      "source": [
        "ตอบ สายการบิน 9E มีความล่าช้าขาออก 710 เเละ ความล่าช้าขาเข้า 700\n",
        "\n"
      ]
    },
    {
      "cell_type": "code",
      "metadata": {
        "id": "J1GYLUPUojy_",
        "outputId": "4127f9c7-6cd2-42e8-fa75-417e04c0829f",
        "colab": {
          "base_uri": "https://localhost:8080/",
          "height": 112
        }
      },
      "source": [
        "Flightsmin1 = merged.groupby('สายการบิน').min().sort_values(by=['รหัสสนามบินต้นทาง'],ascending=False) #ดูสายการบินว่าสายการบินไหนมีความล่าช้ามากที่สุด \n",
        "Flightsmin1.iloc[-1:,:]"
      ],
      "execution_count": 153,
      "outputs": [
        {
          "output_type": "execute_result",
          "data": {
            "text/html": [
              "<div>\n",
              "<style scoped>\n",
              "    .dataframe tbody tr th:only-of-type {\n",
              "        vertical-align: middle;\n",
              "    }\n",
              "\n",
              "    .dataframe tbody tr th {\n",
              "        vertical-align: top;\n",
              "    }\n",
              "\n",
              "    .dataframe thead th {\n",
              "        text-align: right;\n",
              "    }\n",
              "</style>\n",
              "<table border=\"1\" class=\"dataframe\">\n",
              "  <thead>\n",
              "    <tr style=\"text-align: right;\">\n",
              "      <th></th>\n",
              "      <th>วันในเดือน</th>\n",
              "      <th>วันในสัปดาห์</th>\n",
              "      <th>รหัสสนามบินต้นทาง</th>\n",
              "      <th>รหัสสนามบินปลายทาง</th>\n",
              "      <th>ความล่าช้าขาออก</th>\n",
              "      <th>ความล่าช้าขาเข้า</th>\n",
              "      <th>รหัสสนามบิน</th>\n",
              "      <th>เมือง</th>\n",
              "      <th>รัฐ</th>\n",
              "      <th>ชื่อสนามบิน</th>\n",
              "    </tr>\n",
              "    <tr>\n",
              "      <th>สายการบิน</th>\n",
              "      <th></th>\n",
              "      <th></th>\n",
              "      <th></th>\n",
              "      <th></th>\n",
              "      <th></th>\n",
              "      <th></th>\n",
              "      <th></th>\n",
              "      <th></th>\n",
              "      <th></th>\n",
              "      <th></th>\n",
              "    </tr>\n",
              "  </thead>\n",
              "  <tbody>\n",
              "    <tr>\n",
              "      <th>YV</th>\n",
              "      <td>1</td>\n",
              "      <td>1</td>\n",
              "      <td>10140</td>\n",
              "      <td>10140</td>\n",
              "      <td>-31</td>\n",
              "      <td>-94</td>\n",
              "      <td>10140</td>\n",
              "      <td>Albuquerque</td>\n",
              "      <td>AZ</td>\n",
              "      <td>Albuquerque International Sunport</td>\n",
              "    </tr>\n",
              "  </tbody>\n",
              "</table>\n",
              "</div>"
            ],
            "text/plain": [
              "           วันในเดือน  วันในสัปดาห์  ...  รัฐ                        ชื่อสนามบิน\n",
              "สายการบิน                            ...                                        \n",
              "YV                  1             1  ...   AZ  Albuquerque International Sunport\n",
              "\n",
              "[1 rows x 10 columns]"
            ]
          },
          "metadata": {},
          "execution_count": 153
        }
      ]
    },
    {
      "cell_type": "markdown",
      "metadata": {
        "id": "y31DHYyevUmr"
      },
      "source": [
        "ตอบ สายการบิน YV มีความล่าช้าขาออก -31 เเละ ความล่าช้าขาเข้า -94"
      ]
    },
    {
      "cell_type": "markdown",
      "metadata": {
        "id": "10x5GFcnhMt1"
      },
      "source": [
        "###เเต่รัฐทั้งหมดมีสนามบินกี่เเห่ง"
      ]
    },
    {
      "cell_type": "code",
      "metadata": {
        "id": "QtBTJHassQva",
        "outputId": "3e126b67-ee19-4e48-b15b-f89e7450b273",
        "colab": {
          "base_uri": "https://localhost:8080/"
        }
      },
      "source": [
        "set(merged['ชื่อสนามบิน']) "
      ],
      "execution_count": 162,
      "outputs": [
        {
          "output_type": "execute_result",
          "data": {
            "text/plain": [
              "{'Albuquerque International Sunport',\n",
              " 'Austin - Bergstrom International',\n",
              " 'Baltimore/Washington International Thurgood Marshall',\n",
              " 'Bob Hope',\n",
              " 'Bradley International',\n",
              " 'Buffalo Niagara International',\n",
              " 'Charlotte Douglas International',\n",
              " 'Chicago Midway International',\n",
              " \"Chicago O'Hare International\",\n",
              " 'Cincinnati/Northern Kentucky International',\n",
              " 'Cleveland-Hopkins International',\n",
              " 'Dallas Love Field',\n",
              " 'Dallas/Fort Worth International',\n",
              " 'Denver International',\n",
              " 'Detroit Metro Wayne County',\n",
              " 'Eppley Airfield',\n",
              " 'Fort Lauderdale-Hollywood International',\n",
              " 'General Mitchell International',\n",
              " 'George Bush Intercontinental/Houston',\n",
              " 'Hartsfield-Jackson Atlanta International',\n",
              " 'Honolulu International',\n",
              " 'Indianapolis International',\n",
              " 'Jacksonville International',\n",
              " 'John F. Kennedy International',\n",
              " 'John Wayne Airport-Orange County',\n",
              " 'Kahului Airport',\n",
              " 'Kansas City International',\n",
              " 'LaGuardia',\n",
              " 'Lambert-St. Louis International',\n",
              " 'Logan International',\n",
              " 'Long Beach Airport',\n",
              " 'Los Angeles International',\n",
              " 'Louis Armstrong New Orleans International',\n",
              " 'Louisville International-Standiford Field',\n",
              " 'Luis Munoz Marin International',\n",
              " 'McCarran International',\n",
              " 'Memphis International',\n",
              " 'Metropolitan Oakland International',\n",
              " 'Miami International',\n",
              " 'Minneapolis-St Paul International',\n",
              " 'Nashville International',\n",
              " 'Newark Liberty International',\n",
              " 'Norfolk International',\n",
              " 'Norman Y. Mineta San Jose International',\n",
              " 'Ontario International',\n",
              " 'Orlando International',\n",
              " 'Palm Beach International',\n",
              " 'Philadelphia International',\n",
              " 'Phoenix Sky Harbor International',\n",
              " 'Pittsburgh International',\n",
              " 'Port Columbus International',\n",
              " 'Portland International',\n",
              " 'Raleigh-Durham International',\n",
              " 'Reno/Tahoe International',\n",
              " 'Richmond International',\n",
              " 'Ronald Reagan Washington National',\n",
              " 'Sacramento International',\n",
              " 'Salt Lake City International',\n",
              " 'San Antonio International',\n",
              " 'San Diego International',\n",
              " 'San Francisco International',\n",
              " 'Seattle/Tacoma International',\n",
              " 'Southwest Florida International',\n",
              " 'Tampa International',\n",
              " 'Ted Stevens Anchorage International',\n",
              " 'Theodore Francis Green State',\n",
              " 'Tucson International',\n",
              " 'Washington Dulles International',\n",
              " 'Will Rogers World',\n",
              " 'William P Hobby'}"
            ]
          },
          "metadata": {},
          "execution_count": 162
        }
      ]
    },
    {
      "cell_type": "code",
      "metadata": {
        "id": "f_aCMLISsntR",
        "outputId": "36101f29-debf-4611-c754-ec107424cbac",
        "colab": {
          "base_uri": "https://localhost:8080/"
        }
      },
      "source": [
        "len(set(merged['ชื่อสนามบิน'])) "
      ],
      "execution_count": 163,
      "outputs": [
        {
          "output_type": "execute_result",
          "data": {
            "text/plain": [
              "70"
            ]
          },
          "metadata": {},
          "execution_count": 163
        }
      ]
    },
    {
      "cell_type": "code",
      "metadata": {
        "id": "5Q9jPZI-snq7"
      },
      "source": [
        ""
      ],
      "execution_count": null,
      "outputs": []
    },
    {
      "cell_type": "code",
      "metadata": {
        "id": "K4lKUVlLsnom"
      },
      "source": [
        ""
      ],
      "execution_count": null,
      "outputs": []
    },
    {
      "cell_type": "code",
      "metadata": {
        "id": "QxZvGVKHsnmB"
      },
      "source": [
        ""
      ],
      "execution_count": null,
      "outputs": []
    },
    {
      "cell_type": "code",
      "metadata": {
        "id": "YCSBmVEnsnjo"
      },
      "source": [
        ""
      ],
      "execution_count": null,
      "outputs": []
    }
  ]
}