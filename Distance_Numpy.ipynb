{
  "nbformat": 4,
  "nbformat_minor": 0,
  "metadata": {
    "colab": {
      "name": "Distance_Numpy.ipynb",
      "provenance": [],
      "include_colab_link": true
    },
    "kernelspec": {
      "name": "python3",
      "display_name": "Python 3"
    },
    "language_info": {
      "name": "python"
    }
  },
  "cells": [
    {
      "cell_type": "markdown",
      "metadata": {
        "id": "view-in-github",
        "colab_type": "text"
      },
      "source": [
        "<a href=\"https://colab.research.google.com/github/Chanunchida-May/DWDM21/blob/main/Distance_Numpy.ipynb\" target=\"_parent\"><img src=\"https://colab.research.google.com/assets/colab-badge.svg\" alt=\"Open In Colab\"/></a>"
      ]
    },
    {
      "cell_type": "code",
      "metadata": {
        "id": "ZlsJEb-7sfPe"
      },
      "source": [
        "import numpy as np # package สำหรับทำงานกับข้อมูลที่เป็นตัวเลข (อยู่ในรูปแบบ matrix)"
      ],
      "execution_count": 1,
      "outputs": []
    },
    {
      "cell_type": "markdown",
      "metadata": {
        "id": "kLV_xD7ssoqG"
      },
      "source": [
        "###Numpy Array"
      ]
    },
    {
      "cell_type": "markdown",
      "metadata": {
        "id": "mvATTmzisxGh"
      },
      "source": [
        "สร้าง numpy array"
      ]
    },
    {
      "cell_type": "code",
      "metadata": {
        "id": "Zj9QSAkGskbB"
      },
      "source": [
        "np_a = np.array([[1,2,3],[4,5,6]]) # สร้าง numpy array ที่มี 2 แถว 3 หลัก "
      ],
      "execution_count": 2,
      "outputs": []
    },
    {
      "cell_type": "code",
      "metadata": {
        "colab": {
          "base_uri": "https://localhost:8080/"
        },
        "id": "U9lOswE6skYj",
        "outputId": "a962848e-0b07-4c87-b7d3-835663e59545"
      },
      "source": [
        "np_a"
      ],
      "execution_count": 3,
      "outputs": [
        {
          "output_type": "execute_result",
          "data": {
            "text/plain": [
              "array([[1, 2, 3],\n",
              "       [4, 5, 6]])"
            ]
          },
          "metadata": {},
          "execution_count": 3
        }
      ]
    },
    {
      "cell_type": "code",
      "metadata": {
        "colab": {
          "base_uri": "https://localhost:8080/"
        },
        "id": "A_g73rJTskWN",
        "outputId": "dc380cb6-b9a7-4ae5-d8de-ad179360cc5f"
      },
      "source": [
        "np_a.shape"
      ],
      "execution_count": 4,
      "outputs": [
        {
          "output_type": "execute_result",
          "data": {
            "text/plain": [
              "(2, 3)"
            ]
          },
          "metadata": {},
          "execution_count": 4
        }
      ]
    },
    {
      "cell_type": "code",
      "metadata": {
        "colab": {
          "base_uri": "https://localhost:8080/"
        },
        "id": "0q7BHHwwskUB",
        "outputId": "bc57f485-4c27-405a-d415-424b000d4871"
      },
      "source": [
        "np_b = np.array([[1,4],[2,5],[3,6]])\n",
        "np_b"
      ],
      "execution_count": 5,
      "outputs": [
        {
          "output_type": "execute_result",
          "data": {
            "text/plain": [
              "array([[1, 4],\n",
              "       [2, 5],\n",
              "       [3, 6]])"
            ]
          },
          "metadata": {},
          "execution_count": 5
        }
      ]
    },
    {
      "cell_type": "markdown",
      "metadata": {
        "id": "Im4BGoNBs66W"
      },
      "source": [
        "## matrix transpose"
      ]
    },
    {
      "cell_type": "code",
      "metadata": {
        "colab": {
          "base_uri": "https://localhost:8080/"
        },
        "id": "O34eWlXuskTk",
        "outputId": "f75e957e-d5c3-4307-ccd2-28a4bdb89192"
      },
      "source": [
        "np_a.T"
      ],
      "execution_count": 6,
      "outputs": [
        {
          "output_type": "execute_result",
          "data": {
            "text/plain": [
              "array([[1, 4],\n",
              "       [2, 5],\n",
              "       [3, 6]])"
            ]
          },
          "metadata": {},
          "execution_count": 6
        }
      ]
    },
    {
      "cell_type": "markdown",
      "metadata": {
        "id": "qf5d2qYRs_-D"
      },
      "source": [
        "## สร้าง matrix เริ่มต้น (Zeros,ones)"
      ]
    },
    {
      "cell_type": "code",
      "metadata": {
        "colab": {
          "base_uri": "https://localhost:8080/"
        },
        "id": "tNq64uSOskRm",
        "outputId": "a5be86b9-997a-45e6-fa68-150a1818de58"
      },
      "source": [
        "np_z = np.zeros((4,5))\n",
        "np_z"
      ],
      "execution_count": 7,
      "outputs": [
        {
          "output_type": "execute_result",
          "data": {
            "text/plain": [
              "array([[0., 0., 0., 0., 0.],\n",
              "       [0., 0., 0., 0., 0.],\n",
              "       [0., 0., 0., 0., 0.],\n",
              "       [0., 0., 0., 0., 0.]])"
            ]
          },
          "metadata": {},
          "execution_count": 7
        }
      ]
    },
    {
      "cell_type": "code",
      "metadata": {
        "colab": {
          "base_uri": "https://localhost:8080/"
        },
        "id": "xM3lUxLgskPR",
        "outputId": "f272d74d-d2e1-48cc-b167-5d924544ca3c"
      },
      "source": [
        "np_o = np.ones((5,6))\n",
        "np_o"
      ],
      "execution_count": 8,
      "outputs": [
        {
          "output_type": "execute_result",
          "data": {
            "text/plain": [
              "array([[1., 1., 1., 1., 1., 1.],\n",
              "       [1., 1., 1., 1., 1., 1.],\n",
              "       [1., 1., 1., 1., 1., 1.],\n",
              "       [1., 1., 1., 1., 1., 1.],\n",
              "       [1., 1., 1., 1., 1., 1.]])"
            ]
          },
          "metadata": {},
          "execution_count": 8
        }
      ]
    },
    {
      "cell_type": "code",
      "metadata": {
        "colab": {
          "base_uri": "https://localhost:8080/"
        },
        "id": "u44PBuC0skM1",
        "outputId": "61743a53-716a-4030-9461-b1e47a0e43f3"
      },
      "source": [
        "np_200 = 200 * np.ones((4,7))\n",
        "np_200"
      ],
      "execution_count": 9,
      "outputs": [
        {
          "output_type": "execute_result",
          "data": {
            "text/plain": [
              "array([[200., 200., 200., 200., 200., 200., 200.],\n",
              "       [200., 200., 200., 200., 200., 200., 200.],\n",
              "       [200., 200., 200., 200., 200., 200., 200.],\n",
              "       [200., 200., 200., 200., 200., 200., 200.]])"
            ]
          },
          "metadata": {},
          "execution_count": 9
        }
      ]
    },
    {
      "cell_type": "markdown",
      "metadata": {
        "id": "ElRX1L5vtIsX"
      },
      "source": [
        "## สร้าง matrix randoom"
      ]
    },
    {
      "cell_type": "code",
      "metadata": {
        "colab": {
          "base_uri": "https://localhost:8080/"
        },
        "id": "byjghDkLskMF",
        "outputId": "8ec0e539-3f6b-4d06-8ae1-fbe41b0c79a6"
      },
      "source": [
        "np.random.randn(5,5) # randoom เลขมาจาก normal distribution ที่มี mu=0 std=1"
      ],
      "execution_count": 10,
      "outputs": [
        {
          "output_type": "execute_result",
          "data": {
            "text/plain": [
              "array([[ 0.45540583,  0.34942583, -1.11926895,  0.40129026,  0.27204205],\n",
              "       [ 0.26024694,  0.00879809, -1.57884498, -0.0234926 ,  0.67420958],\n",
              "       [-0.58932575, -1.00489446, -1.18660581,  1.62207824, -1.57983305],\n",
              "       [ 0.84749572,  0.3849219 ,  2.47944838,  1.49551572, -0.09854646],\n",
              "       [-0.84004703, -0.94624517,  0.92181423,  0.28902866,  0.52384858]])"
            ]
          },
          "metadata": {},
          "execution_count": 10
        }
      ]
    },
    {
      "cell_type": "code",
      "metadata": {
        "colab": {
          "base_uri": "https://localhost:8080/"
        },
        "id": "N1eMsiBgskKQ",
        "outputId": "6574f29b-b701-41eb-a185-2759a7a21083"
      },
      "source": [
        "2 + (5*np.random.randn(3,3)) # randoom เลขมาจาก normal distribution ที่มี mu=2 std=5"
      ],
      "execution_count": 11,
      "outputs": [
        {
          "output_type": "execute_result",
          "data": {
            "text/plain": [
              "array([[-7.98622323,  0.62840229,  6.94162272],\n",
              "       [ 0.93630615, -2.81025379, 10.1554521 ],\n",
              "       [ 7.35929821, -0.18755214,  1.86202021]])"
            ]
          },
          "metadata": {},
          "execution_count": 11
        }
      ]
    },
    {
      "cell_type": "code",
      "metadata": {
        "colab": {
          "base_uri": "https://localhost:8080/"
        },
        "id": "e0sy8lAfskH6",
        "outputId": "dfede652-b6c9-4542-8ed4-a3c274930bdd"
      },
      "source": [
        "np.random.randint(5,11,(4,5)) # random เลขจำนวนเต็ม ระหว่าง [5,11) ขนาด (4,5)"
      ],
      "execution_count": 12,
      "outputs": [
        {
          "output_type": "execute_result",
          "data": {
            "text/plain": [
              "array([[ 5,  9,  9,  8,  8],\n",
              "       [10,  8,  7,  6,  6],\n",
              "       [ 9, 10,  5,  8,  8],\n",
              "       [ 6,  7,  9, 10,  9]])"
            ]
          },
          "metadata": {},
          "execution_count": 12
        }
      ]
    },
    {
      "cell_type": "markdown",
      "metadata": {
        "id": "9U4bnHROIALv"
      },
      "source": [
        "matrix transpose"
      ]
    },
    {
      "cell_type": "code",
      "metadata": {
        "id": "A8l8pgrsH_9o",
        "colab": {
          "base_uri": "https://localhost:8080/"
        },
        "outputId": "f687f0db-7814-4536-d8ef-6a5aa405fa57"
      },
      "source": [
        "np_a"
      ],
      "execution_count": 13,
      "outputs": [
        {
          "output_type": "execute_result",
          "data": {
            "text/plain": [
              "array([[1, 2, 3],\n",
              "       [4, 5, 6]])"
            ]
          },
          "metadata": {},
          "execution_count": 13
        }
      ]
    },
    {
      "cell_type": "code",
      "metadata": {
        "id": "Dum-nzn9tPwN",
        "colab": {
          "base_uri": "https://localhost:8080/"
        },
        "outputId": "16534947-22ca-4532-ed42-7d82e7ee69a8"
      },
      "source": [
        "np_a.T #transpose"
      ],
      "execution_count": 14,
      "outputs": [
        {
          "output_type": "execute_result",
          "data": {
            "text/plain": [
              "array([[1, 4],\n",
              "       [2, 5],\n",
              "       [3, 6]])"
            ]
          },
          "metadata": {},
          "execution_count": 14
        }
      ]
    },
    {
      "cell_type": "code",
      "metadata": {
        "id": "cvU06FxmH8vk",
        "colab": {
          "base_uri": "https://localhost:8080/"
        },
        "outputId": "f0b94243-136e-4117-fe86-d6dd74d0508b"
      },
      "source": [
        "1+ np_a # บวก matrix ด้วย scalar  มีขนาด ไม่มีทิศทาง"
      ],
      "execution_count": 15,
      "outputs": [
        {
          "output_type": "execute_result",
          "data": {
            "text/plain": [
              "array([[2, 3, 4],\n",
              "       [5, 6, 7]])"
            ]
          },
          "metadata": {},
          "execution_count": 15
        }
      ]
    },
    {
      "cell_type": "code",
      "metadata": {
        "id": "GKBzPVRfH8s9",
        "colab": {
          "base_uri": "https://localhost:8080/"
        },
        "outputId": "25b03505-96a5-4ea5-be18-59135e2a3e39"
      },
      "source": [
        "2*np_a #multipling scalar to matrix"
      ],
      "execution_count": 16,
      "outputs": [
        {
          "output_type": "execute_result",
          "data": {
            "text/plain": [
              "array([[ 2,  4,  6],\n",
              "       [ 8, 10, 12]])"
            ]
          },
          "metadata": {},
          "execution_count": 16
        }
      ]
    },
    {
      "cell_type": "code",
      "metadata": {
        "id": "TGd1vQYvH8qj",
        "colab": {
          "base_uri": "https://localhost:8080/"
        },
        "outputId": "f7811728-382e-4570-c3f9-6a8fcaa9d39d"
      },
      "source": [
        "np_c = np.array([[6,5,4],[3,2,1]])\n",
        "np_c"
      ],
      "execution_count": 17,
      "outputs": [
        {
          "output_type": "execute_result",
          "data": {
            "text/plain": [
              "array([[6, 5, 4],\n",
              "       [3, 2, 1]])"
            ]
          },
          "metadata": {},
          "execution_count": 17
        }
      ]
    },
    {
      "cell_type": "code",
      "metadata": {
        "id": "jiWXOntoH8ob",
        "colab": {
          "base_uri": "https://localhost:8080/"
        },
        "outputId": "531a66d7-4357-4ce3-ae0b-e2077ec9bc26"
      },
      "source": [
        "np_a+np_c #adding matrix to matrix"
      ],
      "execution_count": 18,
      "outputs": [
        {
          "output_type": "execute_result",
          "data": {
            "text/plain": [
              "array([[7, 7, 7],\n",
              "       [7, 7, 7]])"
            ]
          },
          "metadata": {},
          "execution_count": 18
        }
      ]
    },
    {
      "cell_type": "code",
      "metadata": {
        "id": "_dZ78mJ_H8lr",
        "colab": {
          "base_uri": "https://localhost:8080/"
        },
        "outputId": "bf086cc6-ab5f-48b4-b680-9c8666e9fbc1"
      },
      "source": [
        "np_a.shape"
      ],
      "execution_count": 19,
      "outputs": [
        {
          "output_type": "execute_result",
          "data": {
            "text/plain": [
              "(2, 3)"
            ]
          },
          "metadata": {},
          "execution_count": 19
        }
      ]
    },
    {
      "cell_type": "code",
      "metadata": {
        "id": "aMpMP5WXH8jh",
        "colab": {
          "base_uri": "https://localhost:8080/"
        },
        "outputId": "0d70b5d8-722b-4f91-cb2c-2b4dc8a6a2f8"
      },
      "source": [
        "np_c.shape"
      ],
      "execution_count": 20,
      "outputs": [
        {
          "output_type": "execute_result",
          "data": {
            "text/plain": [
              "(2, 3)"
            ]
          },
          "metadata": {},
          "execution_count": 20
        }
      ]
    },
    {
      "cell_type": "code",
      "metadata": {
        "id": "fgsZ_Zy5H8g1",
        "colab": {
          "base_uri": "https://localhost:8080/"
        },
        "outputId": "6467a023-b8c3-42b0-93b2-97abf9572aa9"
      },
      "source": [
        "np_c.T.shape"
      ],
      "execution_count": 21,
      "outputs": [
        {
          "output_type": "execute_result",
          "data": {
            "text/plain": [
              "(3, 2)"
            ]
          },
          "metadata": {},
          "execution_count": 21
        }
      ]
    },
    {
      "cell_type": "code",
      "metadata": {
        "id": "L1VrcMV5H8eQ",
        "colab": {
          "base_uri": "https://localhost:8080/"
        },
        "outputId": "4e685fdc-006b-4514-acad-4a44dcf71f2d"
      },
      "source": [
        "np.dot(np_a,np_c.T) #multipling matrix to matrix (a,b)*(b,c) = (a,c)"
      ],
      "execution_count": 22,
      "outputs": [
        {
          "output_type": "execute_result",
          "data": {
            "text/plain": [
              "array([[28, 10],\n",
              "       [73, 28]])"
            ]
          },
          "metadata": {},
          "execution_count": 22
        }
      ]
    },
    {
      "cell_type": "markdown",
      "metadata": {
        "id": "EpzwyWbkIWnf"
      },
      "source": [
        "Indexing &Silcing\n",
        "ชี้ตัวที่เป็นค่าใน matrix อย่างไร"
      ]
    },
    {
      "cell_type": "code",
      "metadata": {
        "id": "ZeNqeHLIIVC0",
        "colab": {
          "base_uri": "https://localhost:8080/"
        },
        "outputId": "c64668b4-b8e4-43f1-b689-f75987d3c361"
      },
      "source": [
        "np_a\n"
      ],
      "execution_count": 23,
      "outputs": [
        {
          "output_type": "execute_result",
          "data": {
            "text/plain": [
              "array([[1, 2, 3],\n",
              "       [4, 5, 6]])"
            ]
          },
          "metadata": {},
          "execution_count": 23
        }
      ]
    },
    {
      "cell_type": "code",
      "metadata": {
        "id": "uUyEXUT7IVAq",
        "colab": {
          "base_uri": "https://localhost:8080/"
        },
        "outputId": "bb82e87c-08e7-4bc3-dbce-076a802ad7bd"
      },
      "source": [
        "np_a[1,1]"
      ],
      "execution_count": 24,
      "outputs": [
        {
          "output_type": "execute_result",
          "data": {
            "text/plain": [
              "5"
            ]
          },
          "metadata": {},
          "execution_count": 24
        }
      ]
    },
    {
      "cell_type": "code",
      "metadata": {
        "id": "5S-pdcW-IU-J",
        "colab": {
          "base_uri": "https://localhost:8080/"
        },
        "outputId": "f08418a3-d573-4f4c-d8e3-68114598ddf5"
      },
      "source": [
        "np_a[:2,:2]"
      ],
      "execution_count": 25,
      "outputs": [
        {
          "output_type": "execute_result",
          "data": {
            "text/plain": [
              "array([[1, 2],\n",
              "       [4, 5]])"
            ]
          },
          "metadata": {},
          "execution_count": 25
        }
      ]
    },
    {
      "cell_type": "code",
      "metadata": {
        "id": "dGoZHVdoIU8D",
        "colab": {
          "base_uri": "https://localhost:8080/"
        },
        "outputId": "26c19916-b4b5-41de-ba0c-02ea9dc54a1d"
      },
      "source": [
        "np_a[0,:]"
      ],
      "execution_count": 26,
      "outputs": [
        {
          "output_type": "execute_result",
          "data": {
            "text/plain": [
              "array([1, 2, 3])"
            ]
          },
          "metadata": {},
          "execution_count": 26
        }
      ]
    },
    {
      "cell_type": "markdown",
      "metadata": {
        "id": "_uTO_19lIwMQ"
      },
      "source": [
        "Useful function"
      ]
    },
    {
      "cell_type": "code",
      "metadata": {
        "id": "Mj7KkJ14IU5h",
        "colab": {
          "base_uri": "https://localhost:8080/"
        },
        "outputId": "7eeeac39-0a9f-4424-bd8b-cc3b6561e53e"
      },
      "source": [
        "np_a"
      ],
      "execution_count": 27,
      "outputs": [
        {
          "output_type": "execute_result",
          "data": {
            "text/plain": [
              "array([[1, 2, 3],\n",
              "       [4, 5, 6]])"
            ]
          },
          "metadata": {},
          "execution_count": 27
        }
      ]
    },
    {
      "cell_type": "code",
      "metadata": {
        "id": "JNh1IuSGIU26",
        "colab": {
          "base_uri": "https://localhost:8080/"
        },
        "outputId": "72c65e41-a15b-48c1-cd16-ae752f156f8b"
      },
      "source": [
        "\n",
        "np.sum(np_a)"
      ],
      "execution_count": 28,
      "outputs": [
        {
          "output_type": "execute_result",
          "data": {
            "text/plain": [
              "21"
            ]
          },
          "metadata": {},
          "execution_count": 28
        }
      ]
    },
    {
      "cell_type": "code",
      "metadata": {
        "id": "Rl2ViVhnIU0b",
        "colab": {
          "base_uri": "https://localhost:8080/"
        },
        "outputId": "4a229902-11ac-410f-d0e3-575d0b275e90"
      },
      "source": [
        "np.sum(np_a,axis=0) # เอาด้านแถวมารวมกัน"
      ],
      "execution_count": 29,
      "outputs": [
        {
          "output_type": "execute_result",
          "data": {
            "text/plain": [
              "array([5, 7, 9])"
            ]
          },
          "metadata": {},
          "execution_count": 29
        }
      ]
    },
    {
      "cell_type": "code",
      "metadata": {
        "id": "V5eq-CGOIURy",
        "colab": {
          "base_uri": "https://localhost:8080/"
        },
        "outputId": "338200c7-3b86-4379-e4e9-0a6809f2db50"
      },
      "source": [
        "np.sum(np_a,axis=1) # เอาด้านหลักมารวมกัน"
      ],
      "execution_count": 30,
      "outputs": [
        {
          "output_type": "execute_result",
          "data": {
            "text/plain": [
              "array([ 6, 15])"
            ]
          },
          "metadata": {},
          "execution_count": 30
        }
      ]
    },
    {
      "cell_type": "code",
      "metadata": {
        "id": "s7jdU9_LI785",
        "colab": {
          "base_uri": "https://localhost:8080/"
        },
        "outputId": "e1b450ab-57f3-4ddd-990a-6cec7822204f"
      },
      "source": [
        "np.mean(np_a)"
      ],
      "execution_count": 31,
      "outputs": [
        {
          "output_type": "execute_result",
          "data": {
            "text/plain": [
              "3.5"
            ]
          },
          "metadata": {},
          "execution_count": 31
        }
      ]
    },
    {
      "cell_type": "code",
      "metadata": {
        "id": "5ncAHDYnI76f",
        "colab": {
          "base_uri": "https://localhost:8080/"
        },
        "outputId": "99edef0b-7cbc-458d-e570-16d843ad426e"
      },
      "source": [
        "np.mean(np_a,axis = 0 )  # หาค่า mean ของ column"
      ],
      "execution_count": 32,
      "outputs": [
        {
          "output_type": "execute_result",
          "data": {
            "text/plain": [
              "array([2.5, 3.5, 4.5])"
            ]
          },
          "metadata": {},
          "execution_count": 32
        }
      ]
    },
    {
      "cell_type": "markdown",
      "metadata": {
        "id": "GCwYCyfLJBSB"
      },
      "source": [
        "วนลูปเอง\n",
        "\n",
        "summation\n",
        "\n",
        "np.sum(np_a)"
      ]
    },
    {
      "cell_type": "code",
      "metadata": {
        "id": "7ETy3nJUI74m",
        "colab": {
          "base_uri": "https://localhost:8080/"
        },
        "outputId": "71f3bbd0-8302-487f-b8ca-5c56962f4cef"
      },
      "source": [
        "sum_all = 0\n",
        "\n",
        "for row in range(np_a.shape[0]):\n",
        "    for col in range(np_a.shape[1]):\n",
        "        sum_all = sum_all + np_a [row,col]\n",
        "        print(f'we are at row = {row},col = {col} np_a[{row},{col}] = {np_a[row,col]} sum_all = {sum_all}')"
      ],
      "execution_count": 33,
      "outputs": [
        {
          "output_type": "stream",
          "name": "stdout",
          "text": [
            "we are at row = 0,col = 0 np_a[0,0] = 1 sum_all = 1\n",
            "we are at row = 0,col = 1 np_a[0,1] = 2 sum_all = 3\n",
            "we are at row = 0,col = 2 np_a[0,2] = 3 sum_all = 6\n",
            "we are at row = 1,col = 0 np_a[1,0] = 4 sum_all = 10\n",
            "we are at row = 1,col = 1 np_a[1,1] = 5 sum_all = 15\n",
            "we are at row = 1,col = 2 np_a[1,2] = 6 sum_all = 21\n"
          ]
        }
      ]
    },
    {
      "cell_type": "code",
      "metadata": {
        "id": "pIHnRgaCI71P"
      },
      "source": [
        "\n",
        "sum_all = np.zeros(np_a.shape[1])\n",
        "\n",
        "for row in range(np_a.shape[0]):\n",
        "    for col in range(np_a.shape[1]):\n",
        "        sum_all[col] = sum_all[col] + np_a [row,col]"
      ],
      "execution_count": 34,
      "outputs": []
    },
    {
      "cell_type": "markdown",
      "metadata": {
        "id": "S6TnMjV7JI6P"
      },
      "source": [
        "Quiz กลุ่ม\n",
        "วนลูปหาค่า\n",
        "\n",
        "*np.sum(np_a,axis=1) (1)\n",
        "\n",
        "*np.mean(np_a) (2)\n",
        "\n",
        "*np.mean(np_a,axis=0) (3)\n",
        "\n",
        "*np.mean(np_a,axis=1) (4)\n",
        "\n",
        "*np.max(np_a) (5)\n",
        "\n",
        "*np.max(np_a,axis=0) (6)\n",
        "\n",
        "*np.max(np_a,axis=1) (7)\n",
        "\n",
        "*np.min(np_a) (8)\n",
        "\n",
        "*np.min(np_a,axis=0) (9)\n",
        "\n",
        "*np.min(np_a,axis=1) (10)"
      ]
    },
    {
      "cell_type": "code",
      "metadata": {
        "id": "TXLR1Cs7I7zL",
        "colab": {
          "base_uri": "https://localhost:8080/"
        },
        "outputId": "f39b34b5-5782-4bb4-bcc7-b51aba0324ad"
      },
      "source": [
        "#np.sum(np_a,axis=1) (1)\n",
        "sum_all = np.zeros(np_a.shape[0])\n",
        "\n",
        "for row in range(np_a.shape[0]):\n",
        "    for col in range(np_a.shape[1]):\n",
        "        sum_all[row] = sum_all[row]+ np_a [row,col]\n",
        "print(sum_all)"
      ],
      "execution_count": 35,
      "outputs": [
        {
          "output_type": "stream",
          "name": "stdout",
          "text": [
            "[ 6. 15.]\n"
          ]
        }
      ]
    },
    {
      "cell_type": "code",
      "metadata": {
        "id": "Zbef1pq0I7wt",
        "colab": {
          "base_uri": "https://localhost:8080/"
        },
        "outputId": "b1e72827-4e7b-4213-89bd-351a92b965d6"
      },
      "source": [
        "#np.mean(np_a) (2)\n",
        "mean_all = 0\n",
        "for row in range(np_a.shape[0]):\n",
        "    for col in range(np_a.shape[1]):\n",
        "        mean_all = mean_all + np_a[row,col]\n",
        "mean_all = mean_all/(np_a.shape[0]*np_a.shape[1])\n",
        "print(mean_all)\n"
      ],
      "execution_count": 36,
      "outputs": [
        {
          "output_type": "stream",
          "name": "stdout",
          "text": [
            "3.5\n"
          ]
        }
      ]
    },
    {
      "cell_type": "code",
      "metadata": {
        "id": "a09ikX38I7vs",
        "colab": {
          "base_uri": "https://localhost:8080/"
        },
        "outputId": "12c945b4-e3dc-4c8f-9747-7466782cc092"
      },
      "source": [
        "#np.mean(np_a,axis=0) (3)\n",
        "mean_all = np.zeros(np_a.shape[1])\n",
        "for row in range(np_a.shape[0]):\n",
        "     for col in range(np_a.shape[1]):\n",
        "          mean_all[col] = mean_all[col] + np_a[row,col]/np_a.shape[0]\n",
        "print(mean_all)"
      ],
      "execution_count": 37,
      "outputs": [
        {
          "output_type": "stream",
          "name": "stdout",
          "text": [
            "[2.5 3.5 4.5]\n"
          ]
        }
      ]
    },
    {
      "cell_type": "code",
      "metadata": {
        "id": "mt02EkyxI7tF",
        "colab": {
          "base_uri": "https://localhost:8080/"
        },
        "outputId": "36250790-82c2-465b-f75c-7e81e9627646"
      },
      "source": [
        "#np.mean(np_a,axis=1) (4)\n",
        "sum_all = np.zeros(np_a.shape[0])\n",
        "for row in range(np_a.shape[0]):\n",
        "    for col in range(np_a.shape[1]): \n",
        "        sum_all[row] = sum_all[row] + np_a[row,col]\n",
        "sum_all = sum_all/np_a.shape[1]\n",
        "print(sum_all)"
      ],
      "execution_count": 38,
      "outputs": [
        {
          "output_type": "stream",
          "name": "stdout",
          "text": [
            "[2. 5.]\n"
          ]
        }
      ]
    },
    {
      "cell_type": "code",
      "metadata": {
        "id": "MIYhyUqBI4H7",
        "colab": {
          "base_uri": "https://localhost:8080/"
        },
        "outputId": "8a5d6066-a56a-4114-bcb8-bd164f880a44"
      },
      "source": [
        "#np.max(np_a) (5)\n",
        "max_a = -100000000\n",
        "for row in range(np_a.shape[0]):\n",
        "    for col in range(np_a.shape[1]):\n",
        "        if np_a[row,col] > max_a :\n",
        "            max_a = np_a[row,col]\n",
        "print(max_a)"
      ],
      "execution_count": 39,
      "outputs": [
        {
          "output_type": "stream",
          "name": "stdout",
          "text": [
            "6\n"
          ]
        }
      ]
    },
    {
      "cell_type": "code",
      "metadata": {
        "id": "y-iX9lWNJUTC",
        "colab": {
          "base_uri": "https://localhost:8080/"
        },
        "outputId": "87a77b8f-a4ab-4a52-a385-32477d7c3926"
      },
      "source": [
        "# np.max(np_a,axis=0) (6)\n",
        "max_all = -100000 * np.ones(np_a.shape[1])\n",
        "for col in range(np_a.shape[1]):\n",
        "    for row in range(np_a.shape[0]):\n",
        "        if np_a[row,col] > max_all[col]: \n",
        "            max_all[col] = np_a[row,col]\n",
        "print(max_all)"
      ],
      "execution_count": 40,
      "outputs": [
        {
          "output_type": "stream",
          "name": "stdout",
          "text": [
            "[4. 5. 6.]\n"
          ]
        }
      ]
    },
    {
      "cell_type": "code",
      "metadata": {
        "id": "WbQz5vZuJUQx",
        "colab": {
          "base_uri": "https://localhost:8080/"
        },
        "outputId": "73b3f596-5cab-4d3d-8c3e-7021d1c96432"
      },
      "source": [
        "# np.max(np_a,axis=1) (ของนี่) (7)\n",
        "max_all = np.zeros(np_a.shape[0])\n",
        "\n",
        "for col in range(np_a.shape[1]):\n",
        "    for row in range(np_a.shape[0]):\n",
        "        max_all[row] = max(np_a[row])\n",
        "print(max_all)"
      ],
      "execution_count": 41,
      "outputs": [
        {
          "output_type": "stream",
          "name": "stdout",
          "text": [
            "[3. 6.]\n"
          ]
        }
      ]
    },
    {
      "cell_type": "code",
      "metadata": {
        "id": "delvPZn7JUOm",
        "colab": {
          "base_uri": "https://localhost:8080/"
        },
        "outputId": "27e6c1b4-ca35-471d-86be-f042b0b39f75"
      },
      "source": [
        "# np.max(np_a,axis=1) (ของอาจารย์) (7)\n",
        "max_all = np.zeros(np_a.shape[0])\n",
        "for row in range(np_a.shape[0]):\n",
        "    max_all[row] = max(np_a[row,:])\n",
        "print(max_all)"
      ],
      "execution_count": 42,
      "outputs": [
        {
          "output_type": "stream",
          "name": "stdout",
          "text": [
            "[3. 6.]\n"
          ]
        }
      ]
    },
    {
      "cell_type": "code",
      "metadata": {
        "id": "9byRcW-tJUMH",
        "colab": {
          "base_uri": "https://localhost:8080/"
        },
        "outputId": "7859913b-a5d5-4ad7-edcc-a0298461144d"
      },
      "source": [
        "\n",
        "# np.min(np_a) (8)\n",
        "minV = 100000\n",
        "for row in range(np_a.shape[0]):\n",
        "    for col in range(np_a.shape[1]):\n",
        "        if np_a[row,col] < minV:\n",
        "            minV = np_a[row,col]\n",
        "print(minV)"
      ],
      "execution_count": 43,
      "outputs": [
        {
          "output_type": "stream",
          "name": "stdout",
          "text": [
            "1\n"
          ]
        }
      ]
    },
    {
      "cell_type": "code",
      "metadata": {
        "id": "GwhnJGWFJUJw",
        "colab": {
          "base_uri": "https://localhost:8080/"
        },
        "outputId": "d120e43c-dd46-47e5-c4b2-3f6f89236962"
      },
      "source": [
        "# np.min(np_a,axis=0) (9)\n",
        "min_all = np.zeros(np_a.shape[1])\n",
        "\n",
        "for col in range(np_a.shape[1]):\n",
        "    min_all[col] = min(np_a[:,col])\n",
        "print(min_all)"
      ],
      "execution_count": 44,
      "outputs": [
        {
          "output_type": "stream",
          "name": "stdout",
          "text": [
            "[1. 2. 3.]\n"
          ]
        }
      ]
    },
    {
      "cell_type": "code",
      "metadata": {
        "id": "Z_UovcfhJe-N",
        "colab": {
          "base_uri": "https://localhost:8080/"
        },
        "outputId": "d7144bb7-64d6-4cbe-84be-58c7cf38860a"
      },
      "source": [
        "\n",
        "# np.min(np_a,axis=1) (10)\n",
        "min_row = np.zeros(np_a.shape[0])\n",
        "for row in range(np_a.shape[0]):\n",
        "   min_row[row] = min(np_a[row,:])\n",
        "print(min_row)"
      ],
      "execution_count": 45,
      "outputs": [
        {
          "output_type": "stream",
          "name": "stdout",
          "text": [
            "[1. 4.]\n"
          ]
        }
      ]
    },
    {
      "cell_type": "markdown",
      "metadata": {
        "id": "ZCNipmdVJiRL"
      },
      "source": [
        "Distance Matrix"
      ]
    },
    {
      "cell_type": "code",
      "metadata": {
        "id": "cO7B2AvcJe7u",
        "colab": {
          "base_uri": "https://localhost:8080/"
        },
        "outputId": "ff0e14ca-5d7d-4338-c7aa-21f68849632d"
      },
      "source": [
        "data1 = np.array([[1,2],[3,5],[2,0],[4,5]])\n",
        "data1"
      ],
      "execution_count": 46,
      "outputs": [
        {
          "output_type": "execute_result",
          "data": {
            "text/plain": [
              "array([[1, 2],\n",
              "       [3, 5],\n",
              "       [2, 0],\n",
              "       [4, 5]])"
            ]
          },
          "metadata": {},
          "execution_count": 46
        }
      ]
    },
    {
      "cell_type": "code",
      "metadata": {
        "id": "5Dt9BM74Je5I",
        "colab": {
          "base_uri": "https://localhost:8080/",
          "height": 282
        },
        "outputId": "149953e2-8028-464f-cd41-d68adf8bfd0d"
      },
      "source": [
        "from matplotlib import pyplot as plt\n",
        "plt.scatter(data1[:,0],data1[:,1])"
      ],
      "execution_count": 47,
      "outputs": [
        {
          "output_type": "execute_result",
          "data": {
            "text/plain": [
              "<matplotlib.collections.PathCollection at 0x7fce60ce68d0>"
            ]
          },
          "metadata": {},
          "execution_count": 47
        },
        {
          "output_type": "display_data",
          "data": {
            "image/png": "[encoded data removed]",
            "text/plain": [
              "<Figure size 432x288 with 1 Axes>"
            ]
          },
          "metadata": {
            "needs_background": "light"
          }
        }
      ]
    },
    {
      "cell_type": "markdown",
      "metadata": {
        "id": "bmbaGI8iJolm"
      },
      "source": [
        "Euclidean Distance (L2-norm)\n",
        "\n",
        "$\\sqrt{(x1-x2)^2+(y1-y2)^2}$\n",
        "\n",
        "$$ #laytext\n",
        "\n",
        "dist(P1,P2)"
      ]
    },
    {
      "cell_type": "code",
      "metadata": {
        "id": "etcAzA3UJe2h",
        "colab": {
          "base_uri": "https://localhost:8080/"
        },
        "outputId": "ff72e056-518f-4ac6-b117-6291e769f5f8"
      },
      "source": [
        "dist_p1_p2 = np.sqrt(np.power(data1[0,0]-data1[1,0],2)+np.power(data1[0,1]-data1[1,1],2))\n",
        "dist_p1_p2"
      ],
      "execution_count": 48,
      "outputs": [
        {
          "output_type": "execute_result",
          "data": {
            "text/plain": [
              "3.605551275463989"
            ]
          },
          "metadata": {},
          "execution_count": 48
        }
      ]
    },
    {
      "cell_type": "markdown",
      "metadata": {
        "id": "6h2K0NKcJvf8"
      },
      "source": [
        "dist(P2,P4)"
      ]
    },
    {
      "cell_type": "code",
      "metadata": {
        "id": "279Lefb_JUHM",
        "colab": {
          "base_uri": "https://localhost:8080/"
        },
        "outputId": "88097c92-6c31-49bb-989a-a338357b3608"
      },
      "source": [
        "dist_p2_p4 = np.sqrt(np.power(data1[1,0]-data1[3,0],2)+np.power(data1[1,1]-data1[3,1],2))\n",
        "dist_p2_p4"
      ],
      "execution_count": 49,
      "outputs": [
        {
          "output_type": "execute_result",
          "data": {
            "text/plain": [
              "1.0"
            ]
          },
          "metadata": {},
          "execution_count": 49
        }
      ]
    },
    {
      "cell_type": "markdown",
      "metadata": {
        "id": "4aY4eRaqJz92"
      },
      "source": [
        "Distance function\n",
        "\n",
        "dim=2"
      ]
    },
    {
      "cell_type": "code",
      "metadata": {
        "id": "k09O_omHJzzr"
      },
      "source": [
        "\n",
        "def dist_l2_2(p1,p2):\n",
        "    return np.sqrt(np.power(p1[0]-p2[0],2)+np.power(p1[1]-p2[1],2))"
      ],
      "execution_count": 50,
      "outputs": []
    },
    {
      "cell_type": "code",
      "metadata": {
        "id": "T-vEE31aJTZd",
        "colab": {
          "base_uri": "https://localhost:8080/"
        },
        "outputId": "dcba68a0-e62f-4918-e45d-9355a14f6a3e"
      },
      "source": [
        "dist_l2_2(data1[0,:],data1[1,:]) #แถว0 ทุกๆหลัก"
      ],
      "execution_count": 51,
      "outputs": [
        {
          "output_type": "execute_result",
          "data": {
            "text/plain": [
              "3.605551275463989"
            ]
          },
          "metadata": {},
          "execution_count": 51
        }
      ]
    },
    {
      "cell_type": "code",
      "metadata": {
        "id": "-6-NdI56J5J4",
        "colab": {
          "base_uri": "https://localhost:8080/"
        },
        "outputId": "51505707-4354-4d10-bd5c-4f30830eae8f"
      },
      "source": [
        "\n",
        "dist_l2_2(data1[1,:],data1[3,:])"
      ],
      "execution_count": 52,
      "outputs": [
        {
          "output_type": "execute_result",
          "data": {
            "text/plain": [
              "1.0"
            ]
          },
          "metadata": {},
          "execution_count": 52
        }
      ]
    },
    {
      "cell_type": "markdown",
      "metadata": {
        "id": "Ol7U18vtJ_B2"
      },
      "source": [
        "dim = n"
      ]
    },
    {
      "cell_type": "code",
      "metadata": {
        "id": "4xTDSzgfJ5FI"
      },
      "source": [
        "\n",
        "def dist_l2_n(p1,p2):\n",
        "    sum = 0\n",
        "    for i in range(len(p1)):\n",
        "        sum = sum+np.power(p1[i]-p2[i],2)\n",
        "    return np.sqrt(sum)"
      ],
      "execution_count": 53,
      "outputs": []
    },
    {
      "cell_type": "code",
      "metadata": {
        "id": "mhw9yNigJ5Ck",
        "colab": {
          "base_uri": "https://localhost:8080/"
        },
        "outputId": "f25e7467-c583-4784-ad2d-e4880923744e"
      },
      "source": [
        "dist_l2_2(data1[0,:],data1[1,:])"
      ],
      "execution_count": 54,
      "outputs": [
        {
          "output_type": "execute_result",
          "data": {
            "text/plain": [
              "3.605551275463989"
            ]
          },
          "metadata": {},
          "execution_count": 54
        }
      ]
    },
    {
      "cell_type": "markdown",
      "metadata": {
        "id": "Yyjs-qPwKFwS"
      },
      "source": [
        "Manhattan Distance (L1-norm)\n",
        "\n",
        "$|x1-x2)|+|y1-y2|$\n",
        "\n",
        "Quiz6 เขียน Function คำนวณ manhattan ของ ข้อมูล 2 dim\n",
        "\n",
        "dist(P1,P2)"
      ]
    },
    {
      "cell_type": "code",
      "metadata": {
        "id": "sDgd5dwZJ5AB"
      },
      "source": [
        "def dist_l1_2(p1,p2):\n",
        "    return (np.abs(p1[0]-p2[0])+np.abs(p1[1]-p2[1]))"
      ],
      "execution_count": 55,
      "outputs": []
    },
    {
      "cell_type": "code",
      "metadata": {
        "id": "sD6b1Oc0J4aI",
        "colab": {
          "base_uri": "https://localhost:8080/"
        },
        "outputId": "cd67a0c9-aa02-4484-d51a-33d7cdf7da3c"
      },
      "source": [
        "dist_l1_2(data1[0,:],data1[1,:])"
      ],
      "execution_count": 56,
      "outputs": [
        {
          "output_type": "execute_result",
          "data": {
            "text/plain": [
              "5"
            ]
          },
          "metadata": {},
          "execution_count": 56
        }
      ]
    },
    {
      "cell_type": "markdown",
      "metadata": {
        "id": "3YXfBNZRKMWo"
      },
      "source": [
        "HW11\n",
        "\n",
        "1.Function คำนวณ manhattan ของ ข้อมูล n dim\n",
        "\n",
        "2.Function คำนวณ L-$\\infty$ ของ ข้อมูล n dim\n",
        "\n",
        "3.Function คำนวณ Distance Matrix ด้วย Euclidean"
      ]
    },
    {
      "cell_type": "code",
      "metadata": {
        "id": "F1rqQsYNKLjz"
      },
      "source": [
        "#Function คำนวณ manhattan ของ ข้อมูล n dim\n",
        "def dist_l1_n(p1,p2):\n",
        "    sum = 0\n",
        "    for i in range(len(p1)):\n",
        "        sum =sum+np.abs(p1[i]-p2[i])\n",
        "    return (sum)"
      ],
      "execution_count": 57,
      "outputs": []
    },
    {
      "cell_type": "code",
      "metadata": {
        "id": "Eakr733337Y4",
        "outputId": "c33ade0a-511b-4ef2-e4ba-a6669145041d",
        "colab": {
          "base_uri": "https://localhost:8080/"
        }
      },
      "source": [
        "dist_l1_n(data1[0,:],data1[1,:])"
      ],
      "execution_count": 58,
      "outputs": [
        {
          "output_type": "execute_result",
          "data": {
            "text/plain": [
              "5"
            ]
          },
          "metadata": {},
          "execution_count": 58
        }
      ]
    },
    {
      "cell_type": "code",
      "metadata": {
        "id": "rHGzRPC838eK"
      },
      "source": [
        "#Function คำนวณ L- ∞  ของ ข้อมูล n dim\n",
        "def dist_l3_n(p1,p2):\n",
        "    max=-100000000\n",
        "    for i in range(len(p1)):\n",
        "      max =np.abs(p1[i]-p2[i])\n",
        "    return (max)"
      ],
      "execution_count": 59,
      "outputs": []
    },
    {
      "cell_type": "code",
      "metadata": {
        "id": "yMBbxxVk38dc",
        "outputId": "b8ab354e-a585-47da-cd24-173cd22818df",
        "colab": {
          "base_uri": "https://localhost:8080/"
        }
      },
      "source": [
        "dist_l3_n(data1[0,:],data1[1,:])"
      ],
      "execution_count": 60,
      "outputs": [
        {
          "output_type": "execute_result",
          "data": {
            "text/plain": [
              "3"
            ]
          },
          "metadata": {},
          "execution_count": 60
        }
      ]
    },
    {
      "cell_type": "code",
      "metadata": {
        "id": "QcP9atYD38Y-",
        "outputId": "ba89c8d8-99c6-486e-aee1-dc99cef7ae53",
        "colab": {
          "base_uri": "https://localhost:8080/"
        }
      },
      "source": [
        "from scipy.spatial import distance #Function คำนวณ Distance Matrix ด้วย Euclidean\n",
        "data1 = np.array([[1,2],[3,5],[2,0],[4,5]])\n",
        "d = distance.euclidean([1,3,2,4],[2,5,0,5]) \n",
        "print(d)"
      ],
      "execution_count": 63,
      "outputs": [
        {
          "output_type": "stream",
          "name": "stdout",
          "text": [
            "3.1622776601683795\n"
          ]
        }
      ]
    },
    {
      "cell_type": "code",
      "metadata": {
        "id": "z89_-xed38WG"
      },
      "source": [
        ""
      ],
      "execution_count": null,
      "outputs": []
    }
  ]
}