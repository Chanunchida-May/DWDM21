{
  "nbformat": 4,
  "nbformat_minor": 0,
  "metadata": {
    "colab": {
      "name": "Chapter7_Classification(KNN-NN)ipynb",
      "provenance": [],
      "authorship_tag": "ABX9TyNALWl3Weh8rzAUIO4Ervy9",
      "include_colab_link": true
    },
    "kernelspec": {
      "name": "python3",
      "display_name": "Python 3"
    },
    "language_info": {
      "name": "python"
    }
  },
  "cells": [
    {
      "cell_type": "markdown",
      "metadata": {
        "id": "view-in-github",
        "colab_type": "text"
      },
      "source": [
        "<a href=\"https://colab.research.google.com/github/Chanunchida-May/DWDM21/blob/main/Chapter7_Classification(KNN_NN)ipynb.ipynb\" target=\"_parent\"><img src=\"https://colab.research.google.com/assets/colab-badge.svg\" alt=\"Open In Colab\"/></a>"
      ]
    },
    {
      "cell_type": "markdown",
      "metadata": {
        "id": "w3tluoOSVWuz"
      },
      "source": [
        "###Load Data"
      ]
    },
    {
      "cell_type": "code",
      "metadata": {
        "id": "g5o1s36RUGjy"
      },
      "source": [
        "from sklearn import  datasets\n",
        "\n",
        "digit_data = datasets.load_digits()\n",
        "\n",
        "X = digit_data['data']\n",
        "y = digit_data['target']"
      ],
      "execution_count": 1,
      "outputs": []
    },
    {
      "cell_type": "markdown",
      "metadata": {
        "id": "g3nxOS9TbYzs"
      },
      "source": [
        "##Split Data"
      ]
    },
    {
      "cell_type": "code",
      "metadata": {
        "id": "2W1xGHIJUitn"
      },
      "source": [
        "from sklearn.model_selection import train_test_split\n",
        "\n",
        "# train-test\n",
        "X_train, X_test, y_train, y_test = train_test_split(X, y, test_size=0.5, random_state=6)\n",
        "\n",
        "# train-validation\n",
        "X_train2, X_val, y_train2, y_val = train_test_split(X_train, y_train, test_size=0.3, random_state=6)"
      ],
      "execution_count": 2,
      "outputs": []
    },
    {
      "cell_type": "markdown",
      "metadata": {
        "id": "TgdgFr3ibjhT"
      },
      "source": [
        "###Train Model\n",
        "\n",
        "import"
      ]
    },
    {
      "cell_type": "code",
      "metadata": {
        "id": "vEx164JBUirE"
      },
      "source": [
        "from sklearn.neighbors import KNeighborsClassifier\n",
        "from sklearn.metrics import accuracy_score"
      ],
      "execution_count": 3,
      "outputs": []
    },
    {
      "cell_type": "markdown",
      "metadata": {
        "id": "Db6XoYz7bxmY"
      },
      "source": [
        "####knn1"
      ]
    },
    {
      "cell_type": "code",
      "metadata": {
        "colab": {
          "base_uri": "https://localhost:8080/"
        },
        "id": "jr7sappQUioT",
        "outputId": "7caee7b3-be59-4983-94ee-e2e577fe82aa"
      },
      "source": [
        "# Define\n",
        "neigh1 = KNeighborsClassifier(n_neighbors=3, weights='uniform')\n",
        "# Train\n",
        "neigh1.fit(X_train2,y_train2)\n",
        "# Test\n",
        "knn1_result = neigh1.predict(X_val)\n",
        "accuracy_score(y_val, knn1_result)"
      ],
      "execution_count": 4,
      "outputs": [
        {
          "output_type": "execute_result",
          "data": {
            "text/plain": [
              "0.9703703703703703"
            ]
          },
          "metadata": {},
          "execution_count": 4
        }
      ]
    },
    {
      "cell_type": "markdown",
      "metadata": {
        "id": "YCDuvGSOb2p-"
      },
      "source": [
        "####knn2"
      ]
    },
    {
      "cell_type": "code",
      "metadata": {
        "colab": {
          "base_uri": "https://localhost:8080/"
        },
        "id": "w_-OjzIWUil_",
        "outputId": "d7b15fec-beca-4883-b8e7-9c9fbd0cd212"
      },
      "source": [
        "# Define\n",
        "neigh2 = KNeighborsClassifier(n_neighbors=10, weights='distance')\n",
        "# Train\n",
        "neigh2.fit(X_train2,y_train2)\n",
        "# Test\n",
        "knn2_result = neigh2.predict(X_val)\n",
        "accuracy_score(y_val, knn2_result)"
      ],
      "execution_count": 5,
      "outputs": [
        {
          "output_type": "execute_result",
          "data": {
            "text/plain": [
              "0.9703703703703703"
            ]
          },
          "metadata": {},
          "execution_count": 5
        }
      ]
    },
    {
      "cell_type": "markdown",
      "metadata": {
        "id": "1QVzsOU4b8bk"
      },
      "source": [
        "####knn3"
      ]
    },
    {
      "cell_type": "code",
      "metadata": {
        "colab": {
          "base_uri": "https://localhost:8080/"
        },
        "id": "kJyDEMtYUikP",
        "outputId": "fd342d2b-7c28-4430-a3c0-b94ee652edf9"
      },
      "source": [
        "# Define\n",
        "neigh3 = KNeighborsClassifier(n_neighbors=1)\n",
        "# Train\n",
        "neigh3.fit(X_train2,y_train2)\n",
        "# Test\n",
        "knn3_result = neigh3.predict(X_val)\n",
        "accuracy_score(y_val, knn3_result)"
      ],
      "execution_count": 6,
      "outputs": [
        {
          "output_type": "execute_result",
          "data": {
            "text/plain": [
              "0.9777777777777777"
            ]
          },
          "metadata": {},
          "execution_count": 6
        }
      ]
    },
    {
      "cell_type": "markdown",
      "metadata": {
        "id": "KGXZ3MS2cD0G"
      },
      "source": [
        "###Retrain & Evaluate"
      ]
    },
    {
      "cell_type": "code",
      "metadata": {
        "colab": {
          "base_uri": "https://localhost:8080/"
        },
        "id": "grBKm-UcUihf",
        "outputId": "fec4d822-6d75-4d49-efe3-86e052dfdd69"
      },
      "source": [
        "# Define\n",
        "neigh3_final = KNeighborsClassifier(n_neighbors=1)\n",
        "# Train\n",
        "neigh3_final.fit(X_train,y_train)\n",
        "# Test\n",
        "knn3final_result = neigh3_final.predict(X_test)\n",
        "accuracy_score(y_test, knn3final_result)"
      ],
      "execution_count": 7,
      "outputs": [
        {
          "output_type": "execute_result",
          "data": {
            "text/plain": [
              "0.982202447163515"
            ]
          },
          "metadata": {},
          "execution_count": 7
        }
      ]
    },
    {
      "cell_type": "markdown",
      "metadata": {
        "id": "bNa2GunpMQmL"
      },
      "source": [
        "####Neural Network\n",
        "Import"
      ]
    },
    {
      "cell_type": "code",
      "metadata": {
        "id": "98V40aRBUigo"
      },
      "source": [
        "from sklearn.neural_network import MLPClassifier"
      ],
      "execution_count": 8,
      "outputs": []
    },
    {
      "cell_type": "markdown",
      "metadata": {
        "id": "KXrQTs2EMYc8"
      },
      "source": [
        "Define"
      ]
    },
    {
      "cell_type": "code",
      "metadata": {
        "id": "Yv-1depUUieR"
      },
      "source": [
        "perceptron1 = MLPClassifier(random_state=6, max_iter=2000, hidden_layer_sizes=1,learning_rate_init=0.005)"
      ],
      "execution_count": 9,
      "outputs": []
    },
    {
      "cell_type": "markdown",
      "metadata": {
        "id": "-F4rZY8JMgM7"
      },
      "source": [
        "Train - Test"
      ]
    },
    {
      "cell_type": "code",
      "metadata": {
        "id": "FwVNMEPVUibu",
        "outputId": "01a33146-a3eb-4f5d-82e7-b14e1c3f38fe",
        "colab": {
          "base_uri": "https://localhost:8080/"
        }
      },
      "source": [
        "# Train\n",
        "perceptron1.fit(X_train2,y_train2)\n",
        "# Test\n",
        "ann1_result = perceptron1.predict(X_val)\n",
        "accuracy_score(y_val, ann1_result)"
      ],
      "execution_count": 10,
      "outputs": [
        {
          "output_type": "execute_result",
          "data": {
            "text/plain": [
              "0.2777777777777778"
            ]
          },
          "metadata": {},
          "execution_count": 10
        }
      ]
    },
    {
      "cell_type": "markdown",
      "metadata": {
        "id": "jfEueNxHMlC8"
      },
      "source": [
        "###ANN 2"
      ]
    },
    {
      "cell_type": "code",
      "metadata": {
        "id": "Wd_mQEDGMV94",
        "outputId": "1673aab3-baa1-473b-f38d-d237c0226cdf",
        "colab": {
          "base_uri": "https://localhost:8080/"
        }
      },
      "source": [
        "perceptron2 = MLPClassifier(random_state=6, max_iter=2000, hidden_layer_sizes=10,learning_rate_init=0.005)\n",
        "# Train\n",
        "perceptron2.fit(X_train2,y_train2)\n",
        "# Test\n",
        "ann2_result = perceptron2.predict(X_val)\n",
        "accuracy_score(y_val, ann2_result)"
      ],
      "execution_count": 11,
      "outputs": [
        {
          "output_type": "execute_result",
          "data": {
            "text/plain": [
              "0.9185185185185185"
            ]
          },
          "metadata": {},
          "execution_count": 11
        }
      ]
    },
    {
      "cell_type": "markdown",
      "metadata": {
        "id": "0nbPHDnXMqhk"
      },
      "source": [
        "###ANN 3"
      ]
    },
    {
      "cell_type": "code",
      "metadata": {
        "id": "2Vi9ALDpMV7n",
        "outputId": "55dea84e-2647-499b-a43d-eafc72db3c5a",
        "colab": {
          "base_uri": "https://localhost:8080/"
        }
      },
      "source": [
        "perceptron3 = MLPClassifier(random_state=6, max_iter=20000, hidden_layer_sizes=10,learning_rate_init=0.001)\n",
        "# Train\n",
        "perceptron3.fit(X_train2,y_train2)\n",
        "# Test\n",
        "ann3_result = perceptron3.predict(X_val)\n",
        "accuracy_score(y_val, ann3_result)"
      ],
      "execution_count": 12,
      "outputs": [
        {
          "output_type": "execute_result",
          "data": {
            "text/plain": [
              "0.9444444444444444"
            ]
          },
          "metadata": {},
          "execution_count": 12
        }
      ]
    }
  ]
}